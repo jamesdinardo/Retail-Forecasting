{
 "cells": [
  {
   "cell_type": "code",
   "execution_count": 1,
   "metadata": {},
   "outputs": [],
   "source": [
    "import numpy as np\n",
    "import pandas as pd\n",
    "import matplotlib.pyplot as plt\n",
    "%matplotlib inline\n",
    "\n",
    "from sklearn.model_selection import train_test_split\n",
    "from sklearn.tree import DecisionTreeRegressor\n",
    "from sklearn import tree\n",
    "from sklearn.tree import export_graphviz\n",
    "from graphviz import Source\n",
    "from sklearn.model_selection import RandomizedSearchCV\n",
    "from sklearn import metrics\n"
   ]
  },
  {
   "cell_type": "code",
   "execution_count": 2,
   "metadata": {},
   "outputs": [],
   "source": [
    "#import the dataset from GitHub\n",
    "url = 'https://raw.githubusercontent.com/jamesdinardo/Retail-Forecasting/master/final_df.csv'\n",
    "df = pd.read_csv(url)"
   ]
  },
  {
   "cell_type": "code",
   "execution_count": 3,
   "metadata": {},
   "outputs": [
    {
     "name": "stdout",
     "output_type": "stream",
     "text": [
      "Shape of final dataframe: (418660, 16)\n"
     ]
    },
    {
     "data": {
      "text/html": [
       "<div>\n",
       "<style scoped>\n",
       "    .dataframe tbody tr th:only-of-type {\n",
       "        vertical-align: middle;\n",
       "    }\n",
       "\n",
       "    .dataframe tbody tr th {\n",
       "        vertical-align: top;\n",
       "    }\n",
       "\n",
       "    .dataframe thead th {\n",
       "        text-align: right;\n",
       "    }\n",
       "</style>\n",
       "<table border=\"1\" class=\"dataframe\">\n",
       "  <thead>\n",
       "    <tr style=\"text-align: right;\">\n",
       "      <th></th>\n",
       "      <th>Store</th>\n",
       "      <th>Date</th>\n",
       "      <th>Temperature</th>\n",
       "      <th>Fuel_Price</th>\n",
       "      <th>MarkDown1</th>\n",
       "      <th>MarkDown2</th>\n",
       "      <th>MarkDown3</th>\n",
       "      <th>MarkDown4</th>\n",
       "      <th>MarkDown5</th>\n",
       "      <th>CPI</th>\n",
       "      <th>Unemployment</th>\n",
       "      <th>IsHoliday</th>\n",
       "      <th>Dept</th>\n",
       "      <th>Type</th>\n",
       "      <th>Size</th>\n",
       "      <th>Weekly_Sales</th>\n",
       "    </tr>\n",
       "  </thead>\n",
       "  <tbody>\n",
       "    <tr>\n",
       "      <th>0</th>\n",
       "      <td>1</td>\n",
       "      <td>05/02/2010</td>\n",
       "      <td>42.31</td>\n",
       "      <td>2.572</td>\n",
       "      <td>0.0</td>\n",
       "      <td>0.0</td>\n",
       "      <td>0.0</td>\n",
       "      <td>0.0</td>\n",
       "      <td>0.0</td>\n",
       "      <td>211.096358</td>\n",
       "      <td>8.106</td>\n",
       "      <td>False</td>\n",
       "      <td>1</td>\n",
       "      <td>A</td>\n",
       "      <td>151315</td>\n",
       "      <td>24924.50</td>\n",
       "    </tr>\n",
       "    <tr>\n",
       "      <th>1</th>\n",
       "      <td>1</td>\n",
       "      <td>05/02/2010</td>\n",
       "      <td>42.31</td>\n",
       "      <td>2.572</td>\n",
       "      <td>0.0</td>\n",
       "      <td>0.0</td>\n",
       "      <td>0.0</td>\n",
       "      <td>0.0</td>\n",
       "      <td>0.0</td>\n",
       "      <td>211.096358</td>\n",
       "      <td>8.106</td>\n",
       "      <td>False</td>\n",
       "      <td>2</td>\n",
       "      <td>A</td>\n",
       "      <td>151315</td>\n",
       "      <td>50605.27</td>\n",
       "    </tr>\n",
       "    <tr>\n",
       "      <th>2</th>\n",
       "      <td>1</td>\n",
       "      <td>05/02/2010</td>\n",
       "      <td>42.31</td>\n",
       "      <td>2.572</td>\n",
       "      <td>0.0</td>\n",
       "      <td>0.0</td>\n",
       "      <td>0.0</td>\n",
       "      <td>0.0</td>\n",
       "      <td>0.0</td>\n",
       "      <td>211.096358</td>\n",
       "      <td>8.106</td>\n",
       "      <td>False</td>\n",
       "      <td>3</td>\n",
       "      <td>A</td>\n",
       "      <td>151315</td>\n",
       "      <td>13740.12</td>\n",
       "    </tr>\n",
       "    <tr>\n",
       "      <th>3</th>\n",
       "      <td>1</td>\n",
       "      <td>05/02/2010</td>\n",
       "      <td>42.31</td>\n",
       "      <td>2.572</td>\n",
       "      <td>0.0</td>\n",
       "      <td>0.0</td>\n",
       "      <td>0.0</td>\n",
       "      <td>0.0</td>\n",
       "      <td>0.0</td>\n",
       "      <td>211.096358</td>\n",
       "      <td>8.106</td>\n",
       "      <td>False</td>\n",
       "      <td>4</td>\n",
       "      <td>A</td>\n",
       "      <td>151315</td>\n",
       "      <td>39954.04</td>\n",
       "    </tr>\n",
       "    <tr>\n",
       "      <th>4</th>\n",
       "      <td>1</td>\n",
       "      <td>05/02/2010</td>\n",
       "      <td>42.31</td>\n",
       "      <td>2.572</td>\n",
       "      <td>0.0</td>\n",
       "      <td>0.0</td>\n",
       "      <td>0.0</td>\n",
       "      <td>0.0</td>\n",
       "      <td>0.0</td>\n",
       "      <td>211.096358</td>\n",
       "      <td>8.106</td>\n",
       "      <td>False</td>\n",
       "      <td>5</td>\n",
       "      <td>A</td>\n",
       "      <td>151315</td>\n",
       "      <td>32229.38</td>\n",
       "    </tr>\n",
       "  </tbody>\n",
       "</table>\n",
       "</div>"
      ],
      "text/plain": [
       "   Store        Date  Temperature  Fuel_Price  MarkDown1  MarkDown2  \\\n",
       "0      1  05/02/2010        42.31       2.572        0.0        0.0   \n",
       "1      1  05/02/2010        42.31       2.572        0.0        0.0   \n",
       "2      1  05/02/2010        42.31       2.572        0.0        0.0   \n",
       "3      1  05/02/2010        42.31       2.572        0.0        0.0   \n",
       "4      1  05/02/2010        42.31       2.572        0.0        0.0   \n",
       "\n",
       "   MarkDown3  MarkDown4  MarkDown5         CPI  Unemployment  IsHoliday  Dept  \\\n",
       "0        0.0        0.0        0.0  211.096358         8.106      False     1   \n",
       "1        0.0        0.0        0.0  211.096358         8.106      False     2   \n",
       "2        0.0        0.0        0.0  211.096358         8.106      False     3   \n",
       "3        0.0        0.0        0.0  211.096358         8.106      False     4   \n",
       "4        0.0        0.0        0.0  211.096358         8.106      False     5   \n",
       "\n",
       "  Type    Size  Weekly_Sales  \n",
       "0    A  151315      24924.50  \n",
       "1    A  151315      50605.27  \n",
       "2    A  151315      13740.12  \n",
       "3    A  151315      39954.04  \n",
       "4    A  151315      32229.38  "
      ]
     },
     "execution_count": 3,
     "metadata": {},
     "output_type": "execute_result"
    }
   ],
   "source": [
    "print('Shape of final dataframe: {}'.format(df.shape))\n",
    "df.head()"
   ]
  },
  {
   "cell_type": "code",
   "execution_count": 4,
   "metadata": {},
   "outputs": [],
   "source": [
    "#convert Date column to datetime\n",
    "df['Date'] = pd.to_datetime(df['Date'])\n",
    "\n",
    "#convert Store, Dept, and Type columns to category\n",
    "df['Store'] = df['Store'].astype('category')\n",
    "\n",
    "df['Dept'] = df['Dept'].astype('category')\n",
    "\n",
    "df['Type'] = df['Type'].astype('category')"
   ]
  },
  {
   "cell_type": "code",
   "execution_count": 5,
   "metadata": {},
   "outputs": [],
   "source": [
    "#create separate features for Week, Month, and Year\n",
    "df['Month'] = df['Date'].dt.month\n",
    "df['Month'] = df['Month'].astype('category')\n",
    "\n",
    "df['Week'] = df['Date'].dt.week\n",
    "df['Week'] = df['Week'].astype('category')\n",
    "\n",
    "df['Year'] = df['Date'].dt.year\n",
    "df['Year'] = df['Year'].astype('category')"
   ]
  },
  {
   "cell_type": "code",
   "execution_count": 6,
   "metadata": {},
   "outputs": [
    {
     "name": "stdout",
     "output_type": "stream",
     "text": [
      "<class 'pandas.core.frame.DataFrame'>\n",
      "RangeIndex: 418660 entries, 0 to 418659\n",
      "Data columns (total 19 columns):\n",
      " #   Column        Non-Null Count   Dtype         \n",
      "---  ------        --------------   -----         \n",
      " 0   Store         418660 non-null  category      \n",
      " 1   Date          418660 non-null  datetime64[ns]\n",
      " 2   Temperature   418660 non-null  float64       \n",
      " 3   Fuel_Price    418660 non-null  float64       \n",
      " 4   MarkDown1     418660 non-null  float64       \n",
      " 5   MarkDown2     418660 non-null  float64       \n",
      " 6   MarkDown3     418660 non-null  float64       \n",
      " 7   MarkDown4     418660 non-null  float64       \n",
      " 8   MarkDown5     418660 non-null  float64       \n",
      " 9   CPI           418660 non-null  float64       \n",
      " 10  Unemployment  418660 non-null  float64       \n",
      " 11  IsHoliday     418660 non-null  bool          \n",
      " 12  Dept          418660 non-null  category      \n",
      " 13  Type          418660 non-null  category      \n",
      " 14  Size          418660 non-null  int64         \n",
      " 15  Weekly_Sales  418660 non-null  float64       \n",
      " 16  Month         418660 non-null  category      \n",
      " 17  Week          418660 non-null  category      \n",
      " 18  Year          418660 non-null  category      \n",
      "dtypes: bool(1), category(6), datetime64[ns](1), float64(10), int64(1)\n",
      "memory usage: 41.1 MB\n"
     ]
    }
   ],
   "source": [
    "df.info()"
   ]
  },
  {
   "cell_type": "code",
   "execution_count": 7,
   "metadata": {},
   "outputs": [],
   "source": [
    "df.drop('Date', axis=1, inplace=True)"
   ]
  },
  {
   "cell_type": "code",
   "execution_count": 8,
   "metadata": {},
   "outputs": [],
   "source": [
    "#create dummy variables\n",
    "df_dummies = pd.get_dummies(df)"
   ]
  },
  {
   "cell_type": "code",
   "execution_count": 9,
   "metadata": {},
   "outputs": [],
   "source": [
    "X = df_dummies.drop('Weekly_Sales', axis=1).values\n",
    "y = df_dummies['Weekly_Sales'].values.reshape(-1, 1)"
   ]
  },
  {
   "cell_type": "code",
   "execution_count": 10,
   "metadata": {},
   "outputs": [],
   "source": [
    "X_train, X_test, y_train, y_test = train_test_split(X, y, test_size=0.25, random_state=0)"
   ]
  },
  {
   "cell_type": "code",
   "execution_count": 11,
   "metadata": {},
   "outputs": [],
   "source": [
    "dt = DecisionTreeRegressor(max_depth=15, random_state=0)"
   ]
  },
  {
   "cell_type": "code",
   "execution_count": 12,
   "metadata": {},
   "outputs": [
    {
     "data": {
      "text/plain": [
       "DecisionTreeRegressor(max_depth=15, random_state=0)"
      ]
     },
     "execution_count": 12,
     "metadata": {},
     "output_type": "execute_result"
    }
   ],
   "source": [
    "dt.fit(X_train, y_train)"
   ]
  },
  {
   "cell_type": "code",
   "execution_count": 13,
   "metadata": {},
   "outputs": [
    {
     "name": "stdout",
     "output_type": "stream",
     "text": [
      "R2 with max depth of 12: 0.7952619820850957\n",
      "RMSE with max depth of 12: 10213.480541797033\n"
     ]
    }
   ],
   "source": [
    "y_pred = dt.predict(X_test)\n",
    "\n",
    "print('R2 with max depth of 12: {}'.format(metrics.r2_score(y_test, y_pred)))\n",
    "print('RMSE with max depth of 12: {}'.format(np.sqrt(metrics.mean_squared_error(y_test, y_pred))))"
   ]
  },
  {
   "cell_type": "code",
   "execution_count": 14,
   "metadata": {},
   "outputs": [
    {
     "data": {
      "text/plain": [
       "DecisionTreeRegressor(max_depth=4, random_state=0)"
      ]
     },
     "execution_count": 14,
     "metadata": {},
     "output_type": "execute_result"
    }
   ],
   "source": [
    "#Create a decision tree with max depth of 4 for plotting\n",
    "dt_pruned = DecisionTreeRegressor(random_state=0, max_depth=4)\n",
    "dt_pruned.fit(X_train, y_train)\n"
   ]
  },
  {
   "cell_type": "code",
   "execution_count": 15,
   "metadata": {},
   "outputs": [
    {
     "data": {
      "image/png": "[encoded data removed]",
      "text/plain": [
       "<Figure size 1152x720 with 1 Axes>"
      ]
     },
     "metadata": {
      "needs_background": "light"
     },
     "output_type": "display_data"
    }
   ],
   "source": [
    "#plot the tree\n",
    "features = list(df_dummies.drop('Weekly_Sales', axis=1).columns)\n",
    "\n",
    "fig, ax = plt.subplots(figsize=(16,10))\n",
    "tree.plot_tree(dt_pruned, feature_names=features, fontsize=8, filled=True)\n",
    "plt.show()"
   ]
  },
  {
   "cell_type": "markdown",
   "metadata": {},
   "source": [
    "From this it looks like the department and size are the biggest predictors of sales. We can also take a look at the feature importances:"
   ]
  },
  {
   "cell_type": "code",
   "execution_count": 16,
   "metadata": {},
   "outputs": [
    {
     "data": {
      "text/html": [
       "<div>\n",
       "<style scoped>\n",
       "    .dataframe tbody tr th:only-of-type {\n",
       "        vertical-align: middle;\n",
       "    }\n",
       "\n",
       "    .dataframe tbody tr th {\n",
       "        vertical-align: top;\n",
       "    }\n",
       "\n",
       "    .dataframe thead th {\n",
       "        text-align: right;\n",
       "    }\n",
       "</style>\n",
       "<table border=\"1\" class=\"dataframe\">\n",
       "  <thead>\n",
       "    <tr style=\"text-align: right;\">\n",
       "      <th></th>\n",
       "      <th>Feature</th>\n",
       "      <th>Feature Importance</th>\n",
       "    </tr>\n",
       "  </thead>\n",
       "  <tbody>\n",
       "    <tr>\n",
       "      <th>10</th>\n",
       "      <td>Size</td>\n",
       "      <td>0.231487</td>\n",
       "    </tr>\n",
       "    <tr>\n",
       "      <th>129</th>\n",
       "      <td>Dept_92</td>\n",
       "      <td>0.129930</td>\n",
       "    </tr>\n",
       "    <tr>\n",
       "      <th>132</th>\n",
       "      <td>Dept_95</td>\n",
       "      <td>0.112389</td>\n",
       "    </tr>\n",
       "    <tr>\n",
       "      <th>92</th>\n",
       "      <td>Dept_38</td>\n",
       "      <td>0.081580</td>\n",
       "    </tr>\n",
       "    <tr>\n",
       "      <th>116</th>\n",
       "      <td>Dept_72</td>\n",
       "      <td>0.048859</td>\n",
       "    </tr>\n",
       "    <tr>\n",
       "      <th>127</th>\n",
       "      <td>Dept_90</td>\n",
       "      <td>0.039314</td>\n",
       "    </tr>\n",
       "    <tr>\n",
       "      <th>94</th>\n",
       "      <td>Dept_40</td>\n",
       "      <td>0.038625</td>\n",
       "    </tr>\n",
       "    <tr>\n",
       "      <th>57</th>\n",
       "      <td>Dept_2</td>\n",
       "      <td>0.036745</td>\n",
       "    </tr>\n",
       "    <tr>\n",
       "      <th>128</th>\n",
       "      <td>Dept_91</td>\n",
       "      <td>0.029368</td>\n",
       "    </tr>\n",
       "    <tr>\n",
       "      <th>131</th>\n",
       "      <td>Dept_94</td>\n",
       "      <td>0.023363</td>\n",
       "    </tr>\n",
       "    <tr>\n",
       "      <th>198</th>\n",
       "      <td>Week_47</td>\n",
       "      <td>0.020877</td>\n",
       "    </tr>\n",
       "    <tr>\n",
       "      <th>20</th>\n",
       "      <td>Store_10</td>\n",
       "      <td>0.020144</td>\n",
       "    </tr>\n",
       "    <tr>\n",
       "      <th>68</th>\n",
       "      <td>Dept_13</td>\n",
       "      <td>0.018937</td>\n",
       "    </tr>\n",
       "    <tr>\n",
       "      <th>63</th>\n",
       "      <td>Dept_8</td>\n",
       "      <td>0.017665</td>\n",
       "    </tr>\n",
       "    <tr>\n",
       "      <th>130</th>\n",
       "      <td>Dept_93</td>\n",
       "      <td>0.015564</td>\n",
       "    </tr>\n",
       "  </tbody>\n",
       "</table>\n",
       "</div>"
      ],
      "text/plain": [
       "      Feature  Feature Importance\n",
       "10       Size            0.231487\n",
       "129   Dept_92            0.129930\n",
       "132   Dept_95            0.112389\n",
       "92    Dept_38            0.081580\n",
       "116   Dept_72            0.048859\n",
       "127   Dept_90            0.039314\n",
       "94    Dept_40            0.038625\n",
       "57     Dept_2            0.036745\n",
       "128   Dept_91            0.029368\n",
       "131   Dept_94            0.023363\n",
       "198   Week_47            0.020877\n",
       "20   Store_10            0.020144\n",
       "68    Dept_13            0.018937\n",
       "63     Dept_8            0.017665\n",
       "130   Dept_93            0.015564"
      ]
     },
     "execution_count": 16,
     "metadata": {},
     "output_type": "execute_result"
    }
   ],
   "source": [
    "#calculate feature importances\n",
    "pd.DataFrame({'Feature': features, 'Feature Importance':dt.feature_importances_}).sort_values(by='Feature Importance', ascending=False).head(15)\n"
   ]
  },
  {
   "cell_type": "markdown",
   "metadata": {},
   "source": [
    "Next, let's try out a few different hyperparameter values for max_depth, max_leaf_nodes, and min_sample_split"
   ]
  },
  {
   "cell_type": "code",
   "execution_count": 18,
   "metadata": {},
   "outputs": [
    {
     "name": "stdout",
     "output_type": "stream",
     "text": [
      "Max Depth of 4: 0.39176342471638936\n",
      "Max Depth of 10: 0.6906867054599464\n",
      "Max Depth of 15: 0.7952619820850957\n",
      "Max Depth of 20: 0.8513349930179878\n",
      "Max Depth of 30: 0.9080193432865895\n",
      "Max Depth of 40: 0.937263634973241\n",
      "Max Depth of None: 0.9505648969358046\n"
     ]
    }
   ],
   "source": [
    "#iterate over different values for max_depth\n",
    "md_values = np.array([4, 10, 15, 20, 30, 40, None])\n",
    "\n",
    "for i in md_values:\n",
    "    dt = DecisionTreeRegressor(random_state=0, max_depth=i)\n",
    "    dt.fit(X_train, y_train)\n",
    "    print('Max Depth of {}: {}'.format(i, dt.score(X_test, y_test)))"
   ]
  },
  {
   "cell_type": "code",
   "execution_count": 19,
   "metadata": {},
   "outputs": [
    {
     "name": "stdout",
     "output_type": "stream",
     "text": [
      "Max leaf nodes = 5: 0.30998517385298474\n",
      "Max leaf nodes = 10: 0.4722299620099326\n",
      "Max leaf nodes = 15: 0.5636985675993802\n",
      "Max leaf nodes = 20: 0.6037967363769178\n",
      "Max leaf nodes = 25: 0.618977587100195\n",
      "Max leaf nodes = 30: 0.6309801466263454\n",
      "Max leaf nodes = 35: 0.6413588866309488\n",
      "Max leaf nodes = None: 0.6906867054599464\n"
     ]
    }
   ],
   "source": [
    "#iterate over different possible max leaf node values and see which performs best\n",
    "ml_values = np.array([5, 10, 15, 20, 25, 30, 35, None])\n",
    "for i in ml_values:\n",
    "    dt = DecisionTreeRegressor(random_state=0, max_depth=10, max_leaf_nodes=i)\n",
    "    dt.fit(X_train, y_train)\n",
    "    print('Max leaf nodes = {}: {}'.format(i, dt.score(X_test, y_test)))\n",
    "                    "
   ]
  },
  {
   "cell_type": "code",
   "execution_count": 21,
   "metadata": {},
   "outputs": [
    {
     "name": "stdout",
     "output_type": "stream",
     "text": [
      "Min sample split = 0.001: 0.6839724125843948\n",
      "Min sample split = 0.01: 0.628860924026562\n",
      "Min sample split = 0.1: 0.47639366318261833\n",
      "Min sample split = 0.2: 0.47639366318261833\n",
      "Min sample split = 0.3: 0.4739311433009574\n",
      "Min sample split = 0.4: 0.42877321702443694\n"
     ]
    }
   ],
   "source": [
    "#iterate over different possible min_sample_split and see which performs best\n",
    "ms_values = np.array([0.001, 0.01, 0.1, .2, .3, .4])\n",
    "for i in ms_values:\n",
    "    dt = DecisionTreeRegressor(random_state=0, max_depth=10, min_samples_split=i)\n",
    "    dt.fit(X_train, y_train)\n",
    "    print('Min sample split = {}: {}'.format(i, dt.score(X_test, y_test)))\n",
    "                    "
   ]
  },
  {
   "cell_type": "markdown",
   "metadata": {},
   "source": [
    "The default values for max_depth, max_leaf_nodes, and min_sample_split result in the highest scores, but are likely overfitting. In other words, if we allow the tree to grow as much as it wants, it will perform very well on the validation set but may not generalize well to new data."
   ]
  },
  {
   "cell_type": "markdown",
   "metadata": {},
   "source": [
    "Instead of splitting the train and test data randomly, we can train only on data from 2010-2011, and predict the sales for store departments in 2012"
   ]
  },
  {
   "cell_type": "code",
   "execution_count": 22,
   "metadata": {},
   "outputs": [
    {
     "name": "stdout",
     "output_type": "stream",
     "text": [
      "(293146, 207)\n",
      "(125514, 207)\n"
     ]
    }
   ],
   "source": [
    "#split into train test based on year\n",
    "X_train = df_dummies.loc[(df['Year']==2010) | (df['Year']==2011), :].drop('Weekly_Sales', axis=1).values\n",
    "X_test = df_dummies.loc[df['Year']==2012, :].drop('Weekly_Sales', axis=1).values\n",
    "y_train = df_dummies.loc[(df['Year']==2010) | (df['Year']==2011), 'Weekly_Sales'].values.reshape(-1, 1)\n",
    "y_test = df_dummies.loc[df['Year']==2012, 'Weekly_Sales'].values.reshape(-1, 1)\n",
    "\n",
    "print(X_train.shape)\n",
    "print(X_test.shape)"
   ]
  },
  {
   "cell_type": "code",
   "execution_count": 23,
   "metadata": {},
   "outputs": [
    {
     "name": "stdout",
     "output_type": "stream",
     "text": [
      "Max Depth of 4: 0.41826425160969205\n",
      "Max Depth of 10: 0.6984226990628779\n",
      "Max Depth of 15: 0.7867233808754284\n",
      "Max Depth of 20: 0.8145033768238643\n",
      "Max Depth of 30: 0.8521830774412038\n",
      "Max Depth of 40: 0.8709020352107212\n",
      "Max Depth of None: 0.8723523848091497\n"
     ]
    }
   ],
   "source": [
    "#iterate over different values for max_depth\n",
    "md_values = np.array([4, 10, 15, 20, 30, 40, None])\n",
    "\n",
    "for i in md_values:\n",
    "    dt = DecisionTreeRegressor(random_state=0, max_depth=i)\n",
    "    dt.fit(X_train, y_train)\n",
    "    print('Max Depth of {}: {}'.format(i, dt.score(X_test, y_test)))"
   ]
  },
  {
   "cell_type": "markdown",
   "metadata": {},
   "source": [
    "Splitting the train/test data this reduces performance compared to randomly splitting the data, but still has good results."
   ]
  },
  {
   "cell_type": "markdown",
   "metadata": {},
   "source": [
    "Finally, we can try to reduce the dimensionality of the dataset, to see if we can still get good performance with fewer features. Let's use only the top 25% features by feature importance"
   ]
  },
  {
   "cell_type": "code",
   "execution_count": 24,
   "metadata": {},
   "outputs": [],
   "source": [
    "dt = DecisionTreeRegressor(max_depth=10, random_state=0)"
   ]
  },
  {
   "cell_type": "code",
   "execution_count": 25,
   "metadata": {},
   "outputs": [
    {
     "data": {
      "text/plain": [
       "DecisionTreeRegressor(max_depth=10, random_state=0)"
      ]
     },
     "execution_count": 25,
     "metadata": {},
     "output_type": "execute_result"
    }
   ],
   "source": [
    "dt.fit(X_train, y_train)"
   ]
  },
  {
   "cell_type": "code",
   "execution_count": 26,
   "metadata": {},
   "outputs": [
    {
     "name": "stdout",
     "output_type": "stream",
     "text": [
      "R2 with max depth of 10, all features: 0.6984226990628779\n",
      "RMSE with max depth of 10, all features: 12145.742574130041\n"
     ]
    }
   ],
   "source": [
    "y_pred = dt.predict(X_test)\n",
    "\n",
    "print('R2 with max depth of 10, all features: {}'.format(dt.score(X_test, y_test)))\n",
    "print('RMSE with max depth of 10, all features: {}'.format(np.sqrt(metrics.mean_squared_error(y_test, y_pred))))"
   ]
  },
  {
   "cell_type": "code",
   "execution_count": 27,
   "metadata": {},
   "outputs": [
    {
     "name": "stdout",
     "output_type": "stream",
     "text": [
      "Total features: 207\n"
     ]
    },
    {
     "data": {
      "text/html": [
       "<div>\n",
       "<style scoped>\n",
       "    .dataframe tbody tr th:only-of-type {\n",
       "        vertical-align: middle;\n",
       "    }\n",
       "\n",
       "    .dataframe tbody tr th {\n",
       "        vertical-align: top;\n",
       "    }\n",
       "\n",
       "    .dataframe thead th {\n",
       "        text-align: right;\n",
       "    }\n",
       "</style>\n",
       "<table border=\"1\" class=\"dataframe\">\n",
       "  <thead>\n",
       "    <tr style=\"text-align: right;\">\n",
       "      <th></th>\n",
       "      <th>Feature</th>\n",
       "      <th>Feature Importance</th>\n",
       "    </tr>\n",
       "  </thead>\n",
       "  <tbody>\n",
       "    <tr>\n",
       "      <th>10</th>\n",
       "      <td>Size</td>\n",
       "      <td>0.225039</td>\n",
       "    </tr>\n",
       "    <tr>\n",
       "      <th>129</th>\n",
       "      <td>Dept_92</td>\n",
       "      <td>0.142726</td>\n",
       "    </tr>\n",
       "    <tr>\n",
       "      <th>132</th>\n",
       "      <td>Dept_95</td>\n",
       "      <td>0.124840</td>\n",
       "    </tr>\n",
       "    <tr>\n",
       "      <th>92</th>\n",
       "      <td>Dept_38</td>\n",
       "      <td>0.091053</td>\n",
       "    </tr>\n",
       "    <tr>\n",
       "      <th>116</th>\n",
       "      <td>Dept_72</td>\n",
       "      <td>0.063943</td>\n",
       "    </tr>\n",
       "    <tr>\n",
       "      <th>127</th>\n",
       "      <td>Dept_90</td>\n",
       "      <td>0.060235</td>\n",
       "    </tr>\n",
       "    <tr>\n",
       "      <th>94</th>\n",
       "      <td>Dept_40</td>\n",
       "      <td>0.049398</td>\n",
       "    </tr>\n",
       "    <tr>\n",
       "      <th>57</th>\n",
       "      <td>Dept_2</td>\n",
       "      <td>0.047278</td>\n",
       "    </tr>\n",
       "    <tr>\n",
       "      <th>128</th>\n",
       "      <td>Dept_91</td>\n",
       "      <td>0.029773</td>\n",
       "    </tr>\n",
       "    <tr>\n",
       "      <th>198</th>\n",
       "      <td>Week_47</td>\n",
       "      <td>0.029687</td>\n",
       "    </tr>\n",
       "    <tr>\n",
       "      <th>131</th>\n",
       "      <td>Dept_94</td>\n",
       "      <td>0.026563</td>\n",
       "    </tr>\n",
       "    <tr>\n",
       "      <th>20</th>\n",
       "      <td>Store_10</td>\n",
       "      <td>0.021055</td>\n",
       "    </tr>\n",
       "    <tr>\n",
       "      <th>7</th>\n",
       "      <td>CPI</td>\n",
       "      <td>0.007284</td>\n",
       "    </tr>\n",
       "    <tr>\n",
       "      <th>63</th>\n",
       "      <td>Dept_8</td>\n",
       "      <td>0.007273</td>\n",
       "    </tr>\n",
       "    <tr>\n",
       "      <th>68</th>\n",
       "      <td>Dept_13</td>\n",
       "      <td>0.006967</td>\n",
       "    </tr>\n",
       "    <tr>\n",
       "      <th>202</th>\n",
       "      <td>Week_51</td>\n",
       "      <td>0.006945</td>\n",
       "    </tr>\n",
       "    <tr>\n",
       "      <th>24</th>\n",
       "      <td>Store_14</td>\n",
       "      <td>0.005627</td>\n",
       "    </tr>\n",
       "    <tr>\n",
       "      <th>11</th>\n",
       "      <td>Store_1</td>\n",
       "      <td>0.004368</td>\n",
       "    </tr>\n",
       "    <tr>\n",
       "      <th>8</th>\n",
       "      <td>Unemployment</td>\n",
       "      <td>0.004215</td>\n",
       "    </tr>\n",
       "    <tr>\n",
       "      <th>139</th>\n",
       "      <td>Type_C</td>\n",
       "      <td>0.003699</td>\n",
       "    </tr>\n",
       "    <tr>\n",
       "      <th>13</th>\n",
       "      <td>Store_3</td>\n",
       "      <td>0.003681</td>\n",
       "    </tr>\n",
       "    <tr>\n",
       "      <th>45</th>\n",
       "      <td>Store_35</td>\n",
       "      <td>0.003659</td>\n",
       "    </tr>\n",
       "    <tr>\n",
       "      <th>138</th>\n",
       "      <td>Type_B</td>\n",
       "      <td>0.003532</td>\n",
       "    </tr>\n",
       "    <tr>\n",
       "      <th>0</th>\n",
       "      <td>Temperature</td>\n",
       "      <td>0.003113</td>\n",
       "    </tr>\n",
       "    <tr>\n",
       "      <th>36</th>\n",
       "      <td>Store_26</td>\n",
       "      <td>0.002799</td>\n",
       "    </tr>\n",
       "    <tr>\n",
       "      <th>21</th>\n",
       "      <td>Store_11</td>\n",
       "      <td>0.002425</td>\n",
       "    </tr>\n",
       "    <tr>\n",
       "      <th>30</th>\n",
       "      <td>Store_20</td>\n",
       "      <td>0.002272</td>\n",
       "    </tr>\n",
       "    <tr>\n",
       "      <th>16</th>\n",
       "      <td>Store_6</td>\n",
       "      <td>0.002067</td>\n",
       "    </tr>\n",
       "    <tr>\n",
       "      <th>53</th>\n",
       "      <td>Store_43</td>\n",
       "      <td>0.001611</td>\n",
       "    </tr>\n",
       "    <tr>\n",
       "      <th>43</th>\n",
       "      <td>Store_33</td>\n",
       "      <td>0.001548</td>\n",
       "    </tr>\n",
       "    <tr>\n",
       "      <th>23</th>\n",
       "      <td>Store_13</td>\n",
       "      <td>0.001503</td>\n",
       "    </tr>\n",
       "    <tr>\n",
       "      <th>46</th>\n",
       "      <td>Store_36</td>\n",
       "      <td>0.001489</td>\n",
       "    </tr>\n",
       "    <tr>\n",
       "      <th>37</th>\n",
       "      <td>Store_27</td>\n",
       "      <td>0.001468</td>\n",
       "    </tr>\n",
       "    <tr>\n",
       "      <th>14</th>\n",
       "      <td>Store_4</td>\n",
       "      <td>0.001206</td>\n",
       "    </tr>\n",
       "    <tr>\n",
       "      <th>52</th>\n",
       "      <td>Store_42</td>\n",
       "      <td>0.001180</td>\n",
       "    </tr>\n",
       "    <tr>\n",
       "      <th>42</th>\n",
       "      <td>Store_32</td>\n",
       "      <td>0.000930</td>\n",
       "    </tr>\n",
       "    <tr>\n",
       "      <th>28</th>\n",
       "      <td>Store_18</td>\n",
       "      <td>0.000749</td>\n",
       "    </tr>\n",
       "    <tr>\n",
       "      <th>25</th>\n",
       "      <td>Store_15</td>\n",
       "      <td>0.000665</td>\n",
       "    </tr>\n",
       "    <tr>\n",
       "      <th>49</th>\n",
       "      <td>Store_39</td>\n",
       "      <td>0.000655</td>\n",
       "    </tr>\n",
       "    <tr>\n",
       "      <th>33</th>\n",
       "      <td>Store_23</td>\n",
       "      <td>0.000640</td>\n",
       "    </tr>\n",
       "    <tr>\n",
       "      <th>34</th>\n",
       "      <td>Store_24</td>\n",
       "      <td>0.000586</td>\n",
       "    </tr>\n",
       "    <tr>\n",
       "      <th>4</th>\n",
       "      <td>MarkDown3</td>\n",
       "      <td>0.000457</td>\n",
       "    </tr>\n",
       "    <tr>\n",
       "      <th>50</th>\n",
       "      <td>Store_40</td>\n",
       "      <td>0.000455</td>\n",
       "    </tr>\n",
       "    <tr>\n",
       "      <th>12</th>\n",
       "      <td>Store_2</td>\n",
       "      <td>0.000371</td>\n",
       "    </tr>\n",
       "    <tr>\n",
       "      <th>27</th>\n",
       "      <td>Store_17</td>\n",
       "      <td>0.000328</td>\n",
       "    </tr>\n",
       "    <tr>\n",
       "      <th>1</th>\n",
       "      <td>Fuel_Price</td>\n",
       "      <td>0.000321</td>\n",
       "    </tr>\n",
       "    <tr>\n",
       "      <th>32</th>\n",
       "      <td>Store_22</td>\n",
       "      <td>0.000293</td>\n",
       "    </tr>\n",
       "    <tr>\n",
       "      <th>41</th>\n",
       "      <td>Store_31</td>\n",
       "      <td>0.000248</td>\n",
       "    </tr>\n",
       "    <tr>\n",
       "      <th>38</th>\n",
       "      <td>Store_28</td>\n",
       "      <td>0.000243</td>\n",
       "    </tr>\n",
       "    <tr>\n",
       "      <th>137</th>\n",
       "      <td>Type_A</td>\n",
       "      <td>0.000205</td>\n",
       "    </tr>\n",
       "  </tbody>\n",
       "</table>\n",
       "</div>"
      ],
      "text/plain": [
       "          Feature  Feature Importance\n",
       "10           Size            0.225039\n",
       "129       Dept_92            0.142726\n",
       "132       Dept_95            0.124840\n",
       "92        Dept_38            0.091053\n",
       "116       Dept_72            0.063943\n",
       "127       Dept_90            0.060235\n",
       "94        Dept_40            0.049398\n",
       "57         Dept_2            0.047278\n",
       "128       Dept_91            0.029773\n",
       "198       Week_47            0.029687\n",
       "131       Dept_94            0.026563\n",
       "20       Store_10            0.021055\n",
       "7             CPI            0.007284\n",
       "63         Dept_8            0.007273\n",
       "68        Dept_13            0.006967\n",
       "202       Week_51            0.006945\n",
       "24       Store_14            0.005627\n",
       "11        Store_1            0.004368\n",
       "8    Unemployment            0.004215\n",
       "139        Type_C            0.003699\n",
       "13        Store_3            0.003681\n",
       "45       Store_35            0.003659\n",
       "138        Type_B            0.003532\n",
       "0     Temperature            0.003113\n",
       "36       Store_26            0.002799\n",
       "21       Store_11            0.002425\n",
       "30       Store_20            0.002272\n",
       "16        Store_6            0.002067\n",
       "53       Store_43            0.001611\n",
       "43       Store_33            0.001548\n",
       "23       Store_13            0.001503\n",
       "46       Store_36            0.001489\n",
       "37       Store_27            0.001468\n",
       "14        Store_4            0.001206\n",
       "52       Store_42            0.001180\n",
       "42       Store_32            0.000930\n",
       "28       Store_18            0.000749\n",
       "25       Store_15            0.000665\n",
       "49       Store_39            0.000655\n",
       "33       Store_23            0.000640\n",
       "34       Store_24            0.000586\n",
       "4       MarkDown3            0.000457\n",
       "50       Store_40            0.000455\n",
       "12        Store_2            0.000371\n",
       "27       Store_17            0.000328\n",
       "1      Fuel_Price            0.000321\n",
       "32       Store_22            0.000293\n",
       "41       Store_31            0.000248\n",
       "38       Store_28            0.000243\n",
       "137        Type_A            0.000205"
      ]
     },
     "metadata": {},
     "output_type": "display_data"
    }
   ],
   "source": [
    "#calculate feature importances\n",
    "print('Total features: {}'.format(len(dt.feature_importances_)))\n",
    "feature_importances = pd.DataFrame({'Feature': features, 'Feature Importance':dt.feature_importances_}).sort_values(by='Feature Importance', ascending=False)\n",
    "display(feature_importances.iloc[:50, :])"
   ]
  },
  {
   "cell_type": "code",
   "execution_count": 28,
   "metadata": {},
   "outputs": [],
   "source": [
    "#drop all features except the top 50 and years\n",
    "features_to_drop = feature_importances.iloc[50:, 0]\n",
    "features_to_drop = features_to_drop[~features_to_drop.str.contains('Year')]"
   ]
  },
  {
   "cell_type": "code",
   "execution_count": 29,
   "metadata": {},
   "outputs": [
    {
     "data": {
      "text/plain": [
       "(418660, 54)"
      ]
     },
     "execution_count": 29,
     "metadata": {},
     "output_type": "execute_result"
    }
   ],
   "source": [
    "df_dummies_top_features = df_dummies.drop(features_to_drop, axis=1)\n",
    "df_dummies_top_features.shape"
   ]
  },
  {
   "cell_type": "code",
   "execution_count": 30,
   "metadata": {},
   "outputs": [
    {
     "name": "stdout",
     "output_type": "stream",
     "text": [
      "(293146, 53)\n",
      "(125514, 53)\n"
     ]
    }
   ],
   "source": [
    "#split into train test based on year\n",
    "X_train = df_dummies_top_features.loc[(df['Year']==2010) | (df['Year']==2011), :].drop('Weekly_Sales', axis=1).values\n",
    "X_test = df_dummies_top_features.loc[df['Year']==2012, :].drop('Weekly_Sales', axis=1).values\n",
    "y_train = df_dummies_top_features.loc[(df['Year']==2010) | (df['Year']==2011), 'Weekly_Sales'].values.reshape(-1, 1)\n",
    "y_test = df_dummies_top_features.loc[df['Year']==2012, 'Weekly_Sales'].values.reshape(-1, 1)\n",
    "\n",
    "print(X_train.shape)\n",
    "print(X_test.shape)"
   ]
  },
  {
   "cell_type": "code",
   "execution_count": 31,
   "metadata": {},
   "outputs": [],
   "source": [
    "dt = DecisionTreeRegressor(max_depth=10, random_state=0)"
   ]
  },
  {
   "cell_type": "code",
   "execution_count": 32,
   "metadata": {},
   "outputs": [
    {
     "data": {
      "text/plain": [
       "DecisionTreeRegressor(max_depth=10, random_state=0)"
      ]
     },
     "execution_count": 32,
     "metadata": {},
     "output_type": "execute_result"
    }
   ],
   "source": [
    "dt.fit(X_train, y_train)"
   ]
  },
  {
   "cell_type": "code",
   "execution_count": 33,
   "metadata": {},
   "outputs": [
    {
     "name": "stdout",
     "output_type": "stream",
     "text": [
      "R2 with max depth of 10, 53 features: 0.6978883310023785\n",
      "RMSE with max depth of 10, 53 features: 12156.498397546047\n"
     ]
    }
   ],
   "source": [
    "y_pred = dt.predict(X_test)\n",
    "\n",
    "print('R2 with max depth of 10, 53 features: {}'.format(dt.score(X_test, y_test)))\n",
    "print('RMSE with max depth of 10, 53 features: {}'.format(np.sqrt(metrics.mean_squared_error(y_test, y_pred))))"
   ]
  },
  {
   "cell_type": "markdown",
   "metadata": {},
   "source": [
    "Our model performances roughly the same with only a quarter of the features, so this is an improvement."
   ]
  }
 ],
 "metadata": {
  "kernelspec": {
   "display_name": "Python 3",
   "language": "python",
   "name": "python3"
  },
  "language_info": {
   "codemirror_mode": {
    "name": "ipython",
    "version": 3
   },
   "file_extension": ".py",
   "mimetype": "text/x-python",
   "name": "python",
   "nbconvert_exporter": "python",
   "pygments_lexer": "ipython3",
   "version": "3.8.3"
  }
 },
 "nbformat": 4,
 "nbformat_minor": 4
}
