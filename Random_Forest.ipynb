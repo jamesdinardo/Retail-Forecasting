{
 "cells": [
  {
   "cell_type": "code",
   "execution_count": 23,
   "metadata": {},
   "outputs": [],
   "source": [
    "import numpy as np\n",
    "import pandas as pd\n",
    "import matplotlib.pyplot as plt\n",
    "%matplotlib inline\n",
    "\n",
    "from sklearn.tree import DecisionTreeRegressor\n",
    "from sklearn.ensemble import RandomForestRegressor\n",
    "from sklearn import tree\n",
    "from sklearn.tree import export_graphviz\n",
    "from graphviz import Source\n",
    "from sklearn.model_selection import RandomizedSearchCV\n",
    "from sklearn import metrics"
   ]
  },
  {
   "cell_type": "code",
   "execution_count": 24,
   "metadata": {},
   "outputs": [],
   "source": [
    "#import the dataset from GitHub\n",
    "url = 'https://raw.githubusercontent.com/jamesdinardo/Retail-Forecasting/master/final_df.csv'\n",
    "df = pd.read_csv(url)"
   ]
  },
  {
   "cell_type": "code",
   "execution_count": 25,
   "metadata": {},
   "outputs": [
    {
     "name": "stdout",
     "output_type": "stream",
     "text": [
      "Shape of final dataframe: (418660, 16)\n"
     ]
    },
    {
     "data": {
      "text/html": [
       "<div>\n",
       "<style scoped>\n",
       "    .dataframe tbody tr th:only-of-type {\n",
       "        vertical-align: middle;\n",
       "    }\n",
       "\n",
       "    .dataframe tbody tr th {\n",
       "        vertical-align: top;\n",
       "    }\n",
       "\n",
       "    .dataframe thead th {\n",
       "        text-align: right;\n",
       "    }\n",
       "</style>\n",
       "<table border=\"1\" class=\"dataframe\">\n",
       "  <thead>\n",
       "    <tr style=\"text-align: right;\">\n",
       "      <th></th>\n",
       "      <th>Store</th>\n",
       "      <th>Date</th>\n",
       "      <th>Temperature</th>\n",
       "      <th>Fuel_Price</th>\n",
       "      <th>MarkDown1</th>\n",
       "      <th>MarkDown2</th>\n",
       "      <th>MarkDown3</th>\n",
       "      <th>MarkDown4</th>\n",
       "      <th>MarkDown5</th>\n",
       "      <th>CPI</th>\n",
       "      <th>Unemployment</th>\n",
       "      <th>IsHoliday</th>\n",
       "      <th>Dept</th>\n",
       "      <th>Type</th>\n",
       "      <th>Size</th>\n",
       "      <th>Weekly_Sales</th>\n",
       "    </tr>\n",
       "  </thead>\n",
       "  <tbody>\n",
       "    <tr>\n",
       "      <th>0</th>\n",
       "      <td>1</td>\n",
       "      <td>05/02/2010</td>\n",
       "      <td>42.31</td>\n",
       "      <td>2.572</td>\n",
       "      <td>0.0</td>\n",
       "      <td>0.0</td>\n",
       "      <td>0.0</td>\n",
       "      <td>0.0</td>\n",
       "      <td>0.0</td>\n",
       "      <td>211.096358</td>\n",
       "      <td>8.106</td>\n",
       "      <td>False</td>\n",
       "      <td>1</td>\n",
       "      <td>A</td>\n",
       "      <td>151315</td>\n",
       "      <td>24924.50</td>\n",
       "    </tr>\n",
       "    <tr>\n",
       "      <th>1</th>\n",
       "      <td>1</td>\n",
       "      <td>05/02/2010</td>\n",
       "      <td>42.31</td>\n",
       "      <td>2.572</td>\n",
       "      <td>0.0</td>\n",
       "      <td>0.0</td>\n",
       "      <td>0.0</td>\n",
       "      <td>0.0</td>\n",
       "      <td>0.0</td>\n",
       "      <td>211.096358</td>\n",
       "      <td>8.106</td>\n",
       "      <td>False</td>\n",
       "      <td>2</td>\n",
       "      <td>A</td>\n",
       "      <td>151315</td>\n",
       "      <td>50605.27</td>\n",
       "    </tr>\n",
       "    <tr>\n",
       "      <th>2</th>\n",
       "      <td>1</td>\n",
       "      <td>05/02/2010</td>\n",
       "      <td>42.31</td>\n",
       "      <td>2.572</td>\n",
       "      <td>0.0</td>\n",
       "      <td>0.0</td>\n",
       "      <td>0.0</td>\n",
       "      <td>0.0</td>\n",
       "      <td>0.0</td>\n",
       "      <td>211.096358</td>\n",
       "      <td>8.106</td>\n",
       "      <td>False</td>\n",
       "      <td>3</td>\n",
       "      <td>A</td>\n",
       "      <td>151315</td>\n",
       "      <td>13740.12</td>\n",
       "    </tr>\n",
       "    <tr>\n",
       "      <th>3</th>\n",
       "      <td>1</td>\n",
       "      <td>05/02/2010</td>\n",
       "      <td>42.31</td>\n",
       "      <td>2.572</td>\n",
       "      <td>0.0</td>\n",
       "      <td>0.0</td>\n",
       "      <td>0.0</td>\n",
       "      <td>0.0</td>\n",
       "      <td>0.0</td>\n",
       "      <td>211.096358</td>\n",
       "      <td>8.106</td>\n",
       "      <td>False</td>\n",
       "      <td>4</td>\n",
       "      <td>A</td>\n",
       "      <td>151315</td>\n",
       "      <td>39954.04</td>\n",
       "    </tr>\n",
       "    <tr>\n",
       "      <th>4</th>\n",
       "      <td>1</td>\n",
       "      <td>05/02/2010</td>\n",
       "      <td>42.31</td>\n",
       "      <td>2.572</td>\n",
       "      <td>0.0</td>\n",
       "      <td>0.0</td>\n",
       "      <td>0.0</td>\n",
       "      <td>0.0</td>\n",
       "      <td>0.0</td>\n",
       "      <td>211.096358</td>\n",
       "      <td>8.106</td>\n",
       "      <td>False</td>\n",
       "      <td>5</td>\n",
       "      <td>A</td>\n",
       "      <td>151315</td>\n",
       "      <td>32229.38</td>\n",
       "    </tr>\n",
       "  </tbody>\n",
       "</table>\n",
       "</div>"
      ],
      "text/plain": [
       "   Store        Date  Temperature  Fuel_Price  MarkDown1  MarkDown2  \\\n",
       "0      1  05/02/2010        42.31       2.572        0.0        0.0   \n",
       "1      1  05/02/2010        42.31       2.572        0.0        0.0   \n",
       "2      1  05/02/2010        42.31       2.572        0.0        0.0   \n",
       "3      1  05/02/2010        42.31       2.572        0.0        0.0   \n",
       "4      1  05/02/2010        42.31       2.572        0.0        0.0   \n",
       "\n",
       "   MarkDown3  MarkDown4  MarkDown5         CPI  Unemployment  IsHoliday  Dept  \\\n",
       "0        0.0        0.0        0.0  211.096358         8.106      False     1   \n",
       "1        0.0        0.0        0.0  211.096358         8.106      False     2   \n",
       "2        0.0        0.0        0.0  211.096358         8.106      False     3   \n",
       "3        0.0        0.0        0.0  211.096358         8.106      False     4   \n",
       "4        0.0        0.0        0.0  211.096358         8.106      False     5   \n",
       "\n",
       "  Type    Size  Weekly_Sales  \n",
       "0    A  151315      24924.50  \n",
       "1    A  151315      50605.27  \n",
       "2    A  151315      13740.12  \n",
       "3    A  151315      39954.04  \n",
       "4    A  151315      32229.38  "
      ]
     },
     "execution_count": 25,
     "metadata": {},
     "output_type": "execute_result"
    }
   ],
   "source": [
    "print('Shape of final dataframe: {}'.format(df.shape))\n",
    "df.head()"
   ]
  },
  {
   "cell_type": "code",
   "execution_count": 26,
   "metadata": {},
   "outputs": [],
   "source": [
    "#convert Date column to datetime\n",
    "df['Date'] = pd.to_datetime(df['Date'])\n",
    "\n",
    "#convert Store, Dept, and Type columns to category\n",
    "df['Store'] = df['Store'].astype('category')\n",
    "\n",
    "df['Dept'] = df['Dept'].astype('category')\n",
    "\n",
    "df['Type'] = df['Type'].astype('category')"
   ]
  },
  {
   "cell_type": "code",
   "execution_count": 27,
   "metadata": {},
   "outputs": [],
   "source": [
    "#create separate features for Week, Month, and Year\n",
    "df['Month'] = df['Date'].dt.month\n",
    "df['Month'] = df['Month'].astype('category')\n",
    "\n",
    "df['Week'] = df['Date'].dt.week\n",
    "df['Week'] = df['Week'].astype('category')\n",
    "\n",
    "df['Year'] = df['Date'].dt.year\n",
    "df['Year'] = df['Year'].astype('category')"
   ]
  },
  {
   "cell_type": "code",
   "execution_count": 28,
   "metadata": {},
   "outputs": [
    {
     "name": "stdout",
     "output_type": "stream",
     "text": [
      "<class 'pandas.core.frame.DataFrame'>\n",
      "RangeIndex: 418660 entries, 0 to 418659\n",
      "Data columns (total 19 columns):\n",
      " #   Column        Non-Null Count   Dtype         \n",
      "---  ------        --------------   -----         \n",
      " 0   Store         418660 non-null  category      \n",
      " 1   Date          418660 non-null  datetime64[ns]\n",
      " 2   Temperature   418660 non-null  float64       \n",
      " 3   Fuel_Price    418660 non-null  float64       \n",
      " 4   MarkDown1     418660 non-null  float64       \n",
      " 5   MarkDown2     418660 non-null  float64       \n",
      " 6   MarkDown3     418660 non-null  float64       \n",
      " 7   MarkDown4     418660 non-null  float64       \n",
      " 8   MarkDown5     418660 non-null  float64       \n",
      " 9   CPI           418660 non-null  float64       \n",
      " 10  Unemployment  418660 non-null  float64       \n",
      " 11  IsHoliday     418660 non-null  bool          \n",
      " 12  Dept          418660 non-null  category      \n",
      " 13  Type          418660 non-null  category      \n",
      " 14  Size          418660 non-null  int64         \n",
      " 15  Weekly_Sales  418660 non-null  float64       \n",
      " 16  Month         418660 non-null  category      \n",
      " 17  Week          418660 non-null  category      \n",
      " 18  Year          418660 non-null  category      \n",
      "dtypes: bool(1), category(6), datetime64[ns](1), float64(10), int64(1)\n",
      "memory usage: 41.1 MB\n"
     ]
    }
   ],
   "source": [
    "df.info()"
   ]
  },
  {
   "cell_type": "code",
   "execution_count": 29,
   "metadata": {},
   "outputs": [],
   "source": [
    "df.drop('Date', axis=1, inplace=True)"
   ]
  },
  {
   "cell_type": "code",
   "execution_count": 30,
   "metadata": {},
   "outputs": [],
   "source": [
    "#create dummy variables\n",
    "df_dummies = pd.get_dummies(df)"
   ]
  },
  {
   "cell_type": "code",
   "execution_count": 31,
   "metadata": {},
   "outputs": [
    {
     "name": "stdout",
     "output_type": "stream",
     "text": [
      "(293146, 207)\n",
      "(125514, 207)\n"
     ]
    }
   ],
   "source": [
    "X_train = df_dummies.loc[(df['Year']==2010) | (df['Year']==2011), :].drop('Weekly_Sales', axis=1).values\n",
    "X_test = df_dummies.loc[df['Year']==2012, :].drop('Weekly_Sales', axis=1).values\n",
    "y_train = df_dummies.loc[(df['Year']==2010) | (df['Year']==2011), 'Weekly_Sales'].values.reshape(-1, 1)\n",
    "y_test = df_dummies.loc[df['Year']==2012, 'Weekly_Sales'].values.reshape(-1, 1)\n",
    "\n",
    "print(X_train.shape)\n",
    "print(X_test.shape)"
   ]
  },
  {
   "cell_type": "code",
   "execution_count": 32,
   "metadata": {},
   "outputs": [
    {
     "name": "stdout",
     "output_type": "stream",
     "text": [
      "(293146,)\n",
      "(125514,)\n"
     ]
    }
   ],
   "source": [
    "y_train = y_train.reshape(len(y_train))\n",
    "y_test = y_test.reshape(len(y_test))\n",
    "\n",
    "print(y_train.shape)\n",
    "print(y_test.shape)"
   ]
  },
  {
   "cell_type": "code",
   "execution_count": 33,
   "metadata": {},
   "outputs": [
    {
     "name": "stdout",
     "output_type": "stream",
     "text": [
      "R2 for max_depth of 5, 10 estimators: 0.46\n",
      "RMSE for max_depth of 5, 10 estimators: 16198.77\n",
      "R2 for max_depth of 10, 10 estimators: 0.71\n",
      "RMSE for max_depth of 10, 10 estimators: 11907.45\n",
      "R2 for max_depth of 15, 10 estimators: 0.81\n",
      "RMSE for max_depth of 15, 10 estimators: 9753.95\n",
      "R2 for max_depth of 25, 10 estimators: 0.87\n",
      "RMSE for max_depth of 25, 10 estimators: 7855.84\n",
      "R2 for max_depth of 30, 10 estimators: 0.90\n",
      "RMSE for max_depth of 30, 10 estimators: 7166.53\n",
      "R2 for max_depth of None, 10 estimators: 0.93\n",
      "RMSE for max_depth of None, 10 estimators: 5938.21\n"
     ]
    }
   ],
   "source": [
    "#loop through different values of max_depth\n",
    "\n",
    "max_depths = [5, 10, 15, 25, 30, None]\n",
    "\n",
    "for i in max_depths:\n",
    "    rf = RandomForestRegressor(n_estimators=10, max_depth=i, random_state=0)\n",
    "    rf.fit(X_train, y_train)\n",
    "    y_pred = rf.predict(X_test)\n",
    "    print('R2 for max_depth of {}, 10 estimators: {:.2f}'.format(i, metrics.r2_score(y_test, y_pred)))\n",
    "    print('RMSE for max_depth of {}, 10 estimators: {:.2f}'.format(i, np.sqrt(metrics.mean_squared_error(y_test, y_pred))))"
   ]
  },
  {
   "cell_type": "code",
   "execution_count": 34,
   "metadata": {},
   "outputs": [
    {
     "name": "stdout",
     "output_type": "stream",
     "text": [
      "R2 with 5 estimators, max_depth of 10: 0.71\n",
      "RMSE with 5 estimators, max_depth of 10: 11935.32\n",
      "R2 with 10 estimators, max_depth of 10: 0.71\n",
      "RMSE with 10 estimators, max_depth of 10: 11907.45\n",
      "R2 with 25 estimators, max_depth of 10: 0.71\n",
      "RMSE with 25 estimators, max_depth of 10: 11893.63\n",
      "R2 with 50 estimators, max_depth of 10: 0.71\n",
      "RMSE with 50 estimators, max_depth of 10: 11881.47\n",
      "R2 with 100 estimators, max_depth of 10: 0.71\n",
      "RMSE with 100 estimators, max_depth of 10: 11881.29\n"
     ]
    }
   ],
   "source": [
    "#loop through different values of n_estimators\n",
    "\n",
    "n_estimators = [5, 10, 25, 50, 100]\n",
    "\n",
    "for i in n_estimators:\n",
    "    rf = RandomForestRegressor(n_estimators=i, max_depth=10, random_state=0)\n",
    "    rf.fit(X_train, y_train)\n",
    "    y_pred = rf.predict(X_test)\n",
    "    print('R2 with {} estimators, max_depth of 10: {:.2f}'.format(i, metrics.r2_score(y_test, y_pred)))\n",
    "    print('RMSE with {} estimators, max_depth of 10: {:.2f}'.format(i, np.sqrt(metrics.mean_squared_error(y_test, y_pred))))"
   ]
  },
  {
   "cell_type": "markdown",
   "metadata": {},
   "source": [
    "The results for a random forest are similar to the results for a single decision tree, with performance improving as the tree is allowed to grow deeper. Interestingly, the number of estimators (trees) has a minimal effect on the performance of the random forest. \n",
    "\n",
    "We'll reduce the number of features like we did earlier and see if we can maintain similar performance with fewer features."
   ]
  },
  {
   "cell_type": "code",
   "execution_count": 35,
   "metadata": {},
   "outputs": [],
   "source": [
    "features = list(df_dummies.drop('Weekly_Sales', axis=1).columns)"
   ]
  },
  {
   "cell_type": "code",
   "execution_count": 36,
   "metadata": {},
   "outputs": [
    {
     "name": "stdout",
     "output_type": "stream",
     "text": [
      "Total features: 207\n"
     ]
    },
    {
     "data": {
      "text/html": [
       "<div>\n",
       "<style scoped>\n",
       "    .dataframe tbody tr th:only-of-type {\n",
       "        vertical-align: middle;\n",
       "    }\n",
       "\n",
       "    .dataframe tbody tr th {\n",
       "        vertical-align: top;\n",
       "    }\n",
       "\n",
       "    .dataframe thead th {\n",
       "        text-align: right;\n",
       "    }\n",
       "</style>\n",
       "<table border=\"1\" class=\"dataframe\">\n",
       "  <thead>\n",
       "    <tr style=\"text-align: right;\">\n",
       "      <th></th>\n",
       "      <th>Feature</th>\n",
       "      <th>Feature Importance</th>\n",
       "    </tr>\n",
       "  </thead>\n",
       "  <tbody>\n",
       "    <tr>\n",
       "      <th>10</th>\n",
       "      <td>Size</td>\n",
       "      <td>0.227658</td>\n",
       "    </tr>\n",
       "    <tr>\n",
       "      <th>129</th>\n",
       "      <td>Dept_92</td>\n",
       "      <td>0.142576</td>\n",
       "    </tr>\n",
       "    <tr>\n",
       "      <th>132</th>\n",
       "      <td>Dept_95</td>\n",
       "      <td>0.124899</td>\n",
       "    </tr>\n",
       "    <tr>\n",
       "      <th>92</th>\n",
       "      <td>Dept_38</td>\n",
       "      <td>0.090861</td>\n",
       "    </tr>\n",
       "    <tr>\n",
       "      <th>116</th>\n",
       "      <td>Dept_72</td>\n",
       "      <td>0.063871</td>\n",
       "    </tr>\n",
       "    <tr>\n",
       "      <th>127</th>\n",
       "      <td>Dept_90</td>\n",
       "      <td>0.059034</td>\n",
       "    </tr>\n",
       "    <tr>\n",
       "      <th>94</th>\n",
       "      <td>Dept_40</td>\n",
       "      <td>0.048352</td>\n",
       "    </tr>\n",
       "    <tr>\n",
       "      <th>57</th>\n",
       "      <td>Dept_2</td>\n",
       "      <td>0.046879</td>\n",
       "    </tr>\n",
       "    <tr>\n",
       "      <th>128</th>\n",
       "      <td>Dept_91</td>\n",
       "      <td>0.030628</td>\n",
       "    </tr>\n",
       "    <tr>\n",
       "      <th>198</th>\n",
       "      <td>Week_47</td>\n",
       "      <td>0.029853</td>\n",
       "    </tr>\n",
       "    <tr>\n",
       "      <th>131</th>\n",
       "      <td>Dept_94</td>\n",
       "      <td>0.026560</td>\n",
       "    </tr>\n",
       "    <tr>\n",
       "      <th>20</th>\n",
       "      <td>Store_10</td>\n",
       "      <td>0.020413</td>\n",
       "    </tr>\n",
       "    <tr>\n",
       "      <th>63</th>\n",
       "      <td>Dept_8</td>\n",
       "      <td>0.007237</td>\n",
       "    </tr>\n",
       "    <tr>\n",
       "      <th>202</th>\n",
       "      <td>Week_51</td>\n",
       "      <td>0.006814</td>\n",
       "    </tr>\n",
       "    <tr>\n",
       "      <th>68</th>\n",
       "      <td>Dept_13</td>\n",
       "      <td>0.006543</td>\n",
       "    </tr>\n",
       "    <tr>\n",
       "      <th>7</th>\n",
       "      <td>CPI</td>\n",
       "      <td>0.006014</td>\n",
       "    </tr>\n",
       "    <tr>\n",
       "      <th>24</th>\n",
       "      <td>Store_14</td>\n",
       "      <td>0.005829</td>\n",
       "    </tr>\n",
       "    <tr>\n",
       "      <th>8</th>\n",
       "      <td>Unemployment</td>\n",
       "      <td>0.004825</td>\n",
       "    </tr>\n",
       "    <tr>\n",
       "      <th>138</th>\n",
       "      <td>Type_B</td>\n",
       "      <td>0.003838</td>\n",
       "    </tr>\n",
       "    <tr>\n",
       "      <th>0</th>\n",
       "      <td>Temperature</td>\n",
       "      <td>0.003725</td>\n",
       "    </tr>\n",
       "    <tr>\n",
       "      <th>13</th>\n",
       "      <td>Store_3</td>\n",
       "      <td>0.003708</td>\n",
       "    </tr>\n",
       "    <tr>\n",
       "      <th>45</th>\n",
       "      <td>Store_35</td>\n",
       "      <td>0.003594</td>\n",
       "    </tr>\n",
       "    <tr>\n",
       "      <th>139</th>\n",
       "      <td>Type_C</td>\n",
       "      <td>0.003498</td>\n",
       "    </tr>\n",
       "    <tr>\n",
       "      <th>11</th>\n",
       "      <td>Store_1</td>\n",
       "      <td>0.003263</td>\n",
       "    </tr>\n",
       "    <tr>\n",
       "      <th>30</th>\n",
       "      <td>Store_20</td>\n",
       "      <td>0.003078</td>\n",
       "    </tr>\n",
       "    <tr>\n",
       "      <th>21</th>\n",
       "      <td>Store_11</td>\n",
       "      <td>0.002795</td>\n",
       "    </tr>\n",
       "    <tr>\n",
       "      <th>36</th>\n",
       "      <td>Store_26</td>\n",
       "      <td>0.002640</td>\n",
       "    </tr>\n",
       "    <tr>\n",
       "      <th>53</th>\n",
       "      <td>Store_43</td>\n",
       "      <td>0.001644</td>\n",
       "    </tr>\n",
       "    <tr>\n",
       "      <th>37</th>\n",
       "      <td>Store_27</td>\n",
       "      <td>0.001590</td>\n",
       "    </tr>\n",
       "    <tr>\n",
       "      <th>16</th>\n",
       "      <td>Store_6</td>\n",
       "      <td>0.001525</td>\n",
       "    </tr>\n",
       "    <tr>\n",
       "      <th>43</th>\n",
       "      <td>Store_33</td>\n",
       "      <td>0.001523</td>\n",
       "    </tr>\n",
       "    <tr>\n",
       "      <th>14</th>\n",
       "      <td>Store_4</td>\n",
       "      <td>0.001461</td>\n",
       "    </tr>\n",
       "    <tr>\n",
       "      <th>46</th>\n",
       "      <td>Store_36</td>\n",
       "      <td>0.001272</td>\n",
       "    </tr>\n",
       "    <tr>\n",
       "      <th>52</th>\n",
       "      <td>Store_42</td>\n",
       "      <td>0.001091</td>\n",
       "    </tr>\n",
       "    <tr>\n",
       "      <th>12</th>\n",
       "      <td>Store_2</td>\n",
       "      <td>0.000923</td>\n",
       "    </tr>\n",
       "    <tr>\n",
       "      <th>4</th>\n",
       "      <td>MarkDown3</td>\n",
       "      <td>0.000899</td>\n",
       "    </tr>\n",
       "    <tr>\n",
       "      <th>23</th>\n",
       "      <td>Store_13</td>\n",
       "      <td>0.000827</td>\n",
       "    </tr>\n",
       "    <tr>\n",
       "      <th>42</th>\n",
       "      <td>Store_32</td>\n",
       "      <td>0.000666</td>\n",
       "    </tr>\n",
       "    <tr>\n",
       "      <th>28</th>\n",
       "      <td>Store_18</td>\n",
       "      <td>0.000615</td>\n",
       "    </tr>\n",
       "    <tr>\n",
       "      <th>25</th>\n",
       "      <td>Store_15</td>\n",
       "      <td>0.000535</td>\n",
       "    </tr>\n",
       "    <tr>\n",
       "      <th>38</th>\n",
       "      <td>Store_28</td>\n",
       "      <td>0.000516</td>\n",
       "    </tr>\n",
       "    <tr>\n",
       "      <th>34</th>\n",
       "      <td>Store_24</td>\n",
       "      <td>0.000502</td>\n",
       "    </tr>\n",
       "    <tr>\n",
       "      <th>1</th>\n",
       "      <td>Fuel_Price</td>\n",
       "      <td>0.000486</td>\n",
       "    </tr>\n",
       "    <tr>\n",
       "      <th>33</th>\n",
       "      <td>Store_23</td>\n",
       "      <td>0.000478</td>\n",
       "    </tr>\n",
       "    <tr>\n",
       "      <th>137</th>\n",
       "      <td>Type_A</td>\n",
       "      <td>0.000451</td>\n",
       "    </tr>\n",
       "    <tr>\n",
       "      <th>27</th>\n",
       "      <td>Store_17</td>\n",
       "      <td>0.000438</td>\n",
       "    </tr>\n",
       "    <tr>\n",
       "      <th>49</th>\n",
       "      <td>Store_39</td>\n",
       "      <td>0.000256</td>\n",
       "    </tr>\n",
       "    <tr>\n",
       "      <th>41</th>\n",
       "      <td>Store_31</td>\n",
       "      <td>0.000253</td>\n",
       "    </tr>\n",
       "    <tr>\n",
       "      <th>6</th>\n",
       "      <td>MarkDown5</td>\n",
       "      <td>0.000243</td>\n",
       "    </tr>\n",
       "    <tr>\n",
       "      <th>32</th>\n",
       "      <td>Store_22</td>\n",
       "      <td>0.000232</td>\n",
       "    </tr>\n",
       "  </tbody>\n",
       "</table>\n",
       "</div>"
      ],
      "text/plain": [
       "          Feature  Feature Importance\n",
       "10           Size            0.227658\n",
       "129       Dept_92            0.142576\n",
       "132       Dept_95            0.124899\n",
       "92        Dept_38            0.090861\n",
       "116       Dept_72            0.063871\n",
       "127       Dept_90            0.059034\n",
       "94        Dept_40            0.048352\n",
       "57         Dept_2            0.046879\n",
       "128       Dept_91            0.030628\n",
       "198       Week_47            0.029853\n",
       "131       Dept_94            0.026560\n",
       "20       Store_10            0.020413\n",
       "63         Dept_8            0.007237\n",
       "202       Week_51            0.006814\n",
       "68        Dept_13            0.006543\n",
       "7             CPI            0.006014\n",
       "24       Store_14            0.005829\n",
       "8    Unemployment            0.004825\n",
       "138        Type_B            0.003838\n",
       "0     Temperature            0.003725\n",
       "13        Store_3            0.003708\n",
       "45       Store_35            0.003594\n",
       "139        Type_C            0.003498\n",
       "11        Store_1            0.003263\n",
       "30       Store_20            0.003078\n",
       "21       Store_11            0.002795\n",
       "36       Store_26            0.002640\n",
       "53       Store_43            0.001644\n",
       "37       Store_27            0.001590\n",
       "16        Store_6            0.001525\n",
       "43       Store_33            0.001523\n",
       "14        Store_4            0.001461\n",
       "46       Store_36            0.001272\n",
       "52       Store_42            0.001091\n",
       "12        Store_2            0.000923\n",
       "4       MarkDown3            0.000899\n",
       "23       Store_13            0.000827\n",
       "42       Store_32            0.000666\n",
       "28       Store_18            0.000615\n",
       "25       Store_15            0.000535\n",
       "38       Store_28            0.000516\n",
       "34       Store_24            0.000502\n",
       "1      Fuel_Price            0.000486\n",
       "33       Store_23            0.000478\n",
       "137        Type_A            0.000451\n",
       "27       Store_17            0.000438\n",
       "49       Store_39            0.000256\n",
       "41       Store_31            0.000253\n",
       "6       MarkDown5            0.000243\n",
       "32       Store_22            0.000232"
      ]
     },
     "metadata": {},
     "output_type": "display_data"
    }
   ],
   "source": [
    "#calculate feature importances\n",
    "print('Total features: {}'.format(len(rf.feature_importances_)))\n",
    "feature_importances = pd.DataFrame({'Feature': features, 'Feature Importance':rf.feature_importances_}).sort_values(by='Feature Importance', ascending=False)\n",
    "display(feature_importances.iloc[:50, :])"
   ]
  },
  {
   "cell_type": "code",
   "execution_count": 37,
   "metadata": {},
   "outputs": [],
   "source": [
    "#drop all features except the top 50 and years\n",
    "features_to_drop = feature_importances.iloc[50:, 0]\n",
    "features_to_drop = features_to_drop[~features_to_drop.str.contains('Year')]"
   ]
  },
  {
   "cell_type": "code",
   "execution_count": 38,
   "metadata": {},
   "outputs": [
    {
     "data": {
      "text/plain": [
       "(418660, 54)"
      ]
     },
     "execution_count": 38,
     "metadata": {},
     "output_type": "execute_result"
    }
   ],
   "source": [
    "df_dummies_top_features = df_dummies.drop(features_to_drop, axis=1)\n",
    "df_dummies_top_features.shape"
   ]
  },
  {
   "cell_type": "code",
   "execution_count": 39,
   "metadata": {},
   "outputs": [
    {
     "name": "stdout",
     "output_type": "stream",
     "text": [
      "(293146, 53)\n",
      "(125514, 53)\n"
     ]
    }
   ],
   "source": [
    "X_train = df_dummies_top_features.loc[(df['Year']==2010) | (df['Year']==2011), :].drop('Weekly_Sales', axis=1).values\n",
    "X_test = df_dummies_top_features.loc[df['Year']==2012, :].drop('Weekly_Sales', axis=1).values\n",
    "y_train = df_dummies_top_features.loc[(df['Year']==2010) | (df['Year']==2011), 'Weekly_Sales'].values.reshape(-1, 1)\n",
    "y_test = df_dummies_top_features.loc[df['Year']==2012, 'Weekly_Sales'].values.reshape(-1, 1)\n",
    "\n",
    "print(X_train.shape)\n",
    "print(X_test.shape)"
   ]
  },
  {
   "cell_type": "code",
   "execution_count": 40,
   "metadata": {},
   "outputs": [
    {
     "name": "stdout",
     "output_type": "stream",
     "text": [
      "(293146,)\n",
      "(125514,)\n"
     ]
    }
   ],
   "source": [
    "y_train = y_train.reshape(len(y_train))\n",
    "y_test = y_test.reshape(len(y_test))\n",
    "\n",
    "print(y_train.shape)\n",
    "print(y_test.shape)"
   ]
  },
  {
   "cell_type": "code",
   "execution_count": 41,
   "metadata": {},
   "outputs": [],
   "source": [
    "#train a ranadom forest with 10 trees and max_depth of 10 \n",
    "rf = RandomForestRegressor(n_estimators=10, max_depth=10, random_state=0)"
   ]
  },
  {
   "cell_type": "code",
   "execution_count": 42,
   "metadata": {},
   "outputs": [
    {
     "data": {
      "text/plain": [
       "RandomForestRegressor(max_depth=10, n_estimators=10, random_state=0)"
      ]
     },
     "execution_count": 42,
     "metadata": {},
     "output_type": "execute_result"
    }
   ],
   "source": [
    "rf.fit(X_train, y_train)"
   ]
  },
  {
   "cell_type": "code",
   "execution_count": 43,
   "metadata": {},
   "outputs": [
    {
     "name": "stdout",
     "output_type": "stream",
     "text": [
      "R2: 0.71\n",
      "RMSE: 11920.49\n"
     ]
    }
   ],
   "source": [
    "y_pred = rf.predict(X_test)\n",
    "\n",
    "print('R2: {:.2f}'.format(metrics.r2_score(y_test, y_pred)))\n",
    "print('RMSE: {:.2f}'.format(np.sqrt(metrics.mean_squared_error(y_test, y_pred))))"
   ]
  }
 ],
 "metadata": {
  "kernelspec": {
   "display_name": "Python 3",
   "language": "python",
   "name": "python3"
  },
  "language_info": {
   "codemirror_mode": {
    "name": "ipython",
    "version": 3
   },
   "file_extension": ".py",
   "mimetype": "text/x-python",
   "name": "python",
   "nbconvert_exporter": "python",
   "pygments_lexer": "ipython3",
   "version": "3.8.3"
  }
 },
 "nbformat": 4,
 "nbformat_minor": 4
}
