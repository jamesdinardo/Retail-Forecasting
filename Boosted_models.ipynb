{
 "cells": [
  {
   "cell_type": "code",
   "execution_count": 48,
   "metadata": {},
   "outputs": [],
   "source": [
    "import numpy as np\n",
    "import pandas as pd\n",
    "import matplotlib.pyplot as plt\n",
    "%matplotlib inline\n",
    "\n",
    "from sklearn.tree import DecisionTreeRegressor\n",
    "from sklearn.tree import export_graphviz\n",
    "from graphviz import Source\n",
    "from sklearn.ensemble import AdaBoostRegressor\n",
    "from sklearn.ensemble import GradientBoostingRegressor\n",
    "import xgboost as xgb\n",
    "from sklearn.model_selection import RandomizedSearchCV\n",
    "from sklearn import metrics\n"
   ]
  },
  {
   "cell_type": "code",
   "execution_count": 49,
   "metadata": {},
   "outputs": [],
   "source": [
    "#import the dataset from GitHub\n",
    "url = 'https://raw.githubusercontent.com/jamesdinardo/Retail-Forecasting/master/final_df.csv'\n",
    "df = pd.read_csv(url)"
   ]
  },
  {
   "cell_type": "code",
   "execution_count": 50,
   "metadata": {},
   "outputs": [
    {
     "name": "stdout",
     "output_type": "stream",
     "text": [
      "Shape of final dataframe: (418660, 16)\n"
     ]
    },
    {
     "data": {
      "text/html": [
       "<div>\n",
       "<style scoped>\n",
       "    .dataframe tbody tr th:only-of-type {\n",
       "        vertical-align: middle;\n",
       "    }\n",
       "\n",
       "    .dataframe tbody tr th {\n",
       "        vertical-align: top;\n",
       "    }\n",
       "\n",
       "    .dataframe thead th {\n",
       "        text-align: right;\n",
       "    }\n",
       "</style>\n",
       "<table border=\"1\" class=\"dataframe\">\n",
       "  <thead>\n",
       "    <tr style=\"text-align: right;\">\n",
       "      <th></th>\n",
       "      <th>Store</th>\n",
       "      <th>Date</th>\n",
       "      <th>Temperature</th>\n",
       "      <th>Fuel_Price</th>\n",
       "      <th>MarkDown1</th>\n",
       "      <th>MarkDown2</th>\n",
       "      <th>MarkDown3</th>\n",
       "      <th>MarkDown4</th>\n",
       "      <th>MarkDown5</th>\n",
       "      <th>CPI</th>\n",
       "      <th>Unemployment</th>\n",
       "      <th>IsHoliday</th>\n",
       "      <th>Dept</th>\n",
       "      <th>Type</th>\n",
       "      <th>Size</th>\n",
       "      <th>Weekly_Sales</th>\n",
       "    </tr>\n",
       "  </thead>\n",
       "  <tbody>\n",
       "    <tr>\n",
       "      <th>0</th>\n",
       "      <td>1</td>\n",
       "      <td>05/02/2010</td>\n",
       "      <td>42.31</td>\n",
       "      <td>2.572</td>\n",
       "      <td>0.0</td>\n",
       "      <td>0.0</td>\n",
       "      <td>0.0</td>\n",
       "      <td>0.0</td>\n",
       "      <td>0.0</td>\n",
       "      <td>211.096358</td>\n",
       "      <td>8.106</td>\n",
       "      <td>False</td>\n",
       "      <td>1</td>\n",
       "      <td>A</td>\n",
       "      <td>151315</td>\n",
       "      <td>24924.50</td>\n",
       "    </tr>\n",
       "    <tr>\n",
       "      <th>1</th>\n",
       "      <td>1</td>\n",
       "      <td>05/02/2010</td>\n",
       "      <td>42.31</td>\n",
       "      <td>2.572</td>\n",
       "      <td>0.0</td>\n",
       "      <td>0.0</td>\n",
       "      <td>0.0</td>\n",
       "      <td>0.0</td>\n",
       "      <td>0.0</td>\n",
       "      <td>211.096358</td>\n",
       "      <td>8.106</td>\n",
       "      <td>False</td>\n",
       "      <td>2</td>\n",
       "      <td>A</td>\n",
       "      <td>151315</td>\n",
       "      <td>50605.27</td>\n",
       "    </tr>\n",
       "    <tr>\n",
       "      <th>2</th>\n",
       "      <td>1</td>\n",
       "      <td>05/02/2010</td>\n",
       "      <td>42.31</td>\n",
       "      <td>2.572</td>\n",
       "      <td>0.0</td>\n",
       "      <td>0.0</td>\n",
       "      <td>0.0</td>\n",
       "      <td>0.0</td>\n",
       "      <td>0.0</td>\n",
       "      <td>211.096358</td>\n",
       "      <td>8.106</td>\n",
       "      <td>False</td>\n",
       "      <td>3</td>\n",
       "      <td>A</td>\n",
       "      <td>151315</td>\n",
       "      <td>13740.12</td>\n",
       "    </tr>\n",
       "    <tr>\n",
       "      <th>3</th>\n",
       "      <td>1</td>\n",
       "      <td>05/02/2010</td>\n",
       "      <td>42.31</td>\n",
       "      <td>2.572</td>\n",
       "      <td>0.0</td>\n",
       "      <td>0.0</td>\n",
       "      <td>0.0</td>\n",
       "      <td>0.0</td>\n",
       "      <td>0.0</td>\n",
       "      <td>211.096358</td>\n",
       "      <td>8.106</td>\n",
       "      <td>False</td>\n",
       "      <td>4</td>\n",
       "      <td>A</td>\n",
       "      <td>151315</td>\n",
       "      <td>39954.04</td>\n",
       "    </tr>\n",
       "    <tr>\n",
       "      <th>4</th>\n",
       "      <td>1</td>\n",
       "      <td>05/02/2010</td>\n",
       "      <td>42.31</td>\n",
       "      <td>2.572</td>\n",
       "      <td>0.0</td>\n",
       "      <td>0.0</td>\n",
       "      <td>0.0</td>\n",
       "      <td>0.0</td>\n",
       "      <td>0.0</td>\n",
       "      <td>211.096358</td>\n",
       "      <td>8.106</td>\n",
       "      <td>False</td>\n",
       "      <td>5</td>\n",
       "      <td>A</td>\n",
       "      <td>151315</td>\n",
       "      <td>32229.38</td>\n",
       "    </tr>\n",
       "  </tbody>\n",
       "</table>\n",
       "</div>"
      ],
      "text/plain": [
       "   Store        Date  Temperature  Fuel_Price  MarkDown1  MarkDown2  \\\n",
       "0      1  05/02/2010        42.31       2.572        0.0        0.0   \n",
       "1      1  05/02/2010        42.31       2.572        0.0        0.0   \n",
       "2      1  05/02/2010        42.31       2.572        0.0        0.0   \n",
       "3      1  05/02/2010        42.31       2.572        0.0        0.0   \n",
       "4      1  05/02/2010        42.31       2.572        0.0        0.0   \n",
       "\n",
       "   MarkDown3  MarkDown4  MarkDown5         CPI  Unemployment  IsHoliday  Dept  \\\n",
       "0        0.0        0.0        0.0  211.096358         8.106      False     1   \n",
       "1        0.0        0.0        0.0  211.096358         8.106      False     2   \n",
       "2        0.0        0.0        0.0  211.096358         8.106      False     3   \n",
       "3        0.0        0.0        0.0  211.096358         8.106      False     4   \n",
       "4        0.0        0.0        0.0  211.096358         8.106      False     5   \n",
       "\n",
       "  Type    Size  Weekly_Sales  \n",
       "0    A  151315      24924.50  \n",
       "1    A  151315      50605.27  \n",
       "2    A  151315      13740.12  \n",
       "3    A  151315      39954.04  \n",
       "4    A  151315      32229.38  "
      ]
     },
     "execution_count": 50,
     "metadata": {},
     "output_type": "execute_result"
    }
   ],
   "source": [
    "print('Shape of final dataframe: {}'.format(df.shape))\n",
    "df.head()"
   ]
  },
  {
   "cell_type": "code",
   "execution_count": 51,
   "metadata": {},
   "outputs": [],
   "source": [
    "#convert Date column to datetime\n",
    "df['Date'] = pd.to_datetime(df['Date'])\n",
    "\n",
    "#convert Store, Dept, and Type columns to category\n",
    "df['Store'] = df['Store'].astype('category')\n",
    "\n",
    "df['Dept'] = df['Dept'].astype('category')\n",
    "\n",
    "df['Type'] = df['Type'].astype('category')"
   ]
  },
  {
   "cell_type": "code",
   "execution_count": 52,
   "metadata": {},
   "outputs": [],
   "source": [
    "#create separate features for Week, Month, and Year\n",
    "df['Month'] = df['Date'].dt.month\n",
    "df['Month'] = df['Month'].astype('category')\n",
    "\n",
    "df['Week'] = df['Date'].dt.week\n",
    "df['Week'] = df['Week'].astype('category')\n",
    "\n",
    "df['Year'] = df['Date'].dt.year\n",
    "df['Year'] = df['Year'].astype('category')"
   ]
  },
  {
   "cell_type": "code",
   "execution_count": 53,
   "metadata": {},
   "outputs": [
    {
     "name": "stdout",
     "output_type": "stream",
     "text": [
      "<class 'pandas.core.frame.DataFrame'>\n",
      "RangeIndex: 418660 entries, 0 to 418659\n",
      "Data columns (total 19 columns):\n",
      " #   Column        Non-Null Count   Dtype         \n",
      "---  ------        --------------   -----         \n",
      " 0   Store         418660 non-null  category      \n",
      " 1   Date          418660 non-null  datetime64[ns]\n",
      " 2   Temperature   418660 non-null  float64       \n",
      " 3   Fuel_Price    418660 non-null  float64       \n",
      " 4   MarkDown1     418660 non-null  float64       \n",
      " 5   MarkDown2     418660 non-null  float64       \n",
      " 6   MarkDown3     418660 non-null  float64       \n",
      " 7   MarkDown4     418660 non-null  float64       \n",
      " 8   MarkDown5     418660 non-null  float64       \n",
      " 9   CPI           418660 non-null  float64       \n",
      " 10  Unemployment  418660 non-null  float64       \n",
      " 11  IsHoliday     418660 non-null  bool          \n",
      " 12  Dept          418660 non-null  category      \n",
      " 13  Type          418660 non-null  category      \n",
      " 14  Size          418660 non-null  int64         \n",
      " 15  Weekly_Sales  418660 non-null  float64       \n",
      " 16  Month         418660 non-null  category      \n",
      " 17  Week          418660 non-null  category      \n",
      " 18  Year          418660 non-null  category      \n",
      "dtypes: bool(1), category(6), datetime64[ns](1), float64(10), int64(1)\n",
      "memory usage: 41.1 MB\n"
     ]
    }
   ],
   "source": [
    "df.info()"
   ]
  },
  {
   "cell_type": "code",
   "execution_count": 54,
   "metadata": {},
   "outputs": [],
   "source": [
    "df.drop('Date', axis=1, inplace=True)"
   ]
  },
  {
   "cell_type": "code",
   "execution_count": 55,
   "metadata": {},
   "outputs": [],
   "source": [
    "#create dummy variables\n",
    "df_dummies = pd.get_dummies(df)"
   ]
  },
  {
   "cell_type": "code",
   "execution_count": 56,
   "metadata": {},
   "outputs": [
    {
     "name": "stdout",
     "output_type": "stream",
     "text": [
      "(293146, 207)\n",
      "(125514, 207)\n"
     ]
    }
   ],
   "source": [
    "#split into train test based on year\n",
    "X_train = df_dummies.loc[(df['Year']==2010) | (df['Year']==2011), :].drop('Weekly_Sales', axis=1).values\n",
    "X_test = df_dummies.loc[df['Year']==2012, :].drop('Weekly_Sales', axis=1).values\n",
    "y_train = df_dummies.loc[(df['Year']==2010) | (df['Year']==2011), 'Weekly_Sales'].values.reshape(-1, 1)\n",
    "y_test = df_dummies.loc[df['Year']==2012, 'Weekly_Sales'].values.reshape(-1, 1)\n",
    "\n",
    "print(X_train.shape)\n",
    "print(X_test.shape)"
   ]
  },
  {
   "cell_type": "code",
   "execution_count": 57,
   "metadata": {},
   "outputs": [
    {
     "name": "stdout",
     "output_type": "stream",
     "text": [
      "(293146,)\n",
      "(125514,)\n"
     ]
    }
   ],
   "source": [
    "y_train = y_train.reshape(len(y_train))\n",
    "y_test = y_test.reshape(len(y_test))\n",
    "\n",
    "print(y_train.shape)\n",
    "print(y_test.shape)"
   ]
  },
  {
   "cell_type": "code",
   "execution_count": 58,
   "metadata": {},
   "outputs": [
    {
     "data": {
      "text/plain": [
       "Index(['Temperature', 'Fuel_Price', 'MarkDown1', 'MarkDown2', 'MarkDown3',\n",
       "       'MarkDown4', 'MarkDown5', 'CPI', 'Unemployment', 'IsHoliday',\n",
       "       ...\n",
       "       'Week_46', 'Week_47', 'Week_48', 'Week_49', 'Week_50', 'Week_51',\n",
       "       'Week_52', 'Year_2010', 'Year_2011', 'Year_2012'],\n",
       "      dtype='object', length=208)"
      ]
     },
     "execution_count": 58,
     "metadata": {},
     "output_type": "execute_result"
    }
   ],
   "source": [
    "df_dummies.columns"
   ]
  },
  {
   "cell_type": "markdown",
   "metadata": {},
   "source": [
    "We will try three types of boosting algorithms: AdaBoost, GradientBoost, and XGBoost"
   ]
  },
  {
   "cell_type": "markdown",
   "metadata": {},
   "source": [
    "1. AdaBoost"
   ]
  },
  {
   "cell_type": "code",
   "execution_count": 59,
   "metadata": {},
   "outputs": [],
   "source": [
    "abr = AdaBoostRegressor(base_estimator=DecisionTreeRegressor(max_depth=4), n_estimators=10, random_state=0, learning_rate=0.1)"
   ]
  },
  {
   "cell_type": "code",
   "execution_count": 60,
   "metadata": {},
   "outputs": [
    {
     "data": {
      "text/plain": [
       "AdaBoostRegressor(base_estimator=DecisionTreeRegressor(max_depth=4),\n",
       "                  learning_rate=0.1, n_estimators=10, random_state=0)"
      ]
     },
     "execution_count": 60,
     "metadata": {},
     "output_type": "execute_result"
    }
   ],
   "source": [
    "abr.fit(X_train, y_train)"
   ]
  },
  {
   "cell_type": "code",
   "execution_count": 61,
   "metadata": {},
   "outputs": [
    {
     "name": "stdout",
     "output_type": "stream",
     "text": [
      "R2 with 10 estimators: 0.42\n",
      "RMSE with 10 estimators: 16893.17\n"
     ]
    }
   ],
   "source": [
    "y_pred = abr.predict(X_test)\n",
    "\n",
    "print('R2 with 10 estimators: {:.2f}'.format(metrics.r2_score(y_test, y_pred)))\n",
    "print('RMSE with 10 estimators: {:.2f}'.format(np.sqrt(metrics.mean_squared_error(y_test, y_pred))))"
   ]
  },
  {
   "cell_type": "code",
   "execution_count": 62,
   "metadata": {},
   "outputs": [
    {
     "name": "stdout",
     "output_type": "stream",
     "text": [
      "R2 with 5 estimators: 0.38\n",
      "RMSE with 5 estimators: 17372.51\n",
      "R2 with 10 estimators: 0.38\n",
      "RMSE with 10 estimators: 17368.38\n",
      "R2 with 15 estimators: 0.38\n",
      "RMSE with 15 estimators: 17372.88\n",
      "R2 with 20 estimators: 0.38\n",
      "RMSE with 20 estimators: 17373.64\n"
     ]
    }
   ],
   "source": [
    "n_estimator_values = [5, 10, 15, 20]\n",
    "\n",
    "for i in n_estimator_values:\n",
    "    abr = AdaBoostRegressor(n_estimators=i, learning_rate=0.01, random_state=0)\n",
    "    abr.fit(X_train, y_train)\n",
    "    y_pred = abr.predict(X_test)\n",
    "    print('R2 with {} estimators: {:.2f}'.format(i, metrics.r2_score(y_test, y_pred)))\n",
    "    print('RMSE with {} estimators: {:.2f}'.format(i, np.sqrt(metrics.mean_squared_error(y_test, y_pred))))"
   ]
  },
  {
   "cell_type": "markdown",
   "metadata": {},
   "source": [
    "2. GradientBoost"
   ]
  },
  {
   "cell_type": "code",
   "execution_count": 63,
   "metadata": {},
   "outputs": [
    {
     "name": "stdout",
     "output_type": "stream",
     "text": [
      "R2 with max depth of 3: 0.36\n",
      "RMSE with max depth of 3: 17727.94\n",
      "R2 with max depth of 4: 0.41\n",
      "RMSE with max depth of 4: 16916.22\n",
      "R2 with max depth of 5: 0.47\n",
      "RMSE with max depth of 5: 16124.25\n",
      "R2 with max depth of 6: 0.52\n",
      "RMSE with max depth of 6: 15355.86\n"
     ]
    }
   ],
   "source": [
    "max_depth_values = [3, 4, 5, 6]\n",
    "\n",
    "for i in max_depth_values:\n",
    "    gbm = GradientBoostingRegressor(n_estimators=10, max_depth=i, random_state=0)\n",
    "    gbm.fit(X_train, y_train)\n",
    "    y_pred = gbm.predict(X_test)\n",
    "    print('R2 with max depth of {}: {:.2f}'.format(i, metrics.r2_score(y_test, y_pred)))\n",
    "    print('RMSE with max depth of {}: {:.2f}'.format(i, np.sqrt(metrics.mean_squared_error(y_test, y_pred))))"
   ]
  },
  {
   "cell_type": "code",
   "execution_count": 64,
   "metadata": {},
   "outputs": [
    {
     "name": "stdout",
     "output_type": "stream",
     "text": [
      "R2 with learning rate of 0.001: 0.01\n",
      "RMSE with learning rate of 0.001: 22004.82\n",
      "R2 with learning rate of 0.01: 0.10\n",
      "RMSE with learning rate of 0.01: 21030.68\n",
      "R2 with learning rate of 0.1: 0.52\n",
      "RMSE with learning rate of 0.1: 15355.86\n",
      "R2 with learning rate of 1.0: 0.86\n",
      "RMSE with learning rate of 1.0: 8383.66\n"
     ]
    }
   ],
   "source": [
    "#loop through several possible eta values\n",
    "eta_vals = [0.001, 0.01, 0.1, 1.0]\n",
    "\n",
    "for i in eta_vals:\n",
    "    gbm = GradientBoostingRegressor(n_estimators=10, max_depth=6, learning_rate=i, random_state=0)\n",
    "    gbm.fit(X_train, y_train)\n",
    "    y_pred = gbm.predict(X_test)\n",
    "    print('R2 with learning rate of {}: {:.2f}'.format(i, metrics.r2_score(y_test, y_pred)))\n",
    "    print('RMSE with learning rate of {}: {:.2f}'.format(i, np.sqrt(metrics.mean_squared_error(y_test, y_pred))))"
   ]
  },
  {
   "cell_type": "markdown",
   "metadata": {},
   "source": [
    "3. XGBoost"
   ]
  },
  {
   "cell_type": "markdown",
   "metadata": {},
   "source": [
    "Note that XGBoost can be implemented using scikit-learn's API as well XGBoost's learning API. We will use the learning API below, which uses different syntax and requires that our data be organized as a DMatrix."
   ]
  },
  {
   "cell_type": "code",
   "execution_count": 65,
   "metadata": {},
   "outputs": [
    {
     "name": "stdout",
     "output_type": "stream",
     "text": [
      "<class 'xgboost.core.DMatrix'>\n"
     ]
    }
   ],
   "source": [
    "#convert data into DMatrixes\n",
    "DM_train = xgb.DMatrix(data=X_train, label=y_train)\n",
    "DM_test = xgb.DMatrix(data=X_test, label=y_test)\n",
    "print(type(DM_train))"
   ]
  },
  {
   "cell_type": "code",
   "execution_count": 66,
   "metadata": {},
   "outputs": [],
   "source": [
    "#set parameters\n",
    "params = {'objective':'reg:squarederror'}"
   ]
  },
  {
   "cell_type": "code",
   "execution_count": 67,
   "metadata": {},
   "outputs": [],
   "source": [
    "#train model using same parameters as above\n",
    "xgb_model = xgb.train(params=params, dtrain=DM_train, num_boost_round=100)"
   ]
  },
  {
   "cell_type": "code",
   "execution_count": 68,
   "metadata": {},
   "outputs": [
    {
     "name": "stdout",
     "output_type": "stream",
     "text": [
      "R2 with 100 boost rounds: 0.92\n",
      "RMSE with 100 boost rounds: 6293.47\n"
     ]
    }
   ],
   "source": [
    "#predict\n",
    "y_pred = xgb_model.predict(DM_test)\n",
    "\n",
    "print('R2 with 100 boost rounds: {:.2f}'.format(metrics.r2_score(y_test, y_pred)))\n",
    "print('RMSE with 100 boost rounds: {:.2f}'.format(np.sqrt(metrics.mean_squared_error(y_test, y_pred))))"
   ]
  },
  {
   "cell_type": "code",
   "execution_count": 69,
   "metadata": {},
   "outputs": [
    {
     "name": "stdout",
     "output_type": "stream",
     "text": [
      "R2 with 100 boost rounds, max_depth of 1: 0.29\n",
      "RMSE with 100 boost rounds, max_depth of 1: 18629.34\n",
      "R2 with 100 boost rounds, max_depth of 2: 0.47\n",
      "RMSE with 100 boost rounds, max_depth of 2: 16028.03\n",
      "R2 with 100 boost rounds, max_depth of 3: 0.59\n",
      "RMSE with 100 boost rounds, max_depth of 3: 14218.24\n",
      "R2 with 100 boost rounds, max_depth of 4: 0.64\n",
      "RMSE with 100 boost rounds, max_depth of 4: 13248.16\n",
      "R2 with 100 boost rounds, max_depth of 5: 0.69\n",
      "RMSE with 100 boost rounds, max_depth of 5: 12267.21\n",
      "R2 with 100 boost rounds, max_depth of 6: 0.74\n",
      "RMSE with 100 boost rounds, max_depth of 6: 11372.58\n"
     ]
    }
   ],
   "source": [
    "#loop through several possible max_depth values\n",
    "\n",
    "max_depth_values = [1, 2, 3, 4, 5, 6]\n",
    "\n",
    "for i in max_depth_values:\n",
    "    params['max_depth'] = i\n",
    "    xgb_model = xgb.train(params=params, dtrain=DM_train, num_boost_round=10)\n",
    "    y_pred = xgb_model.predict(DM_test)\n",
    "\n",
    "    print('R2 with 100 boost rounds, max_depth of {}: {:.2f}'.format(i, metrics.r2_score(y_test, y_pred)))\n",
    "    print('RMSE with 100 boost rounds, max_depth of {}: {:.2f}'.format(i, np.sqrt(metrics.mean_squared_error(y_test, y_pred))))"
   ]
  },
  {
   "cell_type": "code",
   "execution_count": 70,
   "metadata": {},
   "outputs": [
    {
     "data": {
      "text/plain": [
       "{'f129': 3430640239000.0,\n",
       " 'f132': 3356609328625.0,\n",
       " 'f92': 2675688902142.857,\n",
       " 'f116': 2193922297714.2856,\n",
       " 'f10': 415425447570.93915,\n",
       " 'f94': 1589142651166.6667,\n",
       " 'f127': 1862358840833.3333,\n",
       " 'f198': 589180198788.0,\n",
       " 'f13': 204251834800.0,\n",
       " 'f36': 151971583166.66666,\n",
       " 'f42': 94451269650.0,\n",
       " 'f37': 71976222733.33333,\n",
       " 'f8': 35260063502.13793,\n",
       " 'f20': 208044001675.0,\n",
       " 'f53': 39132522662.72727,\n",
       " 'f30': 87454468457.14285,\n",
       " 'f139': 133515785080.0,\n",
       " 'f7': 20810766821.636364,\n",
       " 'f27': 39484990800.0,\n",
       " 'f25': 40368807950.0,\n",
       " 'f46': 25700254520.0,\n",
       " 'f52': 30072442289.142857,\n",
       " 'f24': 109737522928.57143,\n",
       " 'f21': 109249875280.0,\n",
       " 'f57': 1741582723400.0,\n",
       " 'f137': 295845395114.2857,\n",
       " 'f138': 319811702855.38464,\n",
       " 'f43': 43545395200.0,\n",
       " 'f0': 7287576034.181818,\n",
       " 'f35': 10160640520.0,\n",
       " 'f18': 34830920366.666664,\n",
       " 'f41': 35578511400.0,\n",
       " 'f131': 777690848400.0,\n",
       " 'f203': 324764768.0,\n",
       " 'f17': 17437343700.0,\n",
       " 'f47': 8587673830.0,\n",
       " 'f183': 24563200.0,\n",
       " 'f6': 4190448458.6666665,\n",
       " 'f1': 2343601004.2,\n",
       " 'f176': 10617532.0,\n",
       " 'f11': 59221301250.0,\n",
       " 'f14': 61746872300.0,\n",
       " 'f68': 896342773666.6666,\n",
       " 'f19': 36301537276.666664,\n",
       " 'f63': 759273291500.0,\n",
       " 'f163': 941359104.0,\n",
       " 'f128': 1195451607000.0,\n",
       " 'f16': 47741206550.0,\n",
       " 'f29': 51700564000.0,\n",
       " 'f34': 32674938866.666668,\n",
       " 'f32': 11599965200.0,\n",
       " 'f167': 272285696.0,\n",
       " 'f55': 4574793726.0,\n",
       " 'f182': 2664896.0,\n",
       " 'f130': 511152122666.6667,\n",
       " 'f54': 21778366450.0,\n",
       " 'f62': 797033770333.3334,\n",
       " 'f59': 791150329500.0,\n",
       " 'f202': 258811069751.0,\n",
       " 'f201': 191493960870.0,\n",
       " 'f158': 1815552.0,\n",
       " 'f28': 614576128.0,\n",
       " 'f4': 197685259382.0,\n",
       " 'f77': 660231356000.0,\n",
       " 'f60': 395549540000.0,\n",
       " 'f120': 544622576000.0,\n",
       " 'f123': 132496949000.0,\n",
       " 'f56': 95155372000.0,\n",
       " 'f2': 4849855488.0,\n",
       " 'f44': 40525725700.0,\n",
       " 'f5': 4386422780.0,\n",
       " 'f100': 450778628000.0,\n",
       " 'f50': 47692349400.0,\n",
       " 'f12': 53716582400.0,\n",
       " 'f3': 15216320500.0}"
      ]
     },
     "execution_count": 70,
     "metadata": {},
     "output_type": "execute_result"
    }
   ],
   "source": [
    "#get feature importances\n",
    "feature_importances = xgb_model.get_score(importance_type='gain')\n",
    "feature_importances"
   ]
  },
  {
   "cell_type": "code",
   "execution_count": 71,
   "metadata": {},
   "outputs": [],
   "source": [
    "list_of_importances = []\n",
    "list_of_indices = []\n",
    "\n",
    "for key, val in feature_importances.items():\n",
    "    list_of_importances.append(val)\n",
    "    list_of_indices.append(int(key.strip('f')))"
   ]
  },
  {
   "cell_type": "code",
   "execution_count": 72,
   "metadata": {},
   "outputs": [],
   "source": [
    "#get names of important columns\n",
    "important_col_names = df_dummies.iloc[:, list_of_indices].columns"
   ]
  },
  {
   "cell_type": "code",
   "execution_count": 73,
   "metadata": {},
   "outputs": [
    {
     "data": {
      "text/html": [
       "<div>\n",
       "<style scoped>\n",
       "    .dataframe tbody tr th:only-of-type {\n",
       "        vertical-align: middle;\n",
       "    }\n",
       "\n",
       "    .dataframe tbody tr th {\n",
       "        vertical-align: top;\n",
       "    }\n",
       "\n",
       "    .dataframe thead th {\n",
       "        text-align: right;\n",
       "    }\n",
       "</style>\n",
       "<table border=\"1\" class=\"dataframe\">\n",
       "  <thead>\n",
       "    <tr style=\"text-align: right;\">\n",
       "      <th></th>\n",
       "      <th>feature</th>\n",
       "      <th>importance</th>\n",
       "    </tr>\n",
       "  </thead>\n",
       "  <tbody>\n",
       "    <tr>\n",
       "      <th>0</th>\n",
       "      <td>Dept_91</td>\n",
       "      <td>3.430640e+12</td>\n",
       "    </tr>\n",
       "    <tr>\n",
       "      <th>1</th>\n",
       "      <td>Dept_94</td>\n",
       "      <td>3.356609e+12</td>\n",
       "    </tr>\n",
       "    <tr>\n",
       "      <th>2</th>\n",
       "      <td>Dept_37</td>\n",
       "      <td>2.675689e+12</td>\n",
       "    </tr>\n",
       "    <tr>\n",
       "      <th>3</th>\n",
       "      <td>Dept_71</td>\n",
       "      <td>2.193922e+12</td>\n",
       "    </tr>\n",
       "    <tr>\n",
       "      <th>6</th>\n",
       "      <td>Dept_87</td>\n",
       "      <td>1.862359e+12</td>\n",
       "    </tr>\n",
       "    <tr>\n",
       "      <th>24</th>\n",
       "      <td>Dept_1</td>\n",
       "      <td>1.741583e+12</td>\n",
       "    </tr>\n",
       "    <tr>\n",
       "      <th>5</th>\n",
       "      <td>Dept_39</td>\n",
       "      <td>1.589143e+12</td>\n",
       "    </tr>\n",
       "    <tr>\n",
       "      <th>46</th>\n",
       "      <td>Dept_90</td>\n",
       "      <td>1.195452e+12</td>\n",
       "    </tr>\n",
       "    <tr>\n",
       "      <th>42</th>\n",
       "      <td>Dept_12</td>\n",
       "      <td>8.963428e+11</td>\n",
       "    </tr>\n",
       "    <tr>\n",
       "      <th>56</th>\n",
       "      <td>Dept_6</td>\n",
       "      <td>7.970338e+11</td>\n",
       "    </tr>\n",
       "    <tr>\n",
       "      <th>57</th>\n",
       "      <td>Dept_3</td>\n",
       "      <td>7.911503e+11</td>\n",
       "    </tr>\n",
       "    <tr>\n",
       "      <th>32</th>\n",
       "      <td>Dept_93</td>\n",
       "      <td>7.776908e+11</td>\n",
       "    </tr>\n",
       "    <tr>\n",
       "      <th>44</th>\n",
       "      <td>Dept_7</td>\n",
       "      <td>7.592733e+11</td>\n",
       "    </tr>\n",
       "    <tr>\n",
       "      <th>63</th>\n",
       "      <td>Dept_22</td>\n",
       "      <td>6.602314e+11</td>\n",
       "    </tr>\n",
       "    <tr>\n",
       "      <th>7</th>\n",
       "      <td>Week_46</td>\n",
       "      <td>5.891802e+11</td>\n",
       "    </tr>\n",
       "    <tr>\n",
       "      <th>65</th>\n",
       "      <td>Dept_78</td>\n",
       "      <td>5.446226e+11</td>\n",
       "    </tr>\n",
       "    <tr>\n",
       "      <th>54</th>\n",
       "      <td>Dept_92</td>\n",
       "      <td>5.111521e+11</td>\n",
       "    </tr>\n",
       "    <tr>\n",
       "      <th>71</th>\n",
       "      <td>Dept_45</td>\n",
       "      <td>4.507786e+11</td>\n",
       "    </tr>\n",
       "    <tr>\n",
       "      <th>4</th>\n",
       "      <td>Size</td>\n",
       "      <td>4.154254e+11</td>\n",
       "    </tr>\n",
       "    <tr>\n",
       "      <th>64</th>\n",
       "      <td>Dept_4</td>\n",
       "      <td>3.955495e+11</td>\n",
       "    </tr>\n",
       "    <tr>\n",
       "      <th>26</th>\n",
       "      <td>Type_A</td>\n",
       "      <td>3.198117e+11</td>\n",
       "    </tr>\n",
       "    <tr>\n",
       "      <th>25</th>\n",
       "      <td>Dept_99</td>\n",
       "      <td>2.958454e+11</td>\n",
       "    </tr>\n",
       "    <tr>\n",
       "      <th>58</th>\n",
       "      <td>Week_50</td>\n",
       "      <td>2.588111e+11</td>\n",
       "    </tr>\n",
       "    <tr>\n",
       "      <th>13</th>\n",
       "      <td>Store_9</td>\n",
       "      <td>2.080440e+11</td>\n",
       "    </tr>\n",
       "    <tr>\n",
       "      <th>8</th>\n",
       "      <td>Store_2</td>\n",
       "      <td>2.042518e+11</td>\n",
       "    </tr>\n",
       "  </tbody>\n",
       "</table>\n",
       "</div>"
      ],
      "text/plain": [
       "    feature    importance\n",
       "0   Dept_91  3.430640e+12\n",
       "1   Dept_94  3.356609e+12\n",
       "2   Dept_37  2.675689e+12\n",
       "3   Dept_71  2.193922e+12\n",
       "6   Dept_87  1.862359e+12\n",
       "24   Dept_1  1.741583e+12\n",
       "5   Dept_39  1.589143e+12\n",
       "46  Dept_90  1.195452e+12\n",
       "42  Dept_12  8.963428e+11\n",
       "56   Dept_6  7.970338e+11\n",
       "57   Dept_3  7.911503e+11\n",
       "32  Dept_93  7.776908e+11\n",
       "44   Dept_7  7.592733e+11\n",
       "63  Dept_22  6.602314e+11\n",
       "7   Week_46  5.891802e+11\n",
       "65  Dept_78  5.446226e+11\n",
       "54  Dept_92  5.111521e+11\n",
       "71  Dept_45  4.507786e+11\n",
       "4      Size  4.154254e+11\n",
       "64   Dept_4  3.955495e+11\n",
       "26   Type_A  3.198117e+11\n",
       "25  Dept_99  2.958454e+11\n",
       "58  Week_50  2.588111e+11\n",
       "13  Store_9  2.080440e+11\n",
       "8   Store_2  2.042518e+11"
      ]
     },
     "execution_count": 73,
     "metadata": {},
     "output_type": "execute_result"
    }
   ],
   "source": [
    "feature_importance_df = pd.DataFrame({'feature':important_col_names, 'importance':list_of_importances}).sort_values(by='importance', ascending=False)\n",
    "feature_importance_df.head(25)"
   ]
  },
  {
   "cell_type": "markdown",
   "metadata": {},
   "source": [
    "Departments are the most important contributor to the XGBRegressor model, along with Size, Type_A, and a few stores and weeks."
   ]
  },
  {
   "cell_type": "markdown",
   "metadata": {},
   "source": [
    "Let's reduce our data set to only the 80 most important features and then run grid search cv to find the best parameters"
   ]
  },
  {
   "cell_type": "code",
   "execution_count": 74,
   "metadata": {},
   "outputs": [
    {
     "data": {
      "text/plain": [
       "(418660, 75)"
      ]
     },
     "execution_count": 74,
     "metadata": {},
     "output_type": "execute_result"
    }
   ],
   "source": [
    "columns_to_keep = feature_importance_df.iloc[:81, 0].to_list() #Weekly Sales is in the list to keep\n",
    "df_dummies_reduced = df_dummies[columns_to_keep]\n",
    "df_dummies_reduced.shape"
   ]
  },
  {
   "cell_type": "code",
   "execution_count": 75,
   "metadata": {},
   "outputs": [
    {
     "name": "stdout",
     "output_type": "stream",
     "text": [
      "(293146, 74)\n",
      "(125514, 74)\n"
     ]
    }
   ],
   "source": [
    "X_train = df_dummies_reduced.loc[(df['Year']==2010) | (df['Year']==2011), :].drop('Weekly_Sales', axis=1).values\n",
    "X_test = df_dummies_reduced.loc[df['Year']==2012, :].drop('Weekly_Sales', axis=1).values\n",
    "y_train = df_dummies_reduced.loc[(df['Year']==2010) | (df['Year']==2011), 'Weekly_Sales'].values.reshape(-1, 1)\n",
    "y_test = df_dummies_reduced.loc[df['Year']==2012, 'Weekly_Sales'].values.reshape(-1, 1)\n",
    "\n",
    "\n",
    "print(X_train.shape)\n",
    "print(X_test.shape)"
   ]
  },
  {
   "cell_type": "code",
   "execution_count": 76,
   "metadata": {},
   "outputs": [
    {
     "name": "stdout",
     "output_type": "stream",
     "text": [
      "(293146,)\n",
      "(125514,)\n"
     ]
    }
   ],
   "source": [
    "y_train = y_train.reshape(len(y_train))\n",
    "y_test = y_test.reshape(len(y_test))\n",
    "\n",
    "print(y_train.shape)\n",
    "print(y_test.shape)"
   ]
  },
  {
   "cell_type": "code",
   "execution_count": 77,
   "metadata": {},
   "outputs": [],
   "source": [
    "#convert data into DMatrixes\n",
    "DM_train = xgb.DMatrix(data=X_train, label=y_train)\n",
    "DM_test = xgb.DMatrix(data=X_test, label=y_test)"
   ]
  },
  {
   "cell_type": "code",
   "execution_count": 78,
   "metadata": {},
   "outputs": [
    {
     "name": "stdout",
     "output_type": "stream",
     "text": [
      "R2 with 100 boost rounds, learning rate of 0.001, half the features: -0.35\n",
      "RMSE with 100 boost rounds, learning rate of 0.001, half the features: 25731.15\n",
      "R2 with 100 boost rounds, learning rate of 0.01, half the features: 0.22\n",
      "RMSE with 100 boost rounds, learning rate of 0.01, half the features: 19502.69\n",
      "R2 with 100 boost rounds, learning rate of 0.1, half the features: 0.41\n",
      "RMSE with 100 boost rounds, learning rate of 0.1, half the features: 17039.60\n",
      "R2 with 100 boost rounds, learning rate of 1.0, half the features: 0.40\n",
      "RMSE with 100 boost rounds, learning rate of 1.0, half the features: 17116.60\n"
     ]
    }
   ],
   "source": [
    "params = params = {'objective':'reg:squarederror', 'max_depth': 5}\n",
    "    \n",
    "#loop through several possible eta values\n",
    "eta_vals = [0.001, 0.01, 0.1, 1.0]\n",
    "\n",
    "for eta in eta_vals:\n",
    "    params['eta'] = eta\n",
    "    xgb_model = xgb.train(params=params, dtrain=DM_train, num_boost_round=100)\n",
    "    y_pred = xgb_model.predict(DM_test)\n",
    "\n",
    "    print('R2 with 100 boost rounds, learning rate of {}, half the features: {:.2f}'.format(eta, metrics.r2_score(y_test, y_pred)))\n",
    "    print('RMSE with 100 boost rounds, learning rate of {}, half the features: {:.2f}'.format(eta, np.sqrt(metrics.mean_squared_error(y_test, y_pred))))"
   ]
  },
  {
   "cell_type": "markdown",
   "metadata": {},
   "source": [
    "Interestingly, using only half the features greatly reduces model performance. Let's loop through the same possible learning rates with all columns, and compare the performance."
   ]
  },
  {
   "cell_type": "code",
   "execution_count": 79,
   "metadata": {},
   "outputs": [
    {
     "name": "stdout",
     "output_type": "stream",
     "text": [
      "(293146, 207)\n",
      "(125514, 207)\n"
     ]
    }
   ],
   "source": [
    "X_train = df_dummies.loc[(df['Year']==2010) | (df['Year']==2011), :].drop('Weekly_Sales', axis=1).values\n",
    "X_test = df_dummies.loc[df['Year']==2012, :].drop('Weekly_Sales', axis=1).values\n",
    "y_train = df_dummies.loc[(df['Year']==2010) | (df['Year']==2011), 'Weekly_Sales'].values.reshape(-1, 1)\n",
    "y_test = df_dummies.loc[df['Year']==2012, 'Weekly_Sales'].values.reshape(-1, 1)\n",
    "\n",
    "print(X_train.shape)\n",
    "print(X_test.shape)"
   ]
  },
  {
   "cell_type": "code",
   "execution_count": 80,
   "metadata": {},
   "outputs": [
    {
     "name": "stdout",
     "output_type": "stream",
     "text": [
      "(293146,)\n",
      "(125514,)\n"
     ]
    }
   ],
   "source": [
    "y_train = y_train.reshape(len(y_train))\n",
    "y_test = y_test.reshape(len(y_test))\n",
    "\n",
    "print(y_train.shape)\n",
    "print(y_test.shape)"
   ]
  },
  {
   "cell_type": "code",
   "execution_count": 81,
   "metadata": {},
   "outputs": [],
   "source": [
    "#convert data into DMatrixes\n",
    "DM_train = xgb.DMatrix(data=X_train, label=y_train)\n",
    "DM_test = xgb.DMatrix(data=X_test, label=y_test)"
   ]
  },
  {
   "cell_type": "code",
   "execution_count": 82,
   "metadata": {},
   "outputs": [
    {
     "name": "stdout",
     "output_type": "stream",
     "text": [
      "R2 with 100 boost rounds, learning rate of 0.001: -0.33\n",
      "RMSE with 100 boost rounds, learning rate of 0.001: 25504.59\n",
      "R2 with 100 boost rounds, learning rate of 0.01: 0.40\n",
      "RMSE with 100 boost rounds, learning rate of 0.01: 17179.55\n",
      "R2 with 100 boost rounds, learning rate of 0.1: 0.83\n",
      "RMSE with 100 boost rounds, learning rate of 0.1: 9192.74\n",
      "R2 with 100 boost rounds, learning rate of 1.0: 0.88\n",
      "RMSE with 100 boost rounds, learning rate of 1.0: 7541.65\n"
     ]
    }
   ],
   "source": [
    "params = {'objective':'reg:squarederror', 'max_depth': 5}\n",
    "    \n",
    "#loop through several possible eta values\n",
    "eta_vals = [0.001, 0.01, 0.1, 1.0]\n",
    "\n",
    "for eta in eta_vals:\n",
    "    params['eta'] = eta\n",
    "    xgb_model = xgb.train(params=params, dtrain=DM_train, num_boost_round=100)\n",
    "    y_pred = xgb_model.predict(DM_test)\n",
    "\n",
    "    print('R2 with 100 boost rounds, learning rate of {}: {:.2f}'.format(eta, metrics.r2_score(y_test, y_pred)))\n",
    "    print('RMSE with 100 boost rounds, learning rate of {}: {:.2f}'.format(eta, np.sqrt(metrics.mean_squared_error(y_test, y_pred))))"
   ]
  },
  {
   "cell_type": "markdown",
   "metadata": {},
   "source": [
    "Finally, let's experiment with changing the subsample of rows and columns for each tree in the ensemble. "
   ]
  },
  {
   "cell_type": "code",
   "execution_count": 83,
   "metadata": {},
   "outputs": [
    {
     "name": "stdout",
     "output_type": "stream",
     "text": [
      "R2 with 100 boost rounds, learning rate of 0.1, subsample of 0.5: 0.83\n",
      "RMSE with 100 boost rounds, learning rate of 0.1, subsample of 0.5: 9121.35\n",
      "R2 with 100 boost rounds, learning rate of 0.1, subsample of 0.6: 0.83\n",
      "RMSE with 100 boost rounds, learning rate of 0.1, subsample of 0.6: 9067.61\n",
      "R2 with 100 boost rounds, learning rate of 0.1, subsample of 0.7: 0.83\n",
      "RMSE with 100 boost rounds, learning rate of 0.1, subsample of 0.7: 9095.72\n",
      "R2 with 100 boost rounds, learning rate of 0.1, subsample of 0.8: 0.83\n",
      "RMSE with 100 boost rounds, learning rate of 0.1, subsample of 0.8: 9090.98\n",
      "R2 with 100 boost rounds, learning rate of 0.1, subsample of 0.9: 0.83\n",
      "RMSE with 100 boost rounds, learning rate of 0.1, subsample of 0.9: 9070.51\n"
     ]
    }
   ],
   "source": [
    "params = {'objective':'reg:squarederror', 'max_depth': 5, 'eta':0.1}\n",
    "    \n",
    "#loop through several possible values of subsamples (rows)\n",
    "subsample_vals= [0.5, 0.6, 0.7, 0.8, 0.9]\n",
    "\n",
    "for val in subsample_vals:\n",
    "    params['subsample'] = val\n",
    "    xgb_model = xgb.train(params=params, dtrain=DM_train, num_boost_round=100)\n",
    "    y_pred = xgb_model.predict(DM_test)\n",
    "\n",
    "    print('R2 with 100 boost rounds, learning rate of 0.1, subsample of {}: {:.2f}'.format(val, metrics.r2_score(y_test, y_pred)))\n",
    "    print('RMSE with 100 boost rounds, learning rate of 0.1, subsample of {}: {:.2f}'.format(val, np.sqrt(metrics.mean_squared_error(y_test, y_pred))))"
   ]
  },
  {
   "cell_type": "code",
   "execution_count": 84,
   "metadata": {},
   "outputs": [
    {
     "name": "stdout",
     "output_type": "stream",
     "text": [
      "R2 with 100 boost rounds, learning rate of 0.1, colsample_bytree of 0.7: 0.82\n",
      "RMSE with 100 boost rounds, learning rate of 0.1, colsample_bytree of 0.7: 9266.87\n",
      "R2 with 100 boost rounds, learning rate of 0.1, colsample_bytree of 0.8: 0.83\n",
      "RMSE with 100 boost rounds, learning rate of 0.1, colsample_bytree of 0.8: 9175.80\n",
      "R2 with 100 boost rounds, learning rate of 0.1, colsample_bytree of 0.9: 0.83\n",
      "RMSE with 100 boost rounds, learning rate of 0.1, colsample_bytree of 0.9: 9101.74\n"
     ]
    }
   ],
   "source": [
    "params = {'objective':'reg:squarederror', 'max_depth': 5, 'eta':0.1, 'subsample':0.8}\n",
    "    \n",
    "#loop through several possible values of subsamples (rows)\n",
    "colsample_vals= [0.7, 0.8, 0.9]\n",
    "\n",
    "for val in colsample_vals:\n",
    "    params['colsample_bytree'] = val\n",
    "    xgb_model = xgb.train(params=params, dtrain=DM_train, num_boost_round=100)\n",
    "    y_pred = xgb_model.predict(DM_test)\n",
    "\n",
    "    print('R2 with 100 boost rounds, learning rate of 0.1, colsample_bytree of {}: {:.2f}'.format(val, metrics.r2_score(y_test, y_pred)))\n",
    "    print('RMSE with 100 boost rounds, learning rate of 0.1, colsample_bytree of {}: {:.2f}'.format(val, np.sqrt(metrics.mean_squared_error(y_test, y_pred))))"
   ]
  },
  {
   "cell_type": "markdown",
   "metadata": {},
   "source": [
    "Using the best parameters, we can build the final model:"
   ]
  },
  {
   "cell_type": "code",
   "execution_count": 85,
   "metadata": {},
   "outputs": [
    {
     "name": "stdout",
     "output_type": "stream",
     "text": [
      "(293146, 207)\n",
      "(125514, 207)\n"
     ]
    }
   ],
   "source": [
    "X_train = df_dummies.loc[(df['Year']==2010) | (df['Year']==2011), :].drop('Weekly_Sales', axis=1).values\n",
    "X_test = df_dummies.loc[df['Year']==2012, :].drop('Weekly_Sales', axis=1).values\n",
    "y_train = df_dummies.loc[(df['Year']==2010) | (df['Year']==2011), 'Weekly_Sales'].values.reshape(-1, 1)\n",
    "y_test = df_dummies.loc[df['Year']==2012, 'Weekly_Sales'].values.reshape(-1, 1)\n",
    "\n",
    "print(X_train.shape)\n",
    "print(X_test.shape)"
   ]
  },
  {
   "cell_type": "code",
   "execution_count": 86,
   "metadata": {},
   "outputs": [
    {
     "name": "stdout",
     "output_type": "stream",
     "text": [
      "(293146,)\n",
      "(125514,)\n"
     ]
    }
   ],
   "source": [
    "y_train = y_train.reshape(len(y_train))\n",
    "y_test = y_test.reshape(len(y_test))\n",
    "\n",
    "print(y_train.shape)\n",
    "print(y_test.shape)"
   ]
  },
  {
   "cell_type": "code",
   "execution_count": 87,
   "metadata": {},
   "outputs": [],
   "source": [
    "#convert data into DMatrixes\n",
    "DM_train = xgb.DMatrix(data=X_train, label=y_train)\n",
    "DM_test = xgb.DMatrix(data=X_test, label=y_test)"
   ]
  },
  {
   "cell_type": "code",
   "execution_count": 88,
   "metadata": {},
   "outputs": [],
   "source": [
    "params = {'objective':'reg:squarederror', 'max_depth': 5, 'eta':0.1, 'subsample':0.8, 'colsample_bytree':0.8}\n",
    "\n",
    "xgb_model = xgb.train(params=params, dtrain=DM_train, num_boost_round=100)"
   ]
  },
  {
   "cell_type": "code",
   "execution_count": 89,
   "metadata": {},
   "outputs": [
    {
     "name": "stdout",
     "output_type": "stream",
     "text": [
      "R2 with 100 boost rounds: 0.83\n",
      "RMSE with 100 boost rounds: 9175.80\n"
     ]
    }
   ],
   "source": [
    "#predict\n",
    "y_pred = xgb_model.predict(DM_test)\n",
    "\n",
    "print('R2 with 100 boost rounds: {:.2f}'.format(metrics.r2_score(y_test, y_pred)))\n",
    "print('RMSE with 100 boost rounds: {:.2f}'.format(np.sqrt(metrics.mean_squared_error(y_test, y_pred))))"
   ]
  },
  {
   "cell_type": "markdown",
   "metadata": {},
   "source": [
    "We can inspect the first 10 predictions and true values, to get a sense of the performance."
   ]
  },
  {
   "cell_type": "code",
   "execution_count": 90,
   "metadata": {},
   "outputs": [
    {
     "data": {
      "text/html": [
       "<div>\n",
       "<style scoped>\n",
       "    .dataframe tbody tr th:only-of-type {\n",
       "        vertical-align: middle;\n",
       "    }\n",
       "\n",
       "    .dataframe tbody tr th {\n",
       "        vertical-align: top;\n",
       "    }\n",
       "\n",
       "    .dataframe thead th {\n",
       "        text-align: right;\n",
       "    }\n",
       "</style>\n",
       "<table border=\"1\" class=\"dataframe\">\n",
       "  <thead>\n",
       "    <tr style=\"text-align: right;\">\n",
       "      <th></th>\n",
       "      <th>Predicted values</th>\n",
       "      <th>True values</th>\n",
       "    </tr>\n",
       "  </thead>\n",
       "  <tbody>\n",
       "    <tr>\n",
       "      <th>0</th>\n",
       "      <td>17458.437500</td>\n",
       "      <td>16567.69</td>\n",
       "    </tr>\n",
       "    <tr>\n",
       "      <th>1</th>\n",
       "      <td>40650.484375</td>\n",
       "      <td>44481.38</td>\n",
       "    </tr>\n",
       "    <tr>\n",
       "      <th>2</th>\n",
       "      <td>10802.493164</td>\n",
       "      <td>13926.04</td>\n",
       "    </tr>\n",
       "    <tr>\n",
       "      <th>3</th>\n",
       "      <td>24189.796875</td>\n",
       "      <td>40925.76</td>\n",
       "    </tr>\n",
       "    <tr>\n",
       "      <th>4</th>\n",
       "      <td>20084.144531</td>\n",
       "      <td>23105.81</td>\n",
       "    </tr>\n",
       "    <tr>\n",
       "      <th>5</th>\n",
       "      <td>10026.289062</td>\n",
       "      <td>3665.25</td>\n",
       "    </tr>\n",
       "    <tr>\n",
       "      <th>6</th>\n",
       "      <td>21727.472656</td>\n",
       "      <td>12377.76</td>\n",
       "    </tr>\n",
       "    <tr>\n",
       "      <th>7</th>\n",
       "      <td>29098.935547</td>\n",
       "      <td>36797.00</td>\n",
       "    </tr>\n",
       "    <tr>\n",
       "      <th>8</th>\n",
       "      <td>17012.357422</td>\n",
       "      <td>20705.21</td>\n",
       "    </tr>\n",
       "    <tr>\n",
       "      <th>9</th>\n",
       "      <td>15917.623047</td>\n",
       "      <td>29927.33</td>\n",
       "    </tr>\n",
       "  </tbody>\n",
       "</table>\n",
       "</div>"
      ],
      "text/plain": [
       "   Predicted values  True values\n",
       "0      17458.437500     16567.69\n",
       "1      40650.484375     44481.38\n",
       "2      10802.493164     13926.04\n",
       "3      24189.796875     40925.76\n",
       "4      20084.144531     23105.81\n",
       "5      10026.289062      3665.25\n",
       "6      21727.472656     12377.76\n",
       "7      29098.935547     36797.00\n",
       "8      17012.357422     20705.21\n",
       "9      15917.623047     29927.33"
      ]
     },
     "execution_count": 90,
     "metadata": {},
     "output_type": "execute_result"
    }
   ],
   "source": [
    "pd.DataFrame({'Predicted values':y_pred[:10], 'True values':y_test[:10]})"
   ]
  },
  {
   "cell_type": "code",
   "execution_count": 91,
   "metadata": {},
   "outputs": [],
   "source": [
    "#save the model\n",
    "xgb_model.save_model('xgb.model')"
   ]
  },
  {
   "cell_type": "code",
   "execution_count": 92,
   "metadata": {},
   "outputs": [
    {
     "name": "stdout",
     "output_type": "stream",
     "text": [
      "<class 'xgboost.core.Booster'>\n",
      "<class 'xgboost.core.Booster'>\n",
      "R2 with 100 boost rounds: 0.83\n",
      "RMSE with 100 boost rounds: 9175.80\n"
     ]
    }
   ],
   "source": [
    "#load it back in and check if it works\n",
    "loaded_model = xgb.Booster(model_file='xgb.model')\n",
    "print(type(xgb_model))\n",
    "print(type(loaded_model))\n",
    "\n",
    "\n",
    "y_pred_2 = loaded_model.predict(DM_test)\n",
    "\n",
    "print('R2 with 100 boost rounds: {:.2f}'.format(metrics.r2_score(y_test, y_pred_2)))\n",
    "print('RMSE with 100 boost rounds: {:.2f}'.format(np.sqrt(metrics.mean_squared_error(y_test, y_pred_2))))"
   ]
  }
 ],
 "metadata": {
  "kernelspec": {
   "display_name": "Python 3",
   "language": "python",
   "name": "python3"
  },
  "language_info": {
   "codemirror_mode": {
    "name": "ipython",
    "version": 3
   },
   "file_extension": ".py",
   "mimetype": "text/x-python",
   "name": "python",
   "nbconvert_exporter": "python",
   "pygments_lexer": "ipython3",
   "version": "3.8.3"
  }
 },
 "nbformat": 4,
 "nbformat_minor": 4
}
