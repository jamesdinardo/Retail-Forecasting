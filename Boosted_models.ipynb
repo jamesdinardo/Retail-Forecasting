{
 "cells": [
  {
   "cell_type": "code",
   "execution_count": 1,
   "metadata": {},
   "outputs": [],
   "source": [
    "import numpy as np\n",
    "import pandas as pd\n",
    "import matplotlib.pyplot as plt\n",
    "%matplotlib inline\n",
    "\n",
    "from sklearn.model_selection import train_test_split\n",
    "from sklearn.tree import DecisionTreeRegressor\n",
    "from sklearn.tree import export_graphviz\n",
    "from graphviz import Source\n",
    "from sklearn.ensemble import AdaBoostRegressor\n",
    "from sklearn.ensemble import GradientBoostingRegressor\n",
    "import xgboost as xgb\n",
    "from sklearn.model_selection import RandomizedSearchCV\n",
    "from sklearn import metrics\n"
   ]
  },
  {
   "cell_type": "code",
   "execution_count": 2,
   "metadata": {},
   "outputs": [],
   "source": [
    "#import the dataset from GitHub\n",
    "url = 'https://raw.githubusercontent.com/jamesdinardo/Retail-Forecasting/master/final_df.csv'\n",
    "df = pd.read_csv(url)\n"
   ]
  },
  {
   "cell_type": "code",
   "execution_count": 3,
   "metadata": {},
   "outputs": [
    {
     "name": "stdout",
     "output_type": "stream",
     "text": [
      "Shape of final dataframe: (421570, 16)\n"
     ]
    },
    {
     "data": {
      "text/html": [
       "<div>\n",
       "<style scoped>\n",
       "    .dataframe tbody tr th:only-of-type {\n",
       "        vertical-align: middle;\n",
       "    }\n",
       "\n",
       "    .dataframe tbody tr th {\n",
       "        vertical-align: top;\n",
       "    }\n",
       "\n",
       "    .dataframe thead th {\n",
       "        text-align: right;\n",
       "    }\n",
       "</style>\n",
       "<table border=\"1\" class=\"dataframe\">\n",
       "  <thead>\n",
       "    <tr style=\"text-align: right;\">\n",
       "      <th></th>\n",
       "      <th>Store</th>\n",
       "      <th>Date</th>\n",
       "      <th>Temperature</th>\n",
       "      <th>Fuel_Price</th>\n",
       "      <th>MarkDown1</th>\n",
       "      <th>MarkDown2</th>\n",
       "      <th>MarkDown3</th>\n",
       "      <th>MarkDown4</th>\n",
       "      <th>MarkDown5</th>\n",
       "      <th>CPI</th>\n",
       "      <th>Unemployment</th>\n",
       "      <th>IsHoliday</th>\n",
       "      <th>Dept</th>\n",
       "      <th>Type</th>\n",
       "      <th>Size</th>\n",
       "      <th>Weekly_Sales</th>\n",
       "    </tr>\n",
       "  </thead>\n",
       "  <tbody>\n",
       "    <tr>\n",
       "      <th>0</th>\n",
       "      <td>1</td>\n",
       "      <td>05/02/2010</td>\n",
       "      <td>42.31</td>\n",
       "      <td>2.572</td>\n",
       "      <td>0.0</td>\n",
       "      <td>0.0</td>\n",
       "      <td>0.0</td>\n",
       "      <td>0.0</td>\n",
       "      <td>0.0</td>\n",
       "      <td>211.096358</td>\n",
       "      <td>8.106</td>\n",
       "      <td>False</td>\n",
       "      <td>1</td>\n",
       "      <td>A</td>\n",
       "      <td>151315</td>\n",
       "      <td>24924.50</td>\n",
       "    </tr>\n",
       "    <tr>\n",
       "      <th>1</th>\n",
       "      <td>1</td>\n",
       "      <td>05/02/2010</td>\n",
       "      <td>42.31</td>\n",
       "      <td>2.572</td>\n",
       "      <td>0.0</td>\n",
       "      <td>0.0</td>\n",
       "      <td>0.0</td>\n",
       "      <td>0.0</td>\n",
       "      <td>0.0</td>\n",
       "      <td>211.096358</td>\n",
       "      <td>8.106</td>\n",
       "      <td>False</td>\n",
       "      <td>2</td>\n",
       "      <td>A</td>\n",
       "      <td>151315</td>\n",
       "      <td>50605.27</td>\n",
       "    </tr>\n",
       "    <tr>\n",
       "      <th>2</th>\n",
       "      <td>1</td>\n",
       "      <td>05/02/2010</td>\n",
       "      <td>42.31</td>\n",
       "      <td>2.572</td>\n",
       "      <td>0.0</td>\n",
       "      <td>0.0</td>\n",
       "      <td>0.0</td>\n",
       "      <td>0.0</td>\n",
       "      <td>0.0</td>\n",
       "      <td>211.096358</td>\n",
       "      <td>8.106</td>\n",
       "      <td>False</td>\n",
       "      <td>3</td>\n",
       "      <td>A</td>\n",
       "      <td>151315</td>\n",
       "      <td>13740.12</td>\n",
       "    </tr>\n",
       "    <tr>\n",
       "      <th>3</th>\n",
       "      <td>1</td>\n",
       "      <td>05/02/2010</td>\n",
       "      <td>42.31</td>\n",
       "      <td>2.572</td>\n",
       "      <td>0.0</td>\n",
       "      <td>0.0</td>\n",
       "      <td>0.0</td>\n",
       "      <td>0.0</td>\n",
       "      <td>0.0</td>\n",
       "      <td>211.096358</td>\n",
       "      <td>8.106</td>\n",
       "      <td>False</td>\n",
       "      <td>4</td>\n",
       "      <td>A</td>\n",
       "      <td>151315</td>\n",
       "      <td>39954.04</td>\n",
       "    </tr>\n",
       "    <tr>\n",
       "      <th>4</th>\n",
       "      <td>1</td>\n",
       "      <td>05/02/2010</td>\n",
       "      <td>42.31</td>\n",
       "      <td>2.572</td>\n",
       "      <td>0.0</td>\n",
       "      <td>0.0</td>\n",
       "      <td>0.0</td>\n",
       "      <td>0.0</td>\n",
       "      <td>0.0</td>\n",
       "      <td>211.096358</td>\n",
       "      <td>8.106</td>\n",
       "      <td>False</td>\n",
       "      <td>5</td>\n",
       "      <td>A</td>\n",
       "      <td>151315</td>\n",
       "      <td>32229.38</td>\n",
       "    </tr>\n",
       "  </tbody>\n",
       "</table>\n",
       "</div>"
      ],
      "text/plain": [
       "   Store        Date  Temperature  Fuel_Price  MarkDown1  MarkDown2  \\\n",
       "0      1  05/02/2010        42.31       2.572        0.0        0.0   \n",
       "1      1  05/02/2010        42.31       2.572        0.0        0.0   \n",
       "2      1  05/02/2010        42.31       2.572        0.0        0.0   \n",
       "3      1  05/02/2010        42.31       2.572        0.0        0.0   \n",
       "4      1  05/02/2010        42.31       2.572        0.0        0.0   \n",
       "\n",
       "   MarkDown3  MarkDown4  MarkDown5         CPI  Unemployment  IsHoliday  Dept  \\\n",
       "0        0.0        0.0        0.0  211.096358         8.106      False     1   \n",
       "1        0.0        0.0        0.0  211.096358         8.106      False     2   \n",
       "2        0.0        0.0        0.0  211.096358         8.106      False     3   \n",
       "3        0.0        0.0        0.0  211.096358         8.106      False     4   \n",
       "4        0.0        0.0        0.0  211.096358         8.106      False     5   \n",
       "\n",
       "  Type    Size  Weekly_Sales  \n",
       "0    A  151315      24924.50  \n",
       "1    A  151315      50605.27  \n",
       "2    A  151315      13740.12  \n",
       "3    A  151315      39954.04  \n",
       "4    A  151315      32229.38  "
      ]
     },
     "execution_count": 3,
     "metadata": {},
     "output_type": "execute_result"
    }
   ],
   "source": [
    "print('Shape of final dataframe: {}'.format(df.shape))\n",
    "df.head()"
   ]
  },
  {
   "cell_type": "code",
   "execution_count": 4,
   "metadata": {},
   "outputs": [],
   "source": [
    "#convert Date column to datetime\n",
    "df['Date'] = pd.to_datetime(df['Date'])\n",
    "\n",
    "#convert Store, Dept, and Type columns to category\n",
    "df['Store'] = df['Store'].astype('category')\n",
    "\n",
    "df['Dept'] = df['Dept'].astype('category')\n",
    "\n",
    "df['Type'] = df['Type'].astype('category')"
   ]
  },
  {
   "cell_type": "code",
   "execution_count": 5,
   "metadata": {},
   "outputs": [],
   "source": [
    "#create separate features for Week, Month, and Year\n",
    "df['Month'] = df['Date'].dt.month\n",
    "df['Month'] = df['Month'].astype('category')\n",
    "\n",
    "df['Week'] = df['Date'].dt.week\n",
    "df['Week'] = df['Week'].astype('category')\n",
    "\n",
    "df['Year'] = df['Date'].dt.year\n",
    "df['Year'] = df['Year'].astype('category')"
   ]
  },
  {
   "cell_type": "code",
   "execution_count": 6,
   "metadata": {},
   "outputs": [
    {
     "name": "stdout",
     "output_type": "stream",
     "text": [
      "<class 'pandas.core.frame.DataFrame'>\n",
      "RangeIndex: 421570 entries, 0 to 421569\n",
      "Data columns (total 19 columns):\n",
      " #   Column        Non-Null Count   Dtype         \n",
      "---  ------        --------------   -----         \n",
      " 0   Store         421570 non-null  category      \n",
      " 1   Date          421570 non-null  datetime64[ns]\n",
      " 2   Temperature   421570 non-null  float64       \n",
      " 3   Fuel_Price    421570 non-null  float64       \n",
      " 4   MarkDown1     421570 non-null  float64       \n",
      " 5   MarkDown2     421570 non-null  float64       \n",
      " 6   MarkDown3     421570 non-null  float64       \n",
      " 7   MarkDown4     421570 non-null  float64       \n",
      " 8   MarkDown5     421570 non-null  float64       \n",
      " 9   CPI           421570 non-null  float64       \n",
      " 10  Unemployment  421570 non-null  float64       \n",
      " 11  IsHoliday     421570 non-null  bool          \n",
      " 12  Dept          421570 non-null  category      \n",
      " 13  Type          421570 non-null  category      \n",
      " 14  Size          421570 non-null  int64         \n",
      " 15  Weekly_Sales  421570 non-null  float64       \n",
      " 16  Month         421570 non-null  category      \n",
      " 17  Week          421570 non-null  category      \n",
      " 18  Year          421570 non-null  category      \n",
      "dtypes: bool(1), category(6), datetime64[ns](1), float64(10), int64(1)\n",
      "memory usage: 41.4 MB\n"
     ]
    }
   ],
   "source": [
    "df.info()"
   ]
  },
  {
   "cell_type": "code",
   "execution_count": 7,
   "metadata": {},
   "outputs": [],
   "source": [
    "df.drop('Date', axis=1, inplace=True)"
   ]
  },
  {
   "cell_type": "code",
   "execution_count": 8,
   "metadata": {},
   "outputs": [],
   "source": [
    "#create dummy variables\n",
    "df_dummies = pd.get_dummies(df)"
   ]
  },
  {
   "cell_type": "code",
   "execution_count": 9,
   "metadata": {},
   "outputs": [],
   "source": [
    "X = df_dummies.drop('Weekly_Sales', axis=1).values\n",
    "y = df_dummies['Weekly_Sales'].values.reshape(-1, 1)\n"
   ]
  },
  {
   "cell_type": "code",
   "execution_count": 10,
   "metadata": {},
   "outputs": [
    {
     "name": "stdout",
     "output_type": "stream",
     "text": [
      "(316177, 207)\n",
      "(105393, 207)\n"
     ]
    }
   ],
   "source": [
    "X_train, X_test, y_train, y_test = train_test_split(X, y, test_size=0.25, random_state=0)\n",
    "print(X_train.shape)\n",
    "print(X_test.shape)"
   ]
  },
  {
   "cell_type": "code",
   "execution_count": 11,
   "metadata": {},
   "outputs": [
    {
     "name": "stdout",
     "output_type": "stream",
     "text": [
      "(316177,)\n",
      "(105393,)\n"
     ]
    }
   ],
   "source": [
    "y_train = y_train.reshape(len(y_train))\n",
    "y_test = y_test.reshape(len(y_test))\n",
    "print(y_train.shape)\n",
    "print(y_test.shape)"
   ]
  },
  {
   "cell_type": "markdown",
   "metadata": {},
   "source": [
    "We will try three types of boosting algorithms: AdaBoost, GradientBoost, and XGBoost"
   ]
  },
  {
   "cell_type": "markdown",
   "metadata": {},
   "source": [
    "1. AdaBoost"
   ]
  },
  {
   "cell_type": "code",
   "execution_count": 18,
   "metadata": {},
   "outputs": [],
   "source": [
    "abr = AdaBoostRegressor(base_estimator=DecisionTreeRegressor(max_depth=4), n_estimators=10, random_state=0, learning_rate=0.1)"
   ]
  },
  {
   "cell_type": "code",
   "execution_count": 19,
   "metadata": {},
   "outputs": [
    {
     "data": {
      "text/plain": [
       "AdaBoostRegressor(base_estimator=DecisionTreeRegressor(max_depth=4),\n",
       "                  learning_rate=0.1, n_estimators=10, random_state=0)"
      ]
     },
     "execution_count": 19,
     "metadata": {},
     "output_type": "execute_result"
    }
   ],
   "source": [
    "abr.fit(X_train, y_train)"
   ]
  },
  {
   "cell_type": "code",
   "execution_count": 20,
   "metadata": {},
   "outputs": [
    {
     "name": "stdout",
     "output_type": "stream",
     "text": [
      "R2 with 10 estimators: 0.3896691620124285\n",
      "RMSE with 10 estimators: 17853.477226748226\n"
     ]
    }
   ],
   "source": [
    "y_pred = abr.predict(X_test)\n",
    "\n",
    "print('R2 with 10 estimators: {}'.format(metrics.r2_score(y_test, y_pred)))\n",
    "print('RMSE with 10 estimators: {}'.format(np.sqrt(metrics.mean_squared_error(y_test, y_pred))))"
   ]
  },
  {
   "cell_type": "code",
   "execution_count": null,
   "metadata": {},
   "outputs": [],
   "source": [
    "n_estimator_values = [5, 10, 15, 20]\n",
    "\n",
    "for i in n_estimator_values:\n",
    "    abr = AdaBoostRegressor(n_estimators=i, learning_rate=0.01, random_state=0)\n",
    "    abr.fit(X_train, y_train)\n",
    "    y_pred = abr.predict(X_test)\n",
    "    print('R2 with {} estimators: {}'.format(i, metrics.r2_score(y_test, y_pred)))\n",
    "    print('RMSE with {} estimators: {}'.format(i, np.sqrt(metrics.mean_squared_error(y_test, y_pred))))"
   ]
  },
  {
   "cell_type": "markdown",
   "metadata": {},
   "source": [
    "2. GradientBoost"
   ]
  },
  {
   "cell_type": "code",
   "execution_count": 145,
   "metadata": {},
   "outputs": [
    {
     "name": "stdout",
     "output_type": "stream",
     "text": [
      "R2 with max depth of 3: 0.3357317643814335\n",
      "RMSE with max depth of 3: 18625.669812873115\n",
      "R2 with max depth of 4: 0.3996314420296533\n",
      "RMSE with max depth of 4: 17707.16877431389\n",
      "R2 with max depth of 5: 0.4585046436679423\n",
      "RMSE with max depth of 5: 16816.574098081528\n",
      "R2 with max depth of 6: 0.5026368492808133\n",
      "RMSE with max depth of 6: 16116.73109002628\n"
     ]
    }
   ],
   "source": [
    "max_depth_values = [3, 4, 5, 6]\n",
    "\n",
    "for i in max_depth_values:\n",
    "    gbm = GradientBoostingRegressor(n_estimators=10, max_depth=i, random_state=0)\n",
    "    gbm.fit(X_train, y_train)\n",
    "    y_pred = gbm.predict(X_test)\n",
    "    print('R2 with max depth of {}: {}'.format(i, metrics.r2_score(y_test, y_pred)))\n",
    "    print('RMSE with max depth of {}: {}'.format(i, np.sqrt(metrics.mean_squared_error(y_test, y_pred))))"
   ]
  },
  {
   "cell_type": "code",
   "execution_count": 147,
   "metadata": {},
   "outputs": [
    {
     "name": "stdout",
     "output_type": "stream",
     "text": [
      "R2 with learning rate of 0.001: 0.010303460157773503\n",
      "RMSE with learning rate of 0.001: 22734.80234753104\n",
      "R2 with learning rate of 0.01: 0.09462403804377062\n",
      "RMSE with learning rate of 0.01: 21744.760905853786\n",
      "R2 with learning rate of 0.1: 0.5026368492808133\n",
      "RMSE with learning rate of 0.1: 16116.73109002628\n",
      "R2 with learning rate of 1.0: 0.8467946551651134\n",
      "RMSE with learning rate of 1.0: 8944.933480653564\n"
     ]
    }
   ],
   "source": [
    "#loop through several possible eta values\n",
    "eta_vals = [0.001, 0.01, 0.1, 1.0]\n",
    "\n",
    "for i in eta_vals:\n",
    "    gbm = GradientBoostingRegressor(n_estimators=10, max_depth=6, learning_rate=i, random_state=0)\n",
    "    gbm.fit(X_train, y_train)\n",
    "    y_pred = gbm.predict(X_test)\n",
    "    print('R2 with learning rate of {}: {}'.format(i, metrics.r2_score(y_test, y_pred)))\n",
    "    print('RMSE with learning rate of {}: {}'.format(i, np.sqrt(metrics.mean_squared_error(y_test, y_pred))))"
   ]
  },
  {
   "cell_type": "markdown",
   "metadata": {},
   "source": [
    "3. XGBoost"
   ]
  },
  {
   "cell_type": "markdown",
   "metadata": {},
   "source": [
    "Note that XGBoost can be implemented using scikit-learn's API as well XGBoost's learning API. We will use the learning API below, which uses different syntax and requires that our data be organized as a DMatrix."
   ]
  },
  {
   "cell_type": "code",
   "execution_count": 12,
   "metadata": {},
   "outputs": [
    {
     "name": "stdout",
     "output_type": "stream",
     "text": [
      "<class 'xgboost.core.DMatrix'>\n"
     ]
    }
   ],
   "source": [
    "#convert data into DMatrixes\n",
    "DM_train = xgb.DMatrix(data=X_train, label=y_train)\n",
    "DM_test = xgb.DMatrix(data=X_test, label=y_test)\n",
    "print(type(DM_train))"
   ]
  },
  {
   "cell_type": "code",
   "execution_count": 13,
   "metadata": {},
   "outputs": [],
   "source": [
    "#set parameters\n",
    "params = {'objective':'reg:squarederror'}"
   ]
  },
  {
   "cell_type": "code",
   "execution_count": 14,
   "metadata": {},
   "outputs": [],
   "source": [
    "#train model using same parameters as above\n",
    "xgb_model = xgb.train(params=params, dtrain=DM_train, num_boost_round=10)"
   ]
  },
  {
   "cell_type": "code",
   "execution_count": 15,
   "metadata": {},
   "outputs": [
    {
     "name": "stdout",
     "output_type": "stream",
     "text": [
      "R2 with 10 boost rounds: 0.7340838894839687\n",
      "RMSE with 10 boost rounds: 11784.535848132255\n"
     ]
    }
   ],
   "source": [
    "#predict\n",
    "y_pred = xgb_model.predict(DM_test)\n",
    "\n",
    "print('R2 with 10 boost rounds: {}'.format(metrics.r2_score(y_test, y_pred)))\n",
    "print('RMSE with 10 boost rounds: {}'.format(np.sqrt(metrics.mean_squared_error(y_test, y_pred))))"
   ]
  },
  {
   "cell_type": "code",
   "execution_count": 36,
   "metadata": {},
   "outputs": [
    {
     "name": "stdout",
     "output_type": "stream",
     "text": [
      "R2 with 10 boost rounds, max_depth of 1: 0.26683632220655873\n",
      "RMSE with 10 boost rounds, max_depth of 1: 19567.738121296723\n",
      "R2 with 10 boost rounds, max_depth of 2: 0.44483847988096226\n",
      "RMSE with 10 boost rounds, max_depth of 2: 17027.458679634525\n",
      "R2 with 10 boost rounds, max_depth of 3: 0.5476795525662517\n",
      "RMSE with 10 boost rounds, max_depth of 3: 15369.624855814327\n",
      "R2 with 10 boost rounds, max_depth of 4: 0.6203987433331946\n",
      "RMSE with 10 boost rounds, max_depth of 4: 14080.042887870432\n",
      "R2 with 10 boost rounds, max_depth of 5: 0.672092743939215\n",
      "RMSE with 10 boost rounds, max_depth of 5: 13086.263789189634\n",
      "R2 with 10 boost rounds, max_depth of 6: 0.7340838894839687\n",
      "RMSE with 10 boost rounds, max_depth of 6: 11784.535848132255\n"
     ]
    }
   ],
   "source": [
    "#loop through several possible max_depth values\n",
    "\n",
    "max_depth_values = [1, 2, 3, 4, 5, 6]\n",
    "\n",
    "for i in max_depth_values:\n",
    "    params['max_depth'] = i\n",
    "    xgb_model = xgb.train(params=params, dtrain=DM_train, num_boost_round=10)\n",
    "    y_pred = xgb_model.predict(DM_test)\n",
    "\n",
    "    print('R2 with 10 boost rounds, max_depth of {}: {}'.format(i, metrics.r2_score(y_test, y_pred)))\n",
    "    print('RMSE with 10 boost rounds, max_depth of {}: {}'.format(i, np.sqrt(metrics.mean_squared_error(y_test, y_pred))))"
   ]
  },
  {
   "cell_type": "code",
   "execution_count": 141,
   "metadata": {},
   "outputs": [],
   "source": [
    "#use 5-fold cross validation, max_depth of 6, 10 boosting rounds, and store the results as a dataframe\n",
    "\n",
    "DM = xgb.DMatrix(data=X, label=y)\n",
    "params = params = {'objective':'reg:squarederror', 'max_depth': 6}\n",
    "\n",
    "cv_results = xgb.cv(params=params, dtrain=DM, nfold=5, num_boost_round=12, metrics='rmse', as_pandas=True)\n",
    "\n"
   ]
  },
  {
   "cell_type": "code",
   "execution_count": 142,
   "metadata": {},
   "outputs": [
    {
     "data": {
      "text/html": [
       "<div>\n",
       "<style scoped>\n",
       "    .dataframe tbody tr th:only-of-type {\n",
       "        vertical-align: middle;\n",
       "    }\n",
       "\n",
       "    .dataframe tbody tr th {\n",
       "        vertical-align: top;\n",
       "    }\n",
       "\n",
       "    .dataframe thead th {\n",
       "        text-align: right;\n",
       "    }\n",
       "</style>\n",
       "<table border=\"1\" class=\"dataframe\">\n",
       "  <thead>\n",
       "    <tr style=\"text-align: right;\">\n",
       "      <th></th>\n",
       "      <th>test-rmse-mean</th>\n",
       "      <th>test-rmse-std</th>\n",
       "    </tr>\n",
       "  </thead>\n",
       "  <tbody>\n",
       "    <tr>\n",
       "      <th>0</th>\n",
       "      <td>22464.298438</td>\n",
       "      <td>80.663643</td>\n",
       "    </tr>\n",
       "    <tr>\n",
       "      <th>1</th>\n",
       "      <td>19171.614453</td>\n",
       "      <td>91.393754</td>\n",
       "    </tr>\n",
       "    <tr>\n",
       "      <th>2</th>\n",
       "      <td>17037.104688</td>\n",
       "      <td>72.344611</td>\n",
       "    </tr>\n",
       "    <tr>\n",
       "      <th>3</th>\n",
       "      <td>15594.716211</td>\n",
       "      <td>86.886594</td>\n",
       "    </tr>\n",
       "    <tr>\n",
       "      <th>4</th>\n",
       "      <td>14618.105664</td>\n",
       "      <td>96.880185</td>\n",
       "    </tr>\n",
       "    <tr>\n",
       "      <th>5</th>\n",
       "      <td>13802.791406</td>\n",
       "      <td>79.111094</td>\n",
       "    </tr>\n",
       "    <tr>\n",
       "      <th>6</th>\n",
       "      <td>13152.750391</td>\n",
       "      <td>70.533130</td>\n",
       "    </tr>\n",
       "    <tr>\n",
       "      <th>7</th>\n",
       "      <td>12665.818555</td>\n",
       "      <td>72.605114</td>\n",
       "    </tr>\n",
       "    <tr>\n",
       "      <th>8</th>\n",
       "      <td>12214.922656</td>\n",
       "      <td>79.460325</td>\n",
       "    </tr>\n",
       "    <tr>\n",
       "      <th>9</th>\n",
       "      <td>11847.260742</td>\n",
       "      <td>106.886765</td>\n",
       "    </tr>\n",
       "    <tr>\n",
       "      <th>10</th>\n",
       "      <td>11566.255469</td>\n",
       "      <td>62.514120</td>\n",
       "    </tr>\n",
       "    <tr>\n",
       "      <th>11</th>\n",
       "      <td>11296.189063</td>\n",
       "      <td>56.889642</td>\n",
       "    </tr>\n",
       "  </tbody>\n",
       "</table>\n",
       "</div>"
      ],
      "text/plain": [
       "    test-rmse-mean  test-rmse-std\n",
       "0     22464.298438      80.663643\n",
       "1     19171.614453      91.393754\n",
       "2     17037.104688      72.344611\n",
       "3     15594.716211      86.886594\n",
       "4     14618.105664      96.880185\n",
       "5     13802.791406      79.111094\n",
       "6     13152.750391      70.533130\n",
       "7     12665.818555      72.605114\n",
       "8     12214.922656      79.460325\n",
       "9     11847.260742     106.886765\n",
       "10    11566.255469      62.514120\n",
       "11    11296.189063      56.889642"
      ]
     },
     "metadata": {},
     "output_type": "display_data"
    }
   ],
   "source": [
    "display(cv_results[['test-rmse-mean', 'test-rmse-std']])"
   ]
  },
  {
   "cell_type": "code",
   "execution_count": 25,
   "metadata": {},
   "outputs": [
    {
     "data": {
      "text/plain": [
       "{'f129': 4327690203150.0,\n",
       " 'f132': 4017447990000.0,\n",
       " 'f92': 2585492756000.0,\n",
       " 'f116': 2264361020833.3335,\n",
       " 'f10': 461122758045.2778,\n",
       " 'f94': 1694485097833.3333,\n",
       " 'f127': 1947790763428.5715,\n",
       " 'f198': 398482735250.61536,\n",
       " 'f13': 135494408425.0,\n",
       " 'f36': 161137404333.33334,\n",
       " 'f7': 22470859888.44898,\n",
       " 'f37': 145777230000.0,\n",
       " 'f8': 30596358271.185184,\n",
       " 'f20': 294939458458.3333,\n",
       " 'f53': 37952574466.25,\n",
       " 'f30': 87912097520.0,\n",
       " 'f139': 128989143438.22223,\n",
       " 'f27': 60197909320.0,\n",
       " 'f25': 48022306833.333336,\n",
       " 'f2': 176866848.0,\n",
       " 'f19': 33679512920.0,\n",
       " 'f52': 24930382995.714287,\n",
       " 'f50': 34175377420.0,\n",
       " 'f21': 131944753783.33333,\n",
       " 'f24': 82212880316.66667,\n",
       " 'f57': 1553796540033.3333,\n",
       " 'f137': 73027124711.5,\n",
       " 'f0': 17827292823.916668,\n",
       " 'f14': 81127186475.0,\n",
       " 'f1': 2286803019.8461537,\n",
       " 'f46': 30302126066.666668,\n",
       " 'f4': 19032424446.0,\n",
       " 'f131': 858487919000.0,\n",
       " 'f138': 653449429037.5,\n",
       " 'f54': 20675547135.0,\n",
       " 'f128': 1218644600400.0,\n",
       " 'f11': 104946194085.71428,\n",
       " 'f202': 249131198604.0,\n",
       " 'f18': 33539489800.0,\n",
       " 'f35': 15131136000.0,\n",
       " 'f48': 10024714200.0,\n",
       " 'f203': 1419985407.0,\n",
       " 'f6': 2850838526.0,\n",
       " 'f3': 1244037118.0,\n",
       " 'f68': 857852913666.6666,\n",
       " 'f63': 860079284750.0,\n",
       " 'f29': 37679087600.0,\n",
       " 'f16': 24865740396.0,\n",
       " 'f167': 139624448.0,\n",
       " 'f42': 68462952450.0,\n",
       " 'f55': 19116458000.0,\n",
       " 'f130': 582420747300.0,\n",
       " 'f59': 833873214000.0,\n",
       " 'f158': 75752448.0,\n",
       " 'f28': 1198321660.0,\n",
       " 'f178': 1979260930.0,\n",
       " 'f9': 380284928.0,\n",
       " 'f155': 14904832.0,\n",
       " 'f170': 27133184.0,\n",
       " 'f62': 821700657000.0,\n",
       " 'f77': 368192738500.0,\n",
       " 'f151': 152997462000.0,\n",
       " 'f201': 210615665000.0,\n",
       " 'f206': 139255185000.0,\n",
       " 'f120': 664297472000.0,\n",
       " 'f31': 48735125500.0,\n",
       " 'f166': 26700672.0,\n",
       " 'f5': 6545702698.0,\n",
       " 'f45': 10301314690.0,\n",
       " 'f33': 381291299000.0,\n",
       " 'f113': 142533247000.0,\n",
       " 'f17': 37926486000.0,\n",
       " 'f64': 154484736000.0,\n",
       " 'f60': 342550774000.0,\n",
       " 'f100': 311297442000.0,\n",
       " 'f140': 58392576.0,\n",
       " 'f51': 6463913980.0,\n",
       " 'f12': 51686408200.0,\n",
       " 'f163': 45703168.0,\n",
       " 'f47': 6149556220.0,\n",
       " 'f32': 10310819800.0}"
      ]
     },
     "execution_count": 25,
     "metadata": {},
     "output_type": "execute_result"
    }
   ],
   "source": [
    "#get feature importances\n",
    "feature_importances = xgb_model.get_score(importance_type='gain')\n",
    "feature_importances"
   ]
  },
  {
   "cell_type": "code",
   "execution_count": 44,
   "metadata": {},
   "outputs": [],
   "source": [
    "list_of_importances = []\n",
    "list_of_indices = []\n",
    "\n",
    "for key, val in feature_importances.items():\n",
    "    list_of_importances.append(val)\n",
    "    list_of_indices.append(int(key.strip('f')))"
   ]
  },
  {
   "cell_type": "code",
   "execution_count": 48,
   "metadata": {},
   "outputs": [],
   "source": [
    "#get names of important columns\n",
    "important_col_names = df_dummies.iloc[:, list_of_indices].columns"
   ]
  },
  {
   "cell_type": "code",
   "execution_count": 71,
   "metadata": {},
   "outputs": [
    {
     "data": {
      "text/html": [
       "<div>\n",
       "<style scoped>\n",
       "    .dataframe tbody tr th:only-of-type {\n",
       "        vertical-align: middle;\n",
       "    }\n",
       "\n",
       "    .dataframe tbody tr th {\n",
       "        vertical-align: top;\n",
       "    }\n",
       "\n",
       "    .dataframe thead th {\n",
       "        text-align: right;\n",
       "    }\n",
       "</style>\n",
       "<table border=\"1\" class=\"dataframe\">\n",
       "  <thead>\n",
       "    <tr style=\"text-align: right;\">\n",
       "      <th></th>\n",
       "      <th>feature</th>\n",
       "      <th>importance</th>\n",
       "    </tr>\n",
       "  </thead>\n",
       "  <tbody>\n",
       "    <tr>\n",
       "      <th>0</th>\n",
       "      <td>Dept_91</td>\n",
       "      <td>4.327690e+12</td>\n",
       "    </tr>\n",
       "    <tr>\n",
       "      <th>1</th>\n",
       "      <td>Dept_94</td>\n",
       "      <td>4.017448e+12</td>\n",
       "    </tr>\n",
       "    <tr>\n",
       "      <th>2</th>\n",
       "      <td>Dept_37</td>\n",
       "      <td>2.585493e+12</td>\n",
       "    </tr>\n",
       "    <tr>\n",
       "      <th>3</th>\n",
       "      <td>Dept_71</td>\n",
       "      <td>2.264361e+12</td>\n",
       "    </tr>\n",
       "    <tr>\n",
       "      <th>6</th>\n",
       "      <td>Dept_87</td>\n",
       "      <td>1.947791e+12</td>\n",
       "    </tr>\n",
       "    <tr>\n",
       "      <th>5</th>\n",
       "      <td>Dept_39</td>\n",
       "      <td>1.694485e+12</td>\n",
       "    </tr>\n",
       "    <tr>\n",
       "      <th>25</th>\n",
       "      <td>Dept_1</td>\n",
       "      <td>1.553797e+12</td>\n",
       "    </tr>\n",
       "    <tr>\n",
       "      <th>35</th>\n",
       "      <td>Dept_90</td>\n",
       "      <td>1.218645e+12</td>\n",
       "    </tr>\n",
       "    <tr>\n",
       "      <th>45</th>\n",
       "      <td>Dept_7</td>\n",
       "      <td>8.600793e+11</td>\n",
       "    </tr>\n",
       "    <tr>\n",
       "      <th>32</th>\n",
       "      <td>Dept_93</td>\n",
       "      <td>8.584879e+11</td>\n",
       "    </tr>\n",
       "    <tr>\n",
       "      <th>44</th>\n",
       "      <td>Dept_12</td>\n",
       "      <td>8.578529e+11</td>\n",
       "    </tr>\n",
       "    <tr>\n",
       "      <th>52</th>\n",
       "      <td>Dept_3</td>\n",
       "      <td>8.338732e+11</td>\n",
       "    </tr>\n",
       "    <tr>\n",
       "      <th>59</th>\n",
       "      <td>Dept_6</td>\n",
       "      <td>8.217007e+11</td>\n",
       "    </tr>\n",
       "    <tr>\n",
       "      <th>64</th>\n",
       "      <td>Dept_78</td>\n",
       "      <td>6.642975e+11</td>\n",
       "    </tr>\n",
       "    <tr>\n",
       "      <th>33</th>\n",
       "      <td>Type_A</td>\n",
       "      <td>6.534494e+11</td>\n",
       "    </tr>\n",
       "    <tr>\n",
       "      <th>51</th>\n",
       "      <td>Dept_92</td>\n",
       "      <td>5.824207e+11</td>\n",
       "    </tr>\n",
       "    <tr>\n",
       "      <th>4</th>\n",
       "      <td>Size</td>\n",
       "      <td>4.611228e+11</td>\n",
       "    </tr>\n",
       "    <tr>\n",
       "      <th>7</th>\n",
       "      <td>Week_46</td>\n",
       "      <td>3.984827e+11</td>\n",
       "    </tr>\n",
       "    <tr>\n",
       "      <th>69</th>\n",
       "      <td>Store_22</td>\n",
       "      <td>3.812913e+11</td>\n",
       "    </tr>\n",
       "    <tr>\n",
       "      <th>60</th>\n",
       "      <td>Dept_22</td>\n",
       "      <td>3.681927e+11</td>\n",
       "    </tr>\n",
       "    <tr>\n",
       "      <th>73</th>\n",
       "      <td>Dept_4</td>\n",
       "      <td>3.425508e+11</td>\n",
       "    </tr>\n",
       "    <tr>\n",
       "      <th>74</th>\n",
       "      <td>Dept_45</td>\n",
       "      <td>3.112974e+11</td>\n",
       "    </tr>\n",
       "    <tr>\n",
       "      <th>13</th>\n",
       "      <td>Store_9</td>\n",
       "      <td>2.949395e+11</td>\n",
       "    </tr>\n",
       "    <tr>\n",
       "      <th>37</th>\n",
       "      <td>Week_50</td>\n",
       "      <td>2.491312e+11</td>\n",
       "    </tr>\n",
       "    <tr>\n",
       "      <th>62</th>\n",
       "      <td>Week_49</td>\n",
       "      <td>2.106157e+11</td>\n",
       "    </tr>\n",
       "  </tbody>\n",
       "</table>\n",
       "</div>"
      ],
      "text/plain": [
       "     feature    importance\n",
       "0    Dept_91  4.327690e+12\n",
       "1    Dept_94  4.017448e+12\n",
       "2    Dept_37  2.585493e+12\n",
       "3    Dept_71  2.264361e+12\n",
       "6    Dept_87  1.947791e+12\n",
       "5    Dept_39  1.694485e+12\n",
       "25    Dept_1  1.553797e+12\n",
       "35   Dept_90  1.218645e+12\n",
       "45    Dept_7  8.600793e+11\n",
       "32   Dept_93  8.584879e+11\n",
       "44   Dept_12  8.578529e+11\n",
       "52    Dept_3  8.338732e+11\n",
       "59    Dept_6  8.217007e+11\n",
       "64   Dept_78  6.642975e+11\n",
       "33    Type_A  6.534494e+11\n",
       "51   Dept_92  5.824207e+11\n",
       "4       Size  4.611228e+11\n",
       "7    Week_46  3.984827e+11\n",
       "69  Store_22  3.812913e+11\n",
       "60   Dept_22  3.681927e+11\n",
       "73    Dept_4  3.425508e+11\n",
       "74   Dept_45  3.112974e+11\n",
       "13   Store_9  2.949395e+11\n",
       "37   Week_50  2.491312e+11\n",
       "62   Week_49  2.106157e+11"
      ]
     },
     "execution_count": 71,
     "metadata": {},
     "output_type": "execute_result"
    }
   ],
   "source": [
    "feature_importance_df = pd.DataFrame({'feature':important_col_names, 'importance':list_of_importances}).sort_values(by='importance', ascending=False)\n",
    "feature_importance_df.head(25)"
   ]
  },
  {
   "cell_type": "markdown",
   "metadata": {},
   "source": [
    "Departments are the most important contributor to the XGBRegressor model, along with Size, Type_A, and a few stores and weeks."
   ]
  },
  {
   "cell_type": "markdown",
   "metadata": {},
   "source": [
    "Let's reduce our data set to only the 80 most important features and then run grid search cv to find the best parameters"
   ]
  },
  {
   "cell_type": "code",
   "execution_count": 130,
   "metadata": {},
   "outputs": [
    {
     "data": {
      "text/plain": [
       "(421570, 80)"
      ]
     },
     "execution_count": 130,
     "metadata": {},
     "output_type": "execute_result"
    }
   ],
   "source": [
    "columns_to_keep = feature_importance_df.iloc[:81, 0].to_list() #Weekly Sales is in the list to keep\n",
    "df_dummies_reduced = df_dummies[columns_to_keep]\n",
    "df_dummies_reduced.shape"
   ]
  },
  {
   "cell_type": "code",
   "execution_count": 131,
   "metadata": {},
   "outputs": [],
   "source": [
    "X = df_dummies_reduced.drop('Weekly_Sales', axis=1).values\n",
    "y = df_dummies_reduced['Weekly_Sales'].values"
   ]
  },
  {
   "cell_type": "code",
   "execution_count": 132,
   "metadata": {},
   "outputs": [
    {
     "name": "stdout",
     "output_type": "stream",
     "text": [
      "(421570,)\n"
     ]
    }
   ],
   "source": [
    "y = y.reshape(len(y))\n",
    "print(y.shape)"
   ]
  },
  {
   "cell_type": "code",
   "execution_count": 133,
   "metadata": {},
   "outputs": [
    {
     "name": "stdout",
     "output_type": "stream",
     "text": [
      "(316177, 79)\n",
      "(105393, 79)\n"
     ]
    }
   ],
   "source": [
    "X_train, X_test, y_train, y_test = train_test_split(X, y, test_size=0.25, random_state=0)\n",
    "print(X_train.shape)\n",
    "print(X_test.shape)"
   ]
  },
  {
   "cell_type": "code",
   "execution_count": 134,
   "metadata": {},
   "outputs": [
    {
     "name": "stdout",
     "output_type": "stream",
     "text": [
      "<class 'xgboost.core.DMatrix'>\n"
     ]
    }
   ],
   "source": [
    "#convert data into DMatrixes\n",
    "DM_train = xgb.DMatrix(data=X_train, label=y_train)\n",
    "DM_test = xgb.DMatrix(data=X_test, label=y_test)"
   ]
  },
  {
   "cell_type": "code",
   "execution_count": 135,
   "metadata": {},
   "outputs": [
    {
     "name": "stdout",
     "output_type": "stream",
     "text": [
      "R2 with 10 boost rounds, learning rate of 0.001: -0.47067893969896124\n",
      "RMSE with 10 boost rounds, learning rate of 0.001: 27713.992403301538\n",
      "R2 with 10 boost rounds, learning rate of 0.01: -0.2827836773156196\n",
      "RMSE with 10 boost rounds, learning rate of 0.01: 25883.134522487748\n",
      "R2 with 10 boost rounds, learning rate of 0.1: 0.30908409833833494\n",
      "RMSE with 10 boost rounds, learning rate of 0.1: 18995.58841780906\n",
      "R2 with 10 boost rounds, learning rate of 1.0: 0.42009269587657394\n",
      "RMSE with 10 boost rounds, learning rate of 1.0: 17402.81271193626\n"
     ]
    }
   ],
   "source": [
    "params = params = {'objective':'reg:squarederror', 'max_depth': 6}\n",
    "    \n",
    "#loop through several possible eta values\n",
    "eta_vals = [0.001, 0.01, 0.1, 1.0]\n",
    "\n",
    "for eta in eta_vals:\n",
    "    params['eta'] = eta\n",
    "    xgb_model = xgb.train(params=params, dtrain=DM_train, num_boost_round=12)\n",
    "    y_pred = xgb_model.predict(DM_test)\n",
    "\n",
    "    print('R2 with 10 boost rounds, learning rate of {}: {}'.format(eta, metrics.r2_score(y_test, y_pred)))\n",
    "    print('RMSE with 10 boost rounds, learning rate of {}: {}'.format(eta, np.sqrt(metrics.mean_squared_error(y_test, y_pred))))"
   ]
  },
  {
   "cell_type": "markdown",
   "metadata": {},
   "source": [
    "Interestingly, using only half the features greatly reduces model performance. Let's loop through the same possible learning rates with all columns, and compare the performance."
   ]
  },
  {
   "cell_type": "code",
   "execution_count": 136,
   "metadata": {},
   "outputs": [],
   "source": [
    "X = df_dummies.drop('Weekly_Sales', axis=1).values\n",
    "y = df_dummies['Weekly_Sales'].values"
   ]
  },
  {
   "cell_type": "code",
   "execution_count": 137,
   "metadata": {},
   "outputs": [
    {
     "name": "stdout",
     "output_type": "stream",
     "text": [
      "(316177, 207)\n",
      "(105393, 207)\n"
     ]
    }
   ],
   "source": [
    "X_train, X_test, y_train, y_test = train_test_split(X, y, test_size=0.25, random_state=0)\n",
    "print(X_train.shape)\n",
    "print(X_test.shape)"
   ]
  },
  {
   "cell_type": "code",
   "execution_count": 138,
   "metadata": {},
   "outputs": [],
   "source": [
    "#convert data into DMatrixes\n",
    "DM_train = xgb.DMatrix(data=X_train, label=y_train)\n",
    "DM_test = xgb.DMatrix(data=X_test, label=y_test)"
   ]
  },
  {
   "cell_type": "code",
   "execution_count": 143,
   "metadata": {},
   "outputs": [
    {
     "name": "stdout",
     "output_type": "stream",
     "text": [
      "R2 with 12 boost rounds, learning rate of 0.001: -0.47471063669404256\n",
      "RMSE with 12 boost rounds, learning rate of 0.001: 27751.95376417429\n",
      "R2 with 12 boost rounds, learning rate of 0.01: -0.31091276588973393\n",
      "RMSE with 12 boost rounds, learning rate of 0.01: 26165.38041591253\n",
      "R2 with 12 boost rounds, learning rate of 0.1: 0.43873843462267026\n",
      "RMSE with 12 boost rounds, learning rate of 0.1: 17120.750900733157\n",
      "R2 with 12 boost rounds, learning rate of 1.0: 0.8507973718665154\n",
      "RMSE with 12 boost rounds, learning rate of 1.0: 8827.310303715436\n"
     ]
    }
   ],
   "source": [
    "params = params = {'objective':'reg:squarederror', 'max_depth': 6}\n",
    "    \n",
    "#loop through several possible eta values\n",
    "eta_vals = [0.001, 0.01, 0.1, 1.0]\n",
    "\n",
    "for eta in eta_vals:\n",
    "    params['eta'] = eta\n",
    "    xgb_model = xgb.train(params=params, dtrain=DM_train, num_boost_round=10)\n",
    "    y_pred = xgb_model.predict(DM_test)\n",
    "\n",
    "    print('R2 with 12 boost rounds, learning rate of {}: {}'.format(eta, metrics.r2_score(y_test, y_pred)))\n",
    "    print('RMSE with 12 boost rounds, learning rate of {}: {}'.format(eta, np.sqrt(metrics.mean_squared_error(y_test, y_pred))))"
   ]
  },
  {
   "cell_type": "code",
   "execution_count": null,
   "metadata": {},
   "outputs": [],
   "source": []
  }
 ],
 "metadata": {
  "kernelspec": {
   "display_name": "Python 3",
   "language": "python",
   "name": "python3"
  },
  "language_info": {
   "codemirror_mode": {
    "name": "ipython",
    "version": 3
   },
   "file_extension": ".py",
   "mimetype": "text/x-python",
   "name": "python",
   "nbconvert_exporter": "python",
   "pygments_lexer": "ipython3",
   "version": "3.8.3"
  }
 },
 "nbformat": 4,
 "nbformat_minor": 4
}
