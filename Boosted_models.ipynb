{
 "cells": [
  {
   "cell_type": "code",
   "execution_count": 5,
   "metadata": {},
   "outputs": [],
   "source": [
    "import numpy as np\n",
    "import pandas as pd\n",
    "import matplotlib.pyplot as plt\n",
    "%matplotlib inline\n",
    "\n",
    "from sklearn.model_selection import train_test_split\n",
    "from sklearn.tree import DecisionTreeRegressor\n",
    "from sklearn.tree import export_graphviz\n",
    "from graphviz import Source\n",
    "from sklearn.ensemble import AdaBoostRegressor\n",
    "from sklearn.ensemble import GradientBoostingRegressor\n",
    "import xgboost as xgb\n",
    "from sklearn.model_selection import RandomizedSearchCV\n",
    "from sklearn import metrics\n"
   ]
  },
  {
   "cell_type": "code",
   "execution_count": 6,
   "metadata": {},
   "outputs": [],
   "source": [
    "#import the dataset from GitHub\n",
    "url = 'https://raw.githubusercontent.com/jamesdinardo/Retail-Forecasting/master/final_df.csv'\n",
    "df = pd.read_csv(url)"
   ]
  },
  {
   "cell_type": "code",
   "execution_count": 7,
   "metadata": {},
   "outputs": [
    {
     "name": "stdout",
     "output_type": "stream",
     "text": [
      "Shape of final dataframe: (418660, 16)\n"
     ]
    },
    {
     "data": {
      "text/html": [
       "<div>\n",
       "<style scoped>\n",
       "    .dataframe tbody tr th:only-of-type {\n",
       "        vertical-align: middle;\n",
       "    }\n",
       "\n",
       "    .dataframe tbody tr th {\n",
       "        vertical-align: top;\n",
       "    }\n",
       "\n",
       "    .dataframe thead th {\n",
       "        text-align: right;\n",
       "    }\n",
       "</style>\n",
       "<table border=\"1\" class=\"dataframe\">\n",
       "  <thead>\n",
       "    <tr style=\"text-align: right;\">\n",
       "      <th></th>\n",
       "      <th>Store</th>\n",
       "      <th>Date</th>\n",
       "      <th>Temperature</th>\n",
       "      <th>Fuel_Price</th>\n",
       "      <th>MarkDown1</th>\n",
       "      <th>MarkDown2</th>\n",
       "      <th>MarkDown3</th>\n",
       "      <th>MarkDown4</th>\n",
       "      <th>MarkDown5</th>\n",
       "      <th>CPI</th>\n",
       "      <th>Unemployment</th>\n",
       "      <th>IsHoliday</th>\n",
       "      <th>Dept</th>\n",
       "      <th>Type</th>\n",
       "      <th>Size</th>\n",
       "      <th>Weekly_Sales</th>\n",
       "    </tr>\n",
       "  </thead>\n",
       "  <tbody>\n",
       "    <tr>\n",
       "      <th>0</th>\n",
       "      <td>1</td>\n",
       "      <td>05/02/2010</td>\n",
       "      <td>42.31</td>\n",
       "      <td>2.572</td>\n",
       "      <td>0.0</td>\n",
       "      <td>0.0</td>\n",
       "      <td>0.0</td>\n",
       "      <td>0.0</td>\n",
       "      <td>0.0</td>\n",
       "      <td>211.096358</td>\n",
       "      <td>8.106</td>\n",
       "      <td>False</td>\n",
       "      <td>1</td>\n",
       "      <td>A</td>\n",
       "      <td>151315</td>\n",
       "      <td>24924.50</td>\n",
       "    </tr>\n",
       "    <tr>\n",
       "      <th>1</th>\n",
       "      <td>1</td>\n",
       "      <td>05/02/2010</td>\n",
       "      <td>42.31</td>\n",
       "      <td>2.572</td>\n",
       "      <td>0.0</td>\n",
       "      <td>0.0</td>\n",
       "      <td>0.0</td>\n",
       "      <td>0.0</td>\n",
       "      <td>0.0</td>\n",
       "      <td>211.096358</td>\n",
       "      <td>8.106</td>\n",
       "      <td>False</td>\n",
       "      <td>2</td>\n",
       "      <td>A</td>\n",
       "      <td>151315</td>\n",
       "      <td>50605.27</td>\n",
       "    </tr>\n",
       "    <tr>\n",
       "      <th>2</th>\n",
       "      <td>1</td>\n",
       "      <td>05/02/2010</td>\n",
       "      <td>42.31</td>\n",
       "      <td>2.572</td>\n",
       "      <td>0.0</td>\n",
       "      <td>0.0</td>\n",
       "      <td>0.0</td>\n",
       "      <td>0.0</td>\n",
       "      <td>0.0</td>\n",
       "      <td>211.096358</td>\n",
       "      <td>8.106</td>\n",
       "      <td>False</td>\n",
       "      <td>3</td>\n",
       "      <td>A</td>\n",
       "      <td>151315</td>\n",
       "      <td>13740.12</td>\n",
       "    </tr>\n",
       "    <tr>\n",
       "      <th>3</th>\n",
       "      <td>1</td>\n",
       "      <td>05/02/2010</td>\n",
       "      <td>42.31</td>\n",
       "      <td>2.572</td>\n",
       "      <td>0.0</td>\n",
       "      <td>0.0</td>\n",
       "      <td>0.0</td>\n",
       "      <td>0.0</td>\n",
       "      <td>0.0</td>\n",
       "      <td>211.096358</td>\n",
       "      <td>8.106</td>\n",
       "      <td>False</td>\n",
       "      <td>4</td>\n",
       "      <td>A</td>\n",
       "      <td>151315</td>\n",
       "      <td>39954.04</td>\n",
       "    </tr>\n",
       "    <tr>\n",
       "      <th>4</th>\n",
       "      <td>1</td>\n",
       "      <td>05/02/2010</td>\n",
       "      <td>42.31</td>\n",
       "      <td>2.572</td>\n",
       "      <td>0.0</td>\n",
       "      <td>0.0</td>\n",
       "      <td>0.0</td>\n",
       "      <td>0.0</td>\n",
       "      <td>0.0</td>\n",
       "      <td>211.096358</td>\n",
       "      <td>8.106</td>\n",
       "      <td>False</td>\n",
       "      <td>5</td>\n",
       "      <td>A</td>\n",
       "      <td>151315</td>\n",
       "      <td>32229.38</td>\n",
       "    </tr>\n",
       "  </tbody>\n",
       "</table>\n",
       "</div>"
      ],
      "text/plain": [
       "   Store        Date  Temperature  Fuel_Price  MarkDown1  MarkDown2  \\\n",
       "0      1  05/02/2010        42.31       2.572        0.0        0.0   \n",
       "1      1  05/02/2010        42.31       2.572        0.0        0.0   \n",
       "2      1  05/02/2010        42.31       2.572        0.0        0.0   \n",
       "3      1  05/02/2010        42.31       2.572        0.0        0.0   \n",
       "4      1  05/02/2010        42.31       2.572        0.0        0.0   \n",
       "\n",
       "   MarkDown3  MarkDown4  MarkDown5         CPI  Unemployment  IsHoliday  Dept  \\\n",
       "0        0.0        0.0        0.0  211.096358         8.106      False     1   \n",
       "1        0.0        0.0        0.0  211.096358         8.106      False     2   \n",
       "2        0.0        0.0        0.0  211.096358         8.106      False     3   \n",
       "3        0.0        0.0        0.0  211.096358         8.106      False     4   \n",
       "4        0.0        0.0        0.0  211.096358         8.106      False     5   \n",
       "\n",
       "  Type    Size  Weekly_Sales  \n",
       "0    A  151315      24924.50  \n",
       "1    A  151315      50605.27  \n",
       "2    A  151315      13740.12  \n",
       "3    A  151315      39954.04  \n",
       "4    A  151315      32229.38  "
      ]
     },
     "execution_count": 7,
     "metadata": {},
     "output_type": "execute_result"
    }
   ],
   "source": [
    "print('Shape of final dataframe: {}'.format(df.shape))\n",
    "df.head()"
   ]
  },
  {
   "cell_type": "code",
   "execution_count": 8,
   "metadata": {},
   "outputs": [],
   "source": [
    "#convert Date column to datetime\n",
    "df['Date'] = pd.to_datetime(df['Date'])\n",
    "\n",
    "#convert Store, Dept, and Type columns to category\n",
    "df['Store'] = df['Store'].astype('category')\n",
    "\n",
    "df['Dept'] = df['Dept'].astype('category')\n",
    "\n",
    "df['Type'] = df['Type'].astype('category')"
   ]
  },
  {
   "cell_type": "code",
   "execution_count": 9,
   "metadata": {},
   "outputs": [],
   "source": [
    "#create separate features for Week, Month, and Year\n",
    "df['Month'] = df['Date'].dt.month\n",
    "df['Month'] = df['Month'].astype('category')\n",
    "\n",
    "df['Week'] = df['Date'].dt.week\n",
    "df['Week'] = df['Week'].astype('category')\n",
    "\n",
    "df['Year'] = df['Date'].dt.year\n",
    "df['Year'] = df['Year'].astype('category')"
   ]
  },
  {
   "cell_type": "code",
   "execution_count": 10,
   "metadata": {},
   "outputs": [
    {
     "name": "stdout",
     "output_type": "stream",
     "text": [
      "<class 'pandas.core.frame.DataFrame'>\n",
      "RangeIndex: 418660 entries, 0 to 418659\n",
      "Data columns (total 19 columns):\n",
      " #   Column        Non-Null Count   Dtype         \n",
      "---  ------        --------------   -----         \n",
      " 0   Store         418660 non-null  category      \n",
      " 1   Date          418660 non-null  datetime64[ns]\n",
      " 2   Temperature   418660 non-null  float64       \n",
      " 3   Fuel_Price    418660 non-null  float64       \n",
      " 4   MarkDown1     418660 non-null  float64       \n",
      " 5   MarkDown2     418660 non-null  float64       \n",
      " 6   MarkDown3     418660 non-null  float64       \n",
      " 7   MarkDown4     418660 non-null  float64       \n",
      " 8   MarkDown5     418660 non-null  float64       \n",
      " 9   CPI           418660 non-null  float64       \n",
      " 10  Unemployment  418660 non-null  float64       \n",
      " 11  IsHoliday     418660 non-null  bool          \n",
      " 12  Dept          418660 non-null  category      \n",
      " 13  Type          418660 non-null  category      \n",
      " 14  Size          418660 non-null  int64         \n",
      " 15  Weekly_Sales  418660 non-null  float64       \n",
      " 16  Month         418660 non-null  category      \n",
      " 17  Week          418660 non-null  category      \n",
      " 18  Year          418660 non-null  category      \n",
      "dtypes: bool(1), category(6), datetime64[ns](1), float64(10), int64(1)\n",
      "memory usage: 41.1 MB\n"
     ]
    }
   ],
   "source": [
    "df.info()"
   ]
  },
  {
   "cell_type": "code",
   "execution_count": 11,
   "metadata": {},
   "outputs": [],
   "source": [
    "df.drop('Date', axis=1, inplace=True)"
   ]
  },
  {
   "cell_type": "code",
   "execution_count": 12,
   "metadata": {},
   "outputs": [],
   "source": [
    "#create dummy variables\n",
    "df_dummies = pd.get_dummies(df)"
   ]
  },
  {
   "cell_type": "code",
   "execution_count": 13,
   "metadata": {},
   "outputs": [],
   "source": [
    "X = df_dummies.drop('Weekly_Sales', axis=1).values\n",
    "y = df_dummies['Weekly_Sales'].values.reshape(-1, 1)\n"
   ]
  },
  {
   "cell_type": "code",
   "execution_count": 14,
   "metadata": {},
   "outputs": [
    {
     "name": "stdout",
     "output_type": "stream",
     "text": [
      "(313995, 207)\n",
      "(104665, 207)\n"
     ]
    }
   ],
   "source": [
    "X_train, X_test, y_train, y_test = train_test_split(X, y, test_size=0.25, random_state=0)\n",
    "print(X_train.shape)\n",
    "print(X_test.shape)"
   ]
  },
  {
   "cell_type": "code",
   "execution_count": 15,
   "metadata": {},
   "outputs": [
    {
     "name": "stdout",
     "output_type": "stream",
     "text": [
      "(313995,)\n",
      "(104665,)\n"
     ]
    }
   ],
   "source": [
    "y_train = y_train.reshape(len(y_train))\n",
    "y_test = y_test.reshape(len(y_test))\n",
    "print(y_train.shape)\n",
    "print(y_test.shape)"
   ]
  },
  {
   "cell_type": "code",
   "execution_count": 18,
   "metadata": {},
   "outputs": [
    {
     "data": {
      "text/plain": [
       "Index(['Temperature', 'Fuel_Price', 'MarkDown1', 'MarkDown2', 'MarkDown3',\n",
       "       'MarkDown4', 'MarkDown5', 'CPI', 'Unemployment', 'IsHoliday',\n",
       "       ...\n",
       "       'Week_46', 'Week_47', 'Week_48', 'Week_49', 'Week_50', 'Week_51',\n",
       "       'Week_52', 'Year_2010', 'Year_2011', 'Year_2012'],\n",
       "      dtype='object', length=208)"
      ]
     },
     "execution_count": 18,
     "metadata": {},
     "output_type": "execute_result"
    }
   ],
   "source": [
    "df_dummies.columns"
   ]
  },
  {
   "cell_type": "markdown",
   "metadata": {},
   "source": [
    "We will try three types of boosting algorithms: AdaBoost, GradientBoost, and XGBoost"
   ]
  },
  {
   "cell_type": "markdown",
   "metadata": {},
   "source": [
    "1. AdaBoost"
   ]
  },
  {
   "cell_type": "code",
   "execution_count": 73,
   "metadata": {},
   "outputs": [],
   "source": [
    "abr = AdaBoostRegressor(base_estimator=DecisionTreeRegressor(max_depth=4), n_estimators=10, random_state=0, learning_rate=0.1)"
   ]
  },
  {
   "cell_type": "code",
   "execution_count": 74,
   "metadata": {},
   "outputs": [
    {
     "data": {
      "text/plain": [
       "AdaBoostRegressor(base_estimator=DecisionTreeRegressor(max_depth=4),\n",
       "                  learning_rate=0.1, n_estimators=10, random_state=0)"
      ]
     },
     "execution_count": 74,
     "metadata": {},
     "output_type": "execute_result"
    }
   ],
   "source": [
    "abr.fit(X_train, y_train)"
   ]
  },
  {
   "cell_type": "code",
   "execution_count": 75,
   "metadata": {},
   "outputs": [
    {
     "name": "stdout",
     "output_type": "stream",
     "text": [
      "R2 with 10 estimators: 0.39179278832176523\n",
      "RMSE with 10 estimators: 17603.551747595495\n"
     ]
    }
   ],
   "source": [
    "y_pred = abr.predict(X_test)\n",
    "\n",
    "print('R2 with 10 estimators: {}'.format(metrics.r2_score(y_test, y_pred)))\n",
    "print('RMSE with 10 estimators: {}'.format(np.sqrt(metrics.mean_squared_error(y_test, y_pred))))"
   ]
  },
  {
   "cell_type": "code",
   "execution_count": 76,
   "metadata": {},
   "outputs": [
    {
     "name": "stdout",
     "output_type": "stream",
     "text": [
      "R2 with 5 estimators: 0.3426874481677449\n",
      "RMSE with 5 estimators: 18300.395740910837\n",
      "R2 with 10 estimators: 0.34267880822370445\n",
      "RMSE with 10 estimators: 18300.516013888362\n",
      "R2 with 15 estimators: 0.342620361314925\n",
      "RMSE with 15 estimators: 18301.329607629115\n",
      "R2 with 20 estimators: 0.34262800337426025\n",
      "RMSE with 20 estimators: 18301.2232305488\n"
     ]
    }
   ],
   "source": [
    "n_estimator_values = [5, 10, 15, 20]\n",
    "\n",
    "for i in n_estimator_values:\n",
    "    abr = AdaBoostRegressor(n_estimators=i, learning_rate=0.01, random_state=0)\n",
    "    abr.fit(X_train, y_train)\n",
    "    y_pred = abr.predict(X_test)\n",
    "    print('R2 with {} estimators: {}'.format(i, metrics.r2_score(y_test, y_pred)))\n",
    "    print('RMSE with {} estimators: {}'.format(i, np.sqrt(metrics.mean_squared_error(y_test, y_pred))))"
   ]
  },
  {
   "cell_type": "markdown",
   "metadata": {},
   "source": [
    "2. GradientBoost"
   ]
  },
  {
   "cell_type": "code",
   "execution_count": 77,
   "metadata": {},
   "outputs": [
    {
     "name": "stdout",
     "output_type": "stream",
     "text": [
      "R2 with max depth of 3: 0.33604396768098754\n",
      "RMSE with max depth of 3: 18392.644599766452\n",
      "R2 with max depth of 4: 0.3960089002031397\n",
      "RMSE with max depth of 4: 17542.43144901541\n",
      "R2 with max depth of 5: 0.45229403711463245\n",
      "RMSE with max depth of 5: 16705.068204278625\n",
      "R2 with max depth of 6: 0.5032054179027944\n",
      "RMSE with max depth of 6: 15909.734931455883\n"
     ]
    }
   ],
   "source": [
    "max_depth_values = [3, 4, 5, 6]\n",
    "\n",
    "for i in max_depth_values:\n",
    "    gbm = GradientBoostingRegressor(n_estimators=10, max_depth=i, random_state=0)\n",
    "    gbm.fit(X_train, y_train)\n",
    "    y_pred = gbm.predict(X_test)\n",
    "    print('R2 with max depth of {}: {}'.format(i, metrics.r2_score(y_test, y_pred)))\n",
    "    print('RMSE with max depth of {}: {}'.format(i, np.sqrt(metrics.mean_squared_error(y_test, y_pred))))"
   ]
  },
  {
   "cell_type": "code",
   "execution_count": 78,
   "metadata": {},
   "outputs": [
    {
     "name": "stdout",
     "output_type": "stream",
     "text": [
      "R2 with learning rate of 0.001: 0.010260595304912634\n",
      "RMSE with learning rate of 0.001: 22456.131831064627\n",
      "R2 with learning rate of 0.01: 0.09462274139142202\n",
      "RMSE with learning rate of 0.01: 21477.776036869196\n",
      "R2 with learning rate of 0.1: 0.5032054179027944\n",
      "RMSE with learning rate of 0.1: 15909.734931455883\n",
      "R2 with learning rate of 1.0: 0.8649576186076552\n",
      "RMSE with learning rate of 1.0: 8294.869589483635\n"
     ]
    }
   ],
   "source": [
    "#loop through several possible eta values\n",
    "eta_vals = [0.001, 0.01, 0.1, 1.0]\n",
    "\n",
    "for i in eta_vals:\n",
    "    gbm = GradientBoostingRegressor(n_estimators=10, max_depth=6, learning_rate=i, random_state=0)\n",
    "    gbm.fit(X_train, y_train)\n",
    "    y_pred = gbm.predict(X_test)\n",
    "    print('R2 with learning rate of {}: {}'.format(i, metrics.r2_score(y_test, y_pred)))\n",
    "    print('RMSE with learning rate of {}: {}'.format(i, np.sqrt(metrics.mean_squared_error(y_test, y_pred))))"
   ]
  },
  {
   "cell_type": "markdown",
   "metadata": {},
   "source": [
    "3. XGBoost"
   ]
  },
  {
   "cell_type": "markdown",
   "metadata": {},
   "source": [
    "Note that XGBoost can be implemented using scikit-learn's API as well XGBoost's learning API. We will use the learning API below, which uses different syntax and requires that our data be organized as a DMatrix."
   ]
  },
  {
   "cell_type": "code",
   "execution_count": 79,
   "metadata": {},
   "outputs": [
    {
     "name": "stdout",
     "output_type": "stream",
     "text": [
      "<class 'xgboost.core.DMatrix'>\n"
     ]
    }
   ],
   "source": [
    "#convert data into DMatrixes\n",
    "DM_train = xgb.DMatrix(data=X_train, label=y_train)\n",
    "DM_test = xgb.DMatrix(data=X_test, label=y_test)\n",
    "print(type(DM_train))"
   ]
  },
  {
   "cell_type": "code",
   "execution_count": 80,
   "metadata": {},
   "outputs": [],
   "source": [
    "#set parameters\n",
    "params = {'objective':'reg:squarederror'}"
   ]
  },
  {
   "cell_type": "code",
   "execution_count": 81,
   "metadata": {},
   "outputs": [],
   "source": [
    "#train model using same parameters as above\n",
    "xgb_model = xgb.train(params=params, dtrain=DM_train, num_boost_round=100)"
   ]
  },
  {
   "cell_type": "code",
   "execution_count": 82,
   "metadata": {},
   "outputs": [
    {
     "name": "stdout",
     "output_type": "stream",
     "text": [
      "R2 with 100 boost rounds: 0.9372716765592579\n",
      "RMSE with 100 boost rounds: 5653.356314832314\n"
     ]
    }
   ],
   "source": [
    "#predict\n",
    "y_pred = xgb_model.predict(DM_test)\n",
    "\n",
    "print('R2 with 100 boost rounds: {}'.format(metrics.r2_score(y_test, y_pred)))\n",
    "print('RMSE with 100 boost rounds: {}'.format(np.sqrt(metrics.mean_squared_error(y_test, y_pred))))"
   ]
  },
  {
   "cell_type": "code",
   "execution_count": 83,
   "metadata": {},
   "outputs": [
    {
     "name": "stdout",
     "output_type": "stream",
     "text": [
      "R2 with 100 boost rounds, max_depth of 1: 0.27155655239117515\n",
      "RMSE with 100 boost rounds, max_depth of 1: 19265.15196668453\n",
      "R2 with 100 boost rounds, max_depth of 2: 0.457405903852219\n",
      "RMSE with 100 boost rounds, max_depth of 2: 16626.929317465718\n",
      "R2 with 100 boost rounds, max_depth of 3: 0.5588187596767284\n",
      "RMSE with 100 boost rounds, max_depth of 3: 14992.809996777418\n",
      "R2 with 100 boost rounds, max_depth of 4: 0.6289070816855715\n",
      "RMSE with 100 boost rounds, max_depth of 4: 13750.41646057653\n",
      "R2 with 100 boost rounds, max_depth of 5: 0.6766331698036949\n",
      "RMSE with 100 boost rounds, max_depth of 5: 12835.779658975487\n",
      "R2 with 100 boost rounds, max_depth of 6: 0.7200978097742802\n",
      "RMSE with 100 boost rounds, max_depth of 6: 11942.01650227534\n"
     ]
    }
   ],
   "source": [
    "#loop through several possible max_depth values\n",
    "\n",
    "max_depth_values = [1, 2, 3, 4, 5, 6]\n",
    "\n",
    "for i in max_depth_values:\n",
    "    params['max_depth'] = i\n",
    "    xgb_model = xgb.train(params=params, dtrain=DM_train, num_boost_round=10)\n",
    "    y_pred = xgb_model.predict(DM_test)\n",
    "\n",
    "    print('R2 with 100 boost rounds, max_depth of {}: {}'.format(i, metrics.r2_score(y_test, y_pred)))\n",
    "    print('RMSE with 100 boost rounds, max_depth of {}: {}'.format(i, np.sqrt(metrics.mean_squared_error(y_test, y_pred))))"
   ]
  },
  {
   "cell_type": "code",
   "execution_count": 84,
   "metadata": {},
   "outputs": [],
   "source": [
    "#use 5-fold cross validation, max_depth of 6, 10 boosting rounds, and store the results as a dataframe\n",
    "\n",
    "DM = xgb.DMatrix(data=X, label=y)\n",
    "params = params = {'objective':'reg:squarederror', 'max_depth': 5}\n",
    "\n",
    "cv_results = xgb.cv(params=params, dtrain=DM, nfold=5, num_boost_round=100, metrics='rmse', as_pandas=True)\n",
    "\n"
   ]
  },
  {
   "cell_type": "code",
   "execution_count": 85,
   "metadata": {},
   "outputs": [
    {
     "data": {
      "text/html": [
       "<div>\n",
       "<style scoped>\n",
       "    .dataframe tbody tr th:only-of-type {\n",
       "        vertical-align: middle;\n",
       "    }\n",
       "\n",
       "    .dataframe tbody tr th {\n",
       "        vertical-align: top;\n",
       "    }\n",
       "\n",
       "    .dataframe thead th {\n",
       "        text-align: right;\n",
       "    }\n",
       "</style>\n",
       "<table border=\"1\" class=\"dataframe\">\n",
       "  <thead>\n",
       "    <tr style=\"text-align: right;\">\n",
       "      <th></th>\n",
       "      <th>test-rmse-mean</th>\n",
       "      <th>test-rmse-std</th>\n",
       "    </tr>\n",
       "  </thead>\n",
       "  <tbody>\n",
       "    <tr>\n",
       "      <th>0</th>\n",
       "      <td>22912.976563</td>\n",
       "      <td>108.873873</td>\n",
       "    </tr>\n",
       "    <tr>\n",
       "      <th>1</th>\n",
       "      <td>19785.493359</td>\n",
       "      <td>109.328974</td>\n",
       "    </tr>\n",
       "    <tr>\n",
       "      <th>2</th>\n",
       "      <td>17774.450000</td>\n",
       "      <td>129.346151</td>\n",
       "    </tr>\n",
       "    <tr>\n",
       "      <th>3</th>\n",
       "      <td>16446.737695</td>\n",
       "      <td>115.554514</td>\n",
       "    </tr>\n",
       "    <tr>\n",
       "      <th>4</th>\n",
       "      <td>15504.715625</td>\n",
       "      <td>138.793441</td>\n",
       "    </tr>\n",
       "    <tr>\n",
       "      <th>...</th>\n",
       "      <td>...</td>\n",
       "      <td>...</td>\n",
       "    </tr>\n",
       "    <tr>\n",
       "      <th>95</th>\n",
       "      <td>6757.690430</td>\n",
       "      <td>178.896338</td>\n",
       "    </tr>\n",
       "    <tr>\n",
       "      <th>96</th>\n",
       "      <td>6741.648731</td>\n",
       "      <td>173.894482</td>\n",
       "    </tr>\n",
       "    <tr>\n",
       "      <th>97</th>\n",
       "      <td>6711.356543</td>\n",
       "      <td>176.533544</td>\n",
       "    </tr>\n",
       "    <tr>\n",
       "      <th>98</th>\n",
       "      <td>6690.538476</td>\n",
       "      <td>175.866592</td>\n",
       "    </tr>\n",
       "    <tr>\n",
       "      <th>99</th>\n",
       "      <td>6678.439746</td>\n",
       "      <td>175.514723</td>\n",
       "    </tr>\n",
       "  </tbody>\n",
       "</table>\n",
       "<p>100 rows × 2 columns</p>\n",
       "</div>"
      ],
      "text/plain": [
       "    test-rmse-mean  test-rmse-std\n",
       "0     22912.976563     108.873873\n",
       "1     19785.493359     109.328974\n",
       "2     17774.450000     129.346151\n",
       "3     16446.737695     115.554514\n",
       "4     15504.715625     138.793441\n",
       "..             ...            ...\n",
       "95     6757.690430     178.896338\n",
       "96     6741.648731     173.894482\n",
       "97     6711.356543     176.533544\n",
       "98     6690.538476     175.866592\n",
       "99     6678.439746     175.514723\n",
       "\n",
       "[100 rows x 2 columns]"
      ]
     },
     "metadata": {},
     "output_type": "display_data"
    }
   ],
   "source": [
    "display(cv_results[['test-rmse-mean', 'test-rmse-std']])"
   ]
  },
  {
   "cell_type": "code",
   "execution_count": 86,
   "metadata": {},
   "outputs": [
    {
     "data": {
      "text/plain": [
       "{'f129': 4291276158000.0,\n",
       " 'f132': 4771613394000.0,\n",
       " 'f92': 2916370159428.5713,\n",
       " 'f116': 2266829117666.6665,\n",
       " 'f127': 1926685115000.0,\n",
       " 'f94': 1671905930666.6667,\n",
       " 'f10': 523206089917.9802,\n",
       " 'f198': 754108810939.4286,\n",
       " 'f13': 174116664433.33334,\n",
       " 'f36': 180494663500.0,\n",
       " 'f7': 19327349062.416668,\n",
       " 'f37': 84127809400.0,\n",
       " 'f8': 42956110348.55556,\n",
       " 'f20': 195583122534.6154,\n",
       " 'f53': 49724807806.25,\n",
       " 'f30': 85841114163.63637,\n",
       " 'f139': 171216315192.8,\n",
       " 'f2': 915016076.2857143,\n",
       " 'f52': 28840528748.57143,\n",
       " 'f50': 49110144366.666664,\n",
       " 'f21': 126533391700.0,\n",
       " 'f24': 80258802842.85715,\n",
       " 'f57': 1690811499333.3333,\n",
       " 'f43': 104806443310.0,\n",
       " 'f46': 72003264400.0,\n",
       " 'f128': 1310997581600.0,\n",
       " 'f14': 75405712300.0,\n",
       " 'f0': 3678566772.5238094,\n",
       " 'f203': 2594306200.285714,\n",
       " 'f27': 31543465476.333332,\n",
       " 'f25': 34207509120.0,\n",
       " 'f35': 20822708200.0,\n",
       " 'f6': 2870531538.0,\n",
       " 'f1': 489368917.5,\n",
       " 'f26': 32297320400.0,\n",
       " 'f49': 35073441800.0,\n",
       " 'f32': 15662776300.0,\n",
       " 'f54': 13455294450.0,\n",
       " 'f48': 11485184000.0,\n",
       " 'f3': 188240990.0,\n",
       " 'f4': 11485953203.0,\n",
       " 'f11': 85811082120.0,\n",
       " 'f138': 413885441071.4286,\n",
       " 'f63': 877789379750.0,\n",
       " 'f163': 1317601280.0,\n",
       " 'f131': 910519081200.0,\n",
       " 'f130': 809070058000.0,\n",
       " 'f29': 38374342650.0,\n",
       " 'f16': 29094352233.333332,\n",
       " 'f137': 47840961100.0,\n",
       " 'f17': 56935022600.0,\n",
       " 'f158': 68333568.0,\n",
       " 'f170': 9594880.0,\n",
       " 'f68': 979814057333.3334,\n",
       " 'f202': 180110775004.57144,\n",
       " 'f59': 584289468500.0,\n",
       " 'f18': 20363837400.0,\n",
       " 'f77': 460647432500.0,\n",
       " 'f64': 201792553000.0,\n",
       " 'f62': 526083992333.3333,\n",
       " 'f140': 4133863420.0,\n",
       " 'f159': 202210816.0,\n",
       " 'f47': 37876502500.0,\n",
       " 'f197': 123158528.0,\n",
       " 'f31': 73075785700.0,\n",
       " 'f5': 907929599.0,\n",
       " 'f39': 4884201470.0,\n",
       " 'f12': 46358396900.0,\n",
       " 'f186': 44591872.0,\n",
       " 'f19': 3667480580.0,\n",
       " 'f120': 657039032000.0,\n",
       " 'f60': 556562776000.0,\n",
       " 'f44': 114049745000.0,\n",
       " 'f38': 51307806700.0,\n",
       " 'f34': 41850732500.0,\n",
       " 'f181': 719349760.0,\n",
       " 'f168': 449320960.0,\n",
       " 'f178': 941044864.0,\n",
       " 'f176': 65903808.0,\n",
       " 'f82': 479739314000.0,\n",
       " 'f111': 487618511000.0,\n",
       " 'f107': 490556260000.0,\n",
       " 'f112': 498602279000.0,\n",
       " 'f151': 691453952.0}"
      ]
     },
     "execution_count": 86,
     "metadata": {},
     "output_type": "execute_result"
    }
   ],
   "source": [
    "#get feature importances\n",
    "feature_importances = xgb_model.get_score(importance_type='gain')\n",
    "feature_importances"
   ]
  },
  {
   "cell_type": "code",
   "execution_count": 87,
   "metadata": {},
   "outputs": [],
   "source": [
    "list_of_importances = []\n",
    "list_of_indices = []\n",
    "\n",
    "for key, val in feature_importances.items():\n",
    "    list_of_importances.append(val)\n",
    "    list_of_indices.append(int(key.strip('f')))"
   ]
  },
  {
   "cell_type": "code",
   "execution_count": 88,
   "metadata": {},
   "outputs": [],
   "source": [
    "#get names of important columns\n",
    "important_col_names = df_dummies.iloc[:, list_of_indices].columns"
   ]
  },
  {
   "cell_type": "code",
   "execution_count": 89,
   "metadata": {},
   "outputs": [
    {
     "data": {
      "text/html": [
       "<div>\n",
       "<style scoped>\n",
       "    .dataframe tbody tr th:only-of-type {\n",
       "        vertical-align: middle;\n",
       "    }\n",
       "\n",
       "    .dataframe tbody tr th {\n",
       "        vertical-align: top;\n",
       "    }\n",
       "\n",
       "    .dataframe thead th {\n",
       "        text-align: right;\n",
       "    }\n",
       "</style>\n",
       "<table border=\"1\" class=\"dataframe\">\n",
       "  <thead>\n",
       "    <tr style=\"text-align: right;\">\n",
       "      <th></th>\n",
       "      <th>feature</th>\n",
       "      <th>importance</th>\n",
       "    </tr>\n",
       "  </thead>\n",
       "  <tbody>\n",
       "    <tr>\n",
       "      <th>1</th>\n",
       "      <td>Dept_94</td>\n",
       "      <td>4.771613e+12</td>\n",
       "    </tr>\n",
       "    <tr>\n",
       "      <th>0</th>\n",
       "      <td>Dept_91</td>\n",
       "      <td>4.291276e+12</td>\n",
       "    </tr>\n",
       "    <tr>\n",
       "      <th>2</th>\n",
       "      <td>Dept_37</td>\n",
       "      <td>2.916370e+12</td>\n",
       "    </tr>\n",
       "    <tr>\n",
       "      <th>3</th>\n",
       "      <td>Dept_71</td>\n",
       "      <td>2.266829e+12</td>\n",
       "    </tr>\n",
       "    <tr>\n",
       "      <th>4</th>\n",
       "      <td>Dept_87</td>\n",
       "      <td>1.926685e+12</td>\n",
       "    </tr>\n",
       "    <tr>\n",
       "      <th>22</th>\n",
       "      <td>Dept_1</td>\n",
       "      <td>1.690811e+12</td>\n",
       "    </tr>\n",
       "    <tr>\n",
       "      <th>5</th>\n",
       "      <td>Dept_39</td>\n",
       "      <td>1.671906e+12</td>\n",
       "    </tr>\n",
       "    <tr>\n",
       "      <th>25</th>\n",
       "      <td>Dept_90</td>\n",
       "      <td>1.310998e+12</td>\n",
       "    </tr>\n",
       "    <tr>\n",
       "      <th>53</th>\n",
       "      <td>Dept_12</td>\n",
       "      <td>9.798141e+11</td>\n",
       "    </tr>\n",
       "    <tr>\n",
       "      <th>45</th>\n",
       "      <td>Dept_93</td>\n",
       "      <td>9.105191e+11</td>\n",
       "    </tr>\n",
       "    <tr>\n",
       "      <th>43</th>\n",
       "      <td>Dept_7</td>\n",
       "      <td>8.777894e+11</td>\n",
       "    </tr>\n",
       "    <tr>\n",
       "      <th>46</th>\n",
       "      <td>Dept_92</td>\n",
       "      <td>8.090701e+11</td>\n",
       "    </tr>\n",
       "    <tr>\n",
       "      <th>7</th>\n",
       "      <td>Week_46</td>\n",
       "      <td>7.541088e+11</td>\n",
       "    </tr>\n",
       "    <tr>\n",
       "      <th>70</th>\n",
       "      <td>Dept_78</td>\n",
       "      <td>6.570390e+11</td>\n",
       "    </tr>\n",
       "    <tr>\n",
       "      <th>55</th>\n",
       "      <td>Dept_3</td>\n",
       "      <td>5.842895e+11</td>\n",
       "    </tr>\n",
       "    <tr>\n",
       "      <th>71</th>\n",
       "      <td>Dept_4</td>\n",
       "      <td>5.565628e+11</td>\n",
       "    </tr>\n",
       "    <tr>\n",
       "      <th>59</th>\n",
       "      <td>Dept_6</td>\n",
       "      <td>5.260840e+11</td>\n",
       "    </tr>\n",
       "    <tr>\n",
       "      <th>6</th>\n",
       "      <td>Size</td>\n",
       "      <td>5.232061e+11</td>\n",
       "    </tr>\n",
       "    <tr>\n",
       "      <th>82</th>\n",
       "      <td>Dept_59</td>\n",
       "      <td>4.986023e+11</td>\n",
       "    </tr>\n",
       "    <tr>\n",
       "      <th>81</th>\n",
       "      <td>Dept_52</td>\n",
       "      <td>4.905563e+11</td>\n",
       "    </tr>\n",
       "    <tr>\n",
       "      <th>80</th>\n",
       "      <td>Dept_58</td>\n",
       "      <td>4.876185e+11</td>\n",
       "    </tr>\n",
       "    <tr>\n",
       "      <th>79</th>\n",
       "      <td>Dept_27</td>\n",
       "      <td>4.797393e+11</td>\n",
       "    </tr>\n",
       "    <tr>\n",
       "      <th>57</th>\n",
       "      <td>Dept_22</td>\n",
       "      <td>4.606474e+11</td>\n",
       "    </tr>\n",
       "    <tr>\n",
       "      <th>42</th>\n",
       "      <td>Type_A</td>\n",
       "      <td>4.138854e+11</td>\n",
       "    </tr>\n",
       "    <tr>\n",
       "      <th>58</th>\n",
       "      <td>Dept_8</td>\n",
       "      <td>2.017926e+11</td>\n",
       "    </tr>\n",
       "  </tbody>\n",
       "</table>\n",
       "</div>"
      ],
      "text/plain": [
       "    feature    importance\n",
       "1   Dept_94  4.771613e+12\n",
       "0   Dept_91  4.291276e+12\n",
       "2   Dept_37  2.916370e+12\n",
       "3   Dept_71  2.266829e+12\n",
       "4   Dept_87  1.926685e+12\n",
       "22   Dept_1  1.690811e+12\n",
       "5   Dept_39  1.671906e+12\n",
       "25  Dept_90  1.310998e+12\n",
       "53  Dept_12  9.798141e+11\n",
       "45  Dept_93  9.105191e+11\n",
       "43   Dept_7  8.777894e+11\n",
       "46  Dept_92  8.090701e+11\n",
       "7   Week_46  7.541088e+11\n",
       "70  Dept_78  6.570390e+11\n",
       "55   Dept_3  5.842895e+11\n",
       "71   Dept_4  5.565628e+11\n",
       "59   Dept_6  5.260840e+11\n",
       "6      Size  5.232061e+11\n",
       "82  Dept_59  4.986023e+11\n",
       "81  Dept_52  4.905563e+11\n",
       "80  Dept_58  4.876185e+11\n",
       "79  Dept_27  4.797393e+11\n",
       "57  Dept_22  4.606474e+11\n",
       "42   Type_A  4.138854e+11\n",
       "58   Dept_8  2.017926e+11"
      ]
     },
     "execution_count": 89,
     "metadata": {},
     "output_type": "execute_result"
    }
   ],
   "source": [
    "feature_importance_df = pd.DataFrame({'feature':important_col_names, 'importance':list_of_importances}).sort_values(by='importance', ascending=False)\n",
    "feature_importance_df.head(25)"
   ]
  },
  {
   "cell_type": "markdown",
   "metadata": {},
   "source": [
    "Departments are the most important contributor to the XGBRegressor model, along with Size, Type_A, and a few stores and weeks."
   ]
  },
  {
   "cell_type": "markdown",
   "metadata": {},
   "source": [
    "Let's reduce our data set to only the 80 most important features and then run grid search cv to find the best parameters"
   ]
  },
  {
   "cell_type": "code",
   "execution_count": 90,
   "metadata": {},
   "outputs": [
    {
     "data": {
      "text/plain": [
       "(418660, 81)"
      ]
     },
     "execution_count": 90,
     "metadata": {},
     "output_type": "execute_result"
    }
   ],
   "source": [
    "columns_to_keep = feature_importance_df.iloc[:81, 0].to_list() #Weekly Sales is in the list to keep\n",
    "df_dummies_reduced = df_dummies[columns_to_keep]\n",
    "df_dummies_reduced.shape"
   ]
  },
  {
   "cell_type": "code",
   "execution_count": 91,
   "metadata": {},
   "outputs": [],
   "source": [
    "X = df_dummies_reduced.drop('Weekly_Sales', axis=1).values\n",
    "y = df_dummies_reduced['Weekly_Sales'].values"
   ]
  },
  {
   "cell_type": "code",
   "execution_count": 92,
   "metadata": {},
   "outputs": [
    {
     "name": "stdout",
     "output_type": "stream",
     "text": [
      "(418660,)\n"
     ]
    }
   ],
   "source": [
    "y = y.reshape(len(y))\n",
    "print(y.shape)"
   ]
  },
  {
   "cell_type": "code",
   "execution_count": 93,
   "metadata": {},
   "outputs": [
    {
     "name": "stdout",
     "output_type": "stream",
     "text": [
      "(313995, 80)\n",
      "(104665, 80)\n"
     ]
    }
   ],
   "source": [
    "X_train, X_test, y_train, y_test = train_test_split(X, y, test_size=0.25, random_state=0)\n",
    "print(X_train.shape)\n",
    "print(X_test.shape)"
   ]
  },
  {
   "cell_type": "code",
   "execution_count": 94,
   "metadata": {},
   "outputs": [],
   "source": [
    "#convert data into DMatrixes\n",
    "DM_train = xgb.DMatrix(data=X_train, label=y_train)\n",
    "DM_test = xgb.DMatrix(data=X_test, label=y_test)"
   ]
  },
  {
   "cell_type": "code",
   "execution_count": 95,
   "metadata": {},
   "outputs": [
    {
     "name": "stdout",
     "output_type": "stream",
     "text": [
      "R2 with 100 boost rounds, learning rate of 0.001, half the features: -0.3567395642547124\n",
      "RMSE with 100 boost rounds, learning rate of 0.001, half the features: 26291.94792681328\n",
      "R2 with 100 boost rounds, learning rate of 0.01, half the features: 0.21015789555841935\n",
      "RMSE with 100 boost rounds, learning rate of 0.01, half the features: 20060.63421782422\n",
      "R2 with 100 boost rounds, learning rate of 0.1, half the features: 0.4268409224623614\n",
      "RMSE with 100 boost rounds, learning rate of 0.1, half the features: 17088.82121197079\n",
      "R2 with 100 boost rounds, learning rate of 1.0, half the features: 0.4450608991966025\n",
      "RMSE with 100 boost rounds, learning rate of 1.0, half the features: 16815.01200191259\n"
     ]
    }
   ],
   "source": [
    "params = params = {'objective':'reg:squarederror', 'max_depth': 5}\n",
    "    \n",
    "#loop through several possible eta values\n",
    "eta_vals = [0.001, 0.01, 0.1, 1.0]\n",
    "\n",
    "for eta in eta_vals:\n",
    "    params['eta'] = eta\n",
    "    xgb_model = xgb.train(params=params, dtrain=DM_train, num_boost_round=100)\n",
    "    y_pred = xgb_model.predict(DM_test)\n",
    "\n",
    "    print('R2 with 100 boost rounds, learning rate of {}, half the features: {}'.format(eta, metrics.r2_score(y_test, y_pred)))\n",
    "    print('RMSE with 100 boost rounds, learning rate of {}, half the features: {}'.format(eta, np.sqrt(metrics.mean_squared_error(y_test, y_pred))))"
   ]
  },
  {
   "cell_type": "markdown",
   "metadata": {},
   "source": [
    "Interestingly, using only half the features greatly reduces model performance. Let's loop through the same possible learning rates with all columns, and compare the performance."
   ]
  },
  {
   "cell_type": "code",
   "execution_count": 96,
   "metadata": {},
   "outputs": [],
   "source": [
    "X = df_dummies.drop('Weekly_Sales', axis=1).values\n",
    "y = df_dummies['Weekly_Sales'].values"
   ]
  },
  {
   "cell_type": "code",
   "execution_count": 97,
   "metadata": {},
   "outputs": [
    {
     "name": "stdout",
     "output_type": "stream",
     "text": [
      "(313995, 207)\n",
      "(104665, 207)\n"
     ]
    }
   ],
   "source": [
    "X_train, X_test, y_train, y_test = train_test_split(X, y, test_size=0.25, random_state=0)\n",
    "print(X_train.shape)\n",
    "print(X_test.shape)"
   ]
  },
  {
   "cell_type": "code",
   "execution_count": 98,
   "metadata": {},
   "outputs": [],
   "source": [
    "#convert data into DMatrixes\n",
    "DM_train = xgb.DMatrix(data=X_train, label=y_train)\n",
    "DM_test = xgb.DMatrix(data=X_test, label=y_test)"
   ]
  },
  {
   "cell_type": "code",
   "execution_count": 99,
   "metadata": {},
   "outputs": [
    {
     "name": "stdout",
     "output_type": "stream",
     "text": [
      "R2 with 100 boost rounds, learning rate of 0.001: -0.3321114417015132\n",
      "RMSE with 100 boost rounds, learning rate of 0.001: 26052.223652667246\n",
      "R2 with 100 boost rounds, learning rate of 0.01: 0.3752884339923692\n",
      "RMSE with 100 boost rounds, learning rate of 0.01: 17840.798652132773\n",
      "R2 with 100 boost rounds, learning rate of 0.1: 0.8270665887996942\n",
      "RMSE with 100 boost rounds, learning rate of 0.1: 9386.722363871955\n",
      "R2 with 100 boost rounds, learning rate of 1.0: 0.9473626132296197\n",
      "RMSE with 100 boost rounds, learning rate of 1.0: 5178.711035259626\n"
     ]
    }
   ],
   "source": [
    "params = {'objective':'reg:squarederror', 'max_depth': 5}\n",
    "    \n",
    "#loop through several possible eta values\n",
    "eta_vals = [0.001, 0.01, 0.1, 1.0]\n",
    "\n",
    "for eta in eta_vals:\n",
    "    params['eta'] = eta\n",
    "    xgb_model = xgb.train(params=params, dtrain=DM_train, num_boost_round=100)\n",
    "    y_pred = xgb_model.predict(DM_test)\n",
    "\n",
    "    print('R2 with 100 boost rounds, learning rate of {}: {}'.format(eta, metrics.r2_score(y_test, y_pred)))\n",
    "    print('RMSE with 100 boost rounds, learning rate of {}: {}'.format(eta, np.sqrt(metrics.mean_squared_error(y_test, y_pred))))"
   ]
  },
  {
   "cell_type": "markdown",
   "metadata": {},
   "source": [
    "Finally, let's experiment with changing the subsample of rows and columns for each tree in the ensemble. "
   ]
  },
  {
   "cell_type": "code",
   "execution_count": 100,
   "metadata": {},
   "outputs": [
    {
     "name": "stdout",
     "output_type": "stream",
     "text": [
      "R2 with 100 boost rounds, learning rate of 0.1, subsample of 0.5: 0.8328582436190664\n",
      "RMSE with 100 boost rounds, learning rate of 0.1, subsample of 0.5: 9228.200022765943\n",
      "R2 with 100 boost rounds, learning rate of 0.1, subsample of 0.6: 0.8332156652370921\n",
      "RMSE with 100 boost rounds, learning rate of 0.1, subsample of 0.6: 9218.327793727245\n",
      "R2 with 100 boost rounds, learning rate of 0.1, subsample of 0.7: 0.8326269163772739\n",
      "RMSE with 100 boost rounds, learning rate of 0.1, subsample of 0.7: 9234.583813349313\n",
      "R2 with 100 boost rounds, learning rate of 0.1, subsample of 0.8: 0.8295511162889528\n",
      "RMSE with 100 boost rounds, learning rate of 0.1, subsample of 0.8: 9319.049084935039\n",
      "R2 with 100 boost rounds, learning rate of 0.1, subsample of 0.9: 0.8295972843926698\n",
      "RMSE with 100 boost rounds, learning rate of 0.1, subsample of 0.9: 9317.786911920557\n"
     ]
    }
   ],
   "source": [
    "params = {'objective':'reg:squarederror', 'max_depth': 5, 'eta':0.1}\n",
    "    \n",
    "#loop through several possible values of subsamples (rows)\n",
    "subsample_vals= [0.5, 0.6, 0.7, 0.8, 0.9]\n",
    "\n",
    "for val in subsample_vals:\n",
    "    params['subsample'] = val\n",
    "    xgb_model = xgb.train(params=params, dtrain=DM_train, num_boost_round=100)\n",
    "    y_pred = xgb_model.predict(DM_test)\n",
    "\n",
    "    print('R2 with 100 boost rounds, learning rate of 0.1, subsample of {}: {}'.format(val, metrics.r2_score(y_test, y_pred)))\n",
    "    print('RMSE with 100 boost rounds, learning rate of 0.1, subsample of {}: {}'.format(val, np.sqrt(metrics.mean_squared_error(y_test, y_pred))))"
   ]
  },
  {
   "cell_type": "code",
   "execution_count": 102,
   "metadata": {},
   "outputs": [
    {
     "name": "stdout",
     "output_type": "stream",
     "text": [
      "R2 with 100 boost rounds, learning rate of 0.1, colsample_bytree of 0.7: 0.8246080254427479\n",
      "RMSE with 100 boost rounds, learning rate of 0.1, colsample_bytree of 0.7: 9453.211557576047\n",
      "R2 with 100 boost rounds, learning rate of 0.1, colsample_bytree of 0.8: 0.8299892004799574\n",
      "RMSE with 100 boost rounds, learning rate of 0.1, colsample_bytree of 0.8: 9307.065566550747\n",
      "R2 with 100 boost rounds, learning rate of 0.1, colsample_bytree of 0.9: 0.8302195054984023\n",
      "RMSE with 100 boost rounds, learning rate of 0.1, colsample_bytree of 0.9: 9300.759525065103\n"
     ]
    }
   ],
   "source": [
    "params = {'objective':'reg:squarederror', 'max_depth': 5, 'eta':0.1, 'subsample':0.8}\n",
    "    \n",
    "#loop through several possible values of subsamples (rows)\n",
    "colsample_vals= [0.7, 0.8, 0.9]\n",
    "\n",
    "for val in colsample_vals:\n",
    "    params['colsample_bytree'] = val\n",
    "    xgb_model = xgb.train(params=params, dtrain=DM_train, num_boost_round=100)\n",
    "    y_pred = xgb_model.predict(DM_test)\n",
    "\n",
    "    print('R2 with 100 boost rounds, learning rate of 0.1, colsample_bytree of {}: {}'.format(val, metrics.r2_score(y_test, y_pred)))\n",
    "    print('RMSE with 100 boost rounds, learning rate of 0.1, colsample_bytree of {}: {}'.format(val, np.sqrt(metrics.mean_squared_error(y_test, y_pred))))"
   ]
  },
  {
   "cell_type": "markdown",
   "metadata": {},
   "source": [
    "Now let's use our XGBoost model with training and test data split by year"
   ]
  },
  {
   "cell_type": "code",
   "execution_count": 19,
   "metadata": {},
   "outputs": [
    {
     "name": "stdout",
     "output_type": "stream",
     "text": [
      "(293146, 207)\n",
      "(125514, 207)\n"
     ]
    }
   ],
   "source": [
    "#split into train test based on year\n",
    "X_train = df_dummies.loc[(df['Year']==2010) | (df['Year']==2011), :].drop('Weekly_Sales', axis=1).values\n",
    "X_test = df_dummies.loc[df['Year']==2012, :].drop('Weekly_Sales', axis=1).values\n",
    "y_train = df_dummies.loc[(df['Year']==2010) | (df['Year']==2011), 'Weekly_Sales'].values.reshape(-1, 1)\n",
    "y_test = df_dummies.loc[df['Year']==2012, 'Weekly_Sales'].values.reshape(-1, 1)\n",
    "\n",
    "print(X_train.shape)\n",
    "print(X_test.shape)"
   ]
  },
  {
   "cell_type": "code",
   "execution_count": 20,
   "metadata": {},
   "outputs": [
    {
     "name": "stdout",
     "output_type": "stream",
     "text": [
      "(293146,)\n",
      "(125514,)\n"
     ]
    }
   ],
   "source": [
    "y_train = y_train.reshape(len(y_train))\n",
    "y_test = y_test.reshape(len(y_test))\n",
    "print(y_train.shape)\n",
    "print(y_test.shape)"
   ]
  },
  {
   "cell_type": "code",
   "execution_count": 21,
   "metadata": {},
   "outputs": [],
   "source": [
    "#convert data into DMatrixes\n",
    "DM_train = xgb.DMatrix(data=X_train, label=y_train)\n",
    "DM_test = xgb.DMatrix(data=X_test, label=y_test)"
   ]
  },
  {
   "cell_type": "code",
   "execution_count": 22,
   "metadata": {},
   "outputs": [],
   "source": [
    "params = {'objective':'reg:squarederror', 'max_depth': 5, 'eta':0.1, 'subsample':0.8, 'colsample_bytree':0.8}\n",
    "\n",
    "xgb_model = xgb.train(params=params, dtrain=DM_train, num_boost_round=100)"
   ]
  },
  {
   "cell_type": "code",
   "execution_count": 23,
   "metadata": {},
   "outputs": [
    {
     "name": "stdout",
     "output_type": "stream",
     "text": [
      "R2 with 100 boost rounds: 0.8278773653134514\n",
      "RMSE with 100 boost rounds: 9175.79579142783\n"
     ]
    }
   ],
   "source": [
    "#predict\n",
    "y_pred = xgb_model.predict(DM_test)\n",
    "\n",
    "print('R2 with 100 boost rounds: {}'.format(metrics.r2_score(y_test, y_pred)))\n",
    "print('RMSE with 100 boost rounds: {}'.format(np.sqrt(metrics.mean_squared_error(y_test, y_pred))))"
   ]
  },
  {
   "cell_type": "markdown",
   "metadata": {},
   "source": [
    "The results of an XGBoostRegressor are just as good when we divide our training and test data by year. We can inspect the first 10 predictions and true values, to get a sense of the performance."
   ]
  },
  {
   "cell_type": "code",
   "execution_count": 24,
   "metadata": {},
   "outputs": [
    {
     "data": {
      "text/html": [
       "<div>\n",
       "<style scoped>\n",
       "    .dataframe tbody tr th:only-of-type {\n",
       "        vertical-align: middle;\n",
       "    }\n",
       "\n",
       "    .dataframe tbody tr th {\n",
       "        vertical-align: top;\n",
       "    }\n",
       "\n",
       "    .dataframe thead th {\n",
       "        text-align: right;\n",
       "    }\n",
       "</style>\n",
       "<table border=\"1\" class=\"dataframe\">\n",
       "  <thead>\n",
       "    <tr style=\"text-align: right;\">\n",
       "      <th></th>\n",
       "      <th>Predicted values</th>\n",
       "      <th>True values</th>\n",
       "    </tr>\n",
       "  </thead>\n",
       "  <tbody>\n",
       "    <tr>\n",
       "      <th>0</th>\n",
       "      <td>17458.437500</td>\n",
       "      <td>16567.69</td>\n",
       "    </tr>\n",
       "    <tr>\n",
       "      <th>1</th>\n",
       "      <td>40650.484375</td>\n",
       "      <td>44481.38</td>\n",
       "    </tr>\n",
       "    <tr>\n",
       "      <th>2</th>\n",
       "      <td>10802.493164</td>\n",
       "      <td>13926.04</td>\n",
       "    </tr>\n",
       "    <tr>\n",
       "      <th>3</th>\n",
       "      <td>24189.796875</td>\n",
       "      <td>40925.76</td>\n",
       "    </tr>\n",
       "    <tr>\n",
       "      <th>4</th>\n",
       "      <td>20084.144531</td>\n",
       "      <td>23105.81</td>\n",
       "    </tr>\n",
       "    <tr>\n",
       "      <th>5</th>\n",
       "      <td>10026.289062</td>\n",
       "      <td>3665.25</td>\n",
       "    </tr>\n",
       "    <tr>\n",
       "      <th>6</th>\n",
       "      <td>21727.472656</td>\n",
       "      <td>12377.76</td>\n",
       "    </tr>\n",
       "    <tr>\n",
       "      <th>7</th>\n",
       "      <td>29098.935547</td>\n",
       "      <td>36797.00</td>\n",
       "    </tr>\n",
       "    <tr>\n",
       "      <th>8</th>\n",
       "      <td>17012.357422</td>\n",
       "      <td>20705.21</td>\n",
       "    </tr>\n",
       "    <tr>\n",
       "      <th>9</th>\n",
       "      <td>15917.623047</td>\n",
       "      <td>29927.33</td>\n",
       "    </tr>\n",
       "  </tbody>\n",
       "</table>\n",
       "</div>"
      ],
      "text/plain": [
       "   Predicted values  True values\n",
       "0      17458.437500     16567.69\n",
       "1      40650.484375     44481.38\n",
       "2      10802.493164     13926.04\n",
       "3      24189.796875     40925.76\n",
       "4      20084.144531     23105.81\n",
       "5      10026.289062      3665.25\n",
       "6      21727.472656     12377.76\n",
       "7      29098.935547     36797.00\n",
       "8      17012.357422     20705.21\n",
       "9      15917.623047     29927.33"
      ]
     },
     "execution_count": 24,
     "metadata": {},
     "output_type": "execute_result"
    }
   ],
   "source": [
    "pd.DataFrame({'Predicted values':y_pred[:10], 'True values':y_test[:10]})"
   ]
  },
  {
   "cell_type": "code",
   "execution_count": 17,
   "metadata": {},
   "outputs": [],
   "source": [
    "#save the model\n",
    "xgb_model.save_model('xgb.model')"
   ]
  },
  {
   "cell_type": "code",
   "execution_count": 27,
   "metadata": {},
   "outputs": [
    {
     "name": "stdout",
     "output_type": "stream",
     "text": [
      "<class 'xgboost.core.Booster'>\n",
      "<class 'xgboost.core.Booster'>\n",
      "R2 with 100 boost rounds: 0.8278773653134514\n",
      "RMSE with 100 boost rounds: 9175.79579142783\n"
     ]
    }
   ],
   "source": [
    "#load it back in and check if it works\n",
    "loaded_model = xgb.Booster(model_file='xgb.model')\n",
    "print(type(xgb_model))\n",
    "print(type(loaded_model))\n",
    "\n",
    "\n",
    "y_pred_2 = loaded_model.predict(DM_test)\n",
    "\n",
    "print('R2 with 100 boost rounds: {}'.format(metrics.r2_score(y_test, y_pred_2)))\n",
    "print('RMSE with 100 boost rounds: {}'.format(np.sqrt(metrics.mean_squared_error(y_test, y_pred_2))))"
   ]
  }
 ],
 "metadata": {
  "kernelspec": {
   "display_name": "Python 3",
   "language": "python",
   "name": "python3"
  },
  "language_info": {
   "codemirror_mode": {
    "name": "ipython",
    "version": 3
   },
   "file_extension": ".py",
   "mimetype": "text/x-python",
   "name": "python",
   "nbconvert_exporter": "python",
   "pygments_lexer": "ipython3",
   "version": "3.8.3"
  }
 },
 "nbformat": 4,
 "nbformat_minor": 4
}
