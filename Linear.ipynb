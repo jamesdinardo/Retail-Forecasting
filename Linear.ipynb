{
 "cells": [
  {
   "cell_type": "code",
   "execution_count": 1,
   "metadata": {},
   "outputs": [],
   "source": [
    "import numpy as np\n",
    "import pandas as pd\n",
    "from sklearn.model_selection import train_test_split\n",
    "from sklearn.preprocessing import StandardScaler\n",
    "from sklearn.linear_model import LinearRegression\n",
    "from sklearn.linear_model import Ridge\n",
    "from sklearn.linear_model import Lasso\n",
    "from sklearn import metrics\n"
   ]
  },
  {
   "cell_type": "code",
   "execution_count": 2,
   "metadata": {},
   "outputs": [],
   "source": [
    "#import the dataset from GitHub\n",
    "url = 'https://raw.githubusercontent.com/jamesdinardo/Retail-Forecasting/master/final_df.csv'\n",
    "df = pd.read_csv(url)"
   ]
  },
  {
   "cell_type": "code",
   "execution_count": 3,
   "metadata": {},
   "outputs": [
    {
     "name": "stdout",
     "output_type": "stream",
     "text": [
      "Shape of final dataframe: (418660, 16)\n"
     ]
    },
    {
     "data": {
      "text/html": [
       "<div>\n",
       "<style scoped>\n",
       "    .dataframe tbody tr th:only-of-type {\n",
       "        vertical-align: middle;\n",
       "    }\n",
       "\n",
       "    .dataframe tbody tr th {\n",
       "        vertical-align: top;\n",
       "    }\n",
       "\n",
       "    .dataframe thead th {\n",
       "        text-align: right;\n",
       "    }\n",
       "</style>\n",
       "<table border=\"1\" class=\"dataframe\">\n",
       "  <thead>\n",
       "    <tr style=\"text-align: right;\">\n",
       "      <th></th>\n",
       "      <th>Store</th>\n",
       "      <th>Date</th>\n",
       "      <th>Temperature</th>\n",
       "      <th>Fuel_Price</th>\n",
       "      <th>MarkDown1</th>\n",
       "      <th>MarkDown2</th>\n",
       "      <th>MarkDown3</th>\n",
       "      <th>MarkDown4</th>\n",
       "      <th>MarkDown5</th>\n",
       "      <th>CPI</th>\n",
       "      <th>Unemployment</th>\n",
       "      <th>IsHoliday</th>\n",
       "      <th>Dept</th>\n",
       "      <th>Type</th>\n",
       "      <th>Size</th>\n",
       "      <th>Weekly_Sales</th>\n",
       "    </tr>\n",
       "  </thead>\n",
       "  <tbody>\n",
       "    <tr>\n",
       "      <th>0</th>\n",
       "      <td>1</td>\n",
       "      <td>05/02/2010</td>\n",
       "      <td>42.31</td>\n",
       "      <td>2.572</td>\n",
       "      <td>0.0</td>\n",
       "      <td>0.0</td>\n",
       "      <td>0.0</td>\n",
       "      <td>0.0</td>\n",
       "      <td>0.0</td>\n",
       "      <td>211.096358</td>\n",
       "      <td>8.106</td>\n",
       "      <td>False</td>\n",
       "      <td>1</td>\n",
       "      <td>A</td>\n",
       "      <td>151315</td>\n",
       "      <td>24924.50</td>\n",
       "    </tr>\n",
       "    <tr>\n",
       "      <th>1</th>\n",
       "      <td>1</td>\n",
       "      <td>05/02/2010</td>\n",
       "      <td>42.31</td>\n",
       "      <td>2.572</td>\n",
       "      <td>0.0</td>\n",
       "      <td>0.0</td>\n",
       "      <td>0.0</td>\n",
       "      <td>0.0</td>\n",
       "      <td>0.0</td>\n",
       "      <td>211.096358</td>\n",
       "      <td>8.106</td>\n",
       "      <td>False</td>\n",
       "      <td>2</td>\n",
       "      <td>A</td>\n",
       "      <td>151315</td>\n",
       "      <td>50605.27</td>\n",
       "    </tr>\n",
       "    <tr>\n",
       "      <th>2</th>\n",
       "      <td>1</td>\n",
       "      <td>05/02/2010</td>\n",
       "      <td>42.31</td>\n",
       "      <td>2.572</td>\n",
       "      <td>0.0</td>\n",
       "      <td>0.0</td>\n",
       "      <td>0.0</td>\n",
       "      <td>0.0</td>\n",
       "      <td>0.0</td>\n",
       "      <td>211.096358</td>\n",
       "      <td>8.106</td>\n",
       "      <td>False</td>\n",
       "      <td>3</td>\n",
       "      <td>A</td>\n",
       "      <td>151315</td>\n",
       "      <td>13740.12</td>\n",
       "    </tr>\n",
       "    <tr>\n",
       "      <th>3</th>\n",
       "      <td>1</td>\n",
       "      <td>05/02/2010</td>\n",
       "      <td>42.31</td>\n",
       "      <td>2.572</td>\n",
       "      <td>0.0</td>\n",
       "      <td>0.0</td>\n",
       "      <td>0.0</td>\n",
       "      <td>0.0</td>\n",
       "      <td>0.0</td>\n",
       "      <td>211.096358</td>\n",
       "      <td>8.106</td>\n",
       "      <td>False</td>\n",
       "      <td>4</td>\n",
       "      <td>A</td>\n",
       "      <td>151315</td>\n",
       "      <td>39954.04</td>\n",
       "    </tr>\n",
       "    <tr>\n",
       "      <th>4</th>\n",
       "      <td>1</td>\n",
       "      <td>05/02/2010</td>\n",
       "      <td>42.31</td>\n",
       "      <td>2.572</td>\n",
       "      <td>0.0</td>\n",
       "      <td>0.0</td>\n",
       "      <td>0.0</td>\n",
       "      <td>0.0</td>\n",
       "      <td>0.0</td>\n",
       "      <td>211.096358</td>\n",
       "      <td>8.106</td>\n",
       "      <td>False</td>\n",
       "      <td>5</td>\n",
       "      <td>A</td>\n",
       "      <td>151315</td>\n",
       "      <td>32229.38</td>\n",
       "    </tr>\n",
       "  </tbody>\n",
       "</table>\n",
       "</div>"
      ],
      "text/plain": [
       "   Store        Date  Temperature  Fuel_Price  MarkDown1  MarkDown2  \\\n",
       "0      1  05/02/2010        42.31       2.572        0.0        0.0   \n",
       "1      1  05/02/2010        42.31       2.572        0.0        0.0   \n",
       "2      1  05/02/2010        42.31       2.572        0.0        0.0   \n",
       "3      1  05/02/2010        42.31       2.572        0.0        0.0   \n",
       "4      1  05/02/2010        42.31       2.572        0.0        0.0   \n",
       "\n",
       "   MarkDown3  MarkDown4  MarkDown5         CPI  Unemployment  IsHoliday  Dept  \\\n",
       "0        0.0        0.0        0.0  211.096358         8.106      False     1   \n",
       "1        0.0        0.0        0.0  211.096358         8.106      False     2   \n",
       "2        0.0        0.0        0.0  211.096358         8.106      False     3   \n",
       "3        0.0        0.0        0.0  211.096358         8.106      False     4   \n",
       "4        0.0        0.0        0.0  211.096358         8.106      False     5   \n",
       "\n",
       "  Type    Size  Weekly_Sales  \n",
       "0    A  151315      24924.50  \n",
       "1    A  151315      50605.27  \n",
       "2    A  151315      13740.12  \n",
       "3    A  151315      39954.04  \n",
       "4    A  151315      32229.38  "
      ]
     },
     "execution_count": 3,
     "metadata": {},
     "output_type": "execute_result"
    }
   ],
   "source": [
    "print('Shape of final dataframe: {}'.format(df.shape))\n",
    "df.head()"
   ]
  },
  {
   "cell_type": "code",
   "execution_count": 4,
   "metadata": {},
   "outputs": [],
   "source": [
    "#convert Date column to datetime\n",
    "df['Date'] = pd.to_datetime(df['Date'])\n",
    "\n",
    "#convert Store, Dept, and Type columns to category\n",
    "df['Store'] = df['Store'].astype('category')\n",
    "\n",
    "df['Dept'] = df['Dept'].astype('category')\n",
    "\n",
    "df['Type'] = df['Type'].astype('category')"
   ]
  },
  {
   "cell_type": "code",
   "execution_count": 5,
   "metadata": {},
   "outputs": [
    {
     "name": "stdout",
     "output_type": "stream",
     "text": [
      "<class 'pandas.core.frame.DataFrame'>\n",
      "RangeIndex: 418660 entries, 0 to 418659\n",
      "Data columns (total 20 columns):\n",
      " #   Column        Non-Null Count   Dtype         \n",
      "---  ------        --------------   -----         \n",
      " 0   Store         418660 non-null  category      \n",
      " 1   Date          418660 non-null  datetime64[ns]\n",
      " 2   Temperature   418660 non-null  float64       \n",
      " 3   Fuel_Price    418660 non-null  float64       \n",
      " 4   MarkDown1     418660 non-null  float64       \n",
      " 5   MarkDown2     418660 non-null  float64       \n",
      " 6   MarkDown3     418660 non-null  float64       \n",
      " 7   MarkDown4     418660 non-null  float64       \n",
      " 8   MarkDown5     418660 non-null  float64       \n",
      " 9   CPI           418660 non-null  float64       \n",
      " 10  Unemployment  418660 non-null  float64       \n",
      " 11  IsHoliday     418660 non-null  bool          \n",
      " 12  Dept          418660 non-null  category      \n",
      " 13  Type          418660 non-null  category      \n",
      " 14  Size          418660 non-null  int64         \n",
      " 15  Weekly_Sales  418660 non-null  float64       \n",
      " 16  Day           418660 non-null  category      \n",
      " 17  Week          418660 non-null  category      \n",
      " 18  Month         418660 non-null  category      \n",
      " 19  Year          418660 non-null  category      \n",
      "dtypes: bool(1), category(7), datetime64[ns](1), float64(10), int64(1)\n",
      "memory usage: 41.5 MB\n"
     ]
    }
   ],
   "source": [
    "#create separate features for Week, Month, and Year\n",
    "df['Day'] = df['Date'].dt.day\n",
    "df['Day'] = df['Day'].astype('category')\n",
    "\n",
    "df['Week'] = df['Date'].dt.week\n",
    "df['Week'] = df['Week'].astype('category')\n",
    "\n",
    "df['Month'] = df['Date'].dt.month\n",
    "df['Month'] = df['Month'].astype('category')\n",
    "\n",
    "df['Year'] = df['Date'].dt.year\n",
    "df['Year'] = df['Year'].astype('category')\n",
    "\n",
    "df.info()"
   ]
  },
  {
   "cell_type": "code",
   "execution_count": 6,
   "metadata": {},
   "outputs": [
    {
     "data": {
      "text/html": [
       "<div>\n",
       "<style scoped>\n",
       "    .dataframe tbody tr th:only-of-type {\n",
       "        vertical-align: middle;\n",
       "    }\n",
       "\n",
       "    .dataframe tbody tr th {\n",
       "        vertical-align: top;\n",
       "    }\n",
       "\n",
       "    .dataframe thead th {\n",
       "        text-align: right;\n",
       "    }\n",
       "</style>\n",
       "<table border=\"1\" class=\"dataframe\">\n",
       "  <thead>\n",
       "    <tr style=\"text-align: right;\">\n",
       "      <th></th>\n",
       "      <th>Store</th>\n",
       "      <th>Date</th>\n",
       "      <th>Temperature</th>\n",
       "      <th>Fuel_Price</th>\n",
       "      <th>MarkDown1</th>\n",
       "      <th>MarkDown2</th>\n",
       "      <th>MarkDown3</th>\n",
       "      <th>MarkDown4</th>\n",
       "      <th>MarkDown5</th>\n",
       "      <th>CPI</th>\n",
       "      <th>Unemployment</th>\n",
       "      <th>IsHoliday</th>\n",
       "      <th>Dept</th>\n",
       "      <th>Type</th>\n",
       "      <th>Size</th>\n",
       "      <th>Weekly_Sales</th>\n",
       "      <th>Day</th>\n",
       "      <th>Week</th>\n",
       "      <th>Month</th>\n",
       "      <th>Year</th>\n",
       "    </tr>\n",
       "  </thead>\n",
       "  <tbody>\n",
       "    <tr>\n",
       "      <th>0</th>\n",
       "      <td>1</td>\n",
       "      <td>2010-05-02</td>\n",
       "      <td>42.31</td>\n",
       "      <td>2.572</td>\n",
       "      <td>0.0</td>\n",
       "      <td>0.0</td>\n",
       "      <td>0.0</td>\n",
       "      <td>0.0</td>\n",
       "      <td>0.0</td>\n",
       "      <td>211.096358</td>\n",
       "      <td>8.106</td>\n",
       "      <td>False</td>\n",
       "      <td>1</td>\n",
       "      <td>A</td>\n",
       "      <td>151315</td>\n",
       "      <td>24924.50</td>\n",
       "      <td>2</td>\n",
       "      <td>17</td>\n",
       "      <td>5</td>\n",
       "      <td>2010</td>\n",
       "    </tr>\n",
       "    <tr>\n",
       "      <th>1</th>\n",
       "      <td>1</td>\n",
       "      <td>2010-05-02</td>\n",
       "      <td>42.31</td>\n",
       "      <td>2.572</td>\n",
       "      <td>0.0</td>\n",
       "      <td>0.0</td>\n",
       "      <td>0.0</td>\n",
       "      <td>0.0</td>\n",
       "      <td>0.0</td>\n",
       "      <td>211.096358</td>\n",
       "      <td>8.106</td>\n",
       "      <td>False</td>\n",
       "      <td>2</td>\n",
       "      <td>A</td>\n",
       "      <td>151315</td>\n",
       "      <td>50605.27</td>\n",
       "      <td>2</td>\n",
       "      <td>17</td>\n",
       "      <td>5</td>\n",
       "      <td>2010</td>\n",
       "    </tr>\n",
       "    <tr>\n",
       "      <th>2</th>\n",
       "      <td>1</td>\n",
       "      <td>2010-05-02</td>\n",
       "      <td>42.31</td>\n",
       "      <td>2.572</td>\n",
       "      <td>0.0</td>\n",
       "      <td>0.0</td>\n",
       "      <td>0.0</td>\n",
       "      <td>0.0</td>\n",
       "      <td>0.0</td>\n",
       "      <td>211.096358</td>\n",
       "      <td>8.106</td>\n",
       "      <td>False</td>\n",
       "      <td>3</td>\n",
       "      <td>A</td>\n",
       "      <td>151315</td>\n",
       "      <td>13740.12</td>\n",
       "      <td>2</td>\n",
       "      <td>17</td>\n",
       "      <td>5</td>\n",
       "      <td>2010</td>\n",
       "    </tr>\n",
       "    <tr>\n",
       "      <th>3</th>\n",
       "      <td>1</td>\n",
       "      <td>2010-05-02</td>\n",
       "      <td>42.31</td>\n",
       "      <td>2.572</td>\n",
       "      <td>0.0</td>\n",
       "      <td>0.0</td>\n",
       "      <td>0.0</td>\n",
       "      <td>0.0</td>\n",
       "      <td>0.0</td>\n",
       "      <td>211.096358</td>\n",
       "      <td>8.106</td>\n",
       "      <td>False</td>\n",
       "      <td>4</td>\n",
       "      <td>A</td>\n",
       "      <td>151315</td>\n",
       "      <td>39954.04</td>\n",
       "      <td>2</td>\n",
       "      <td>17</td>\n",
       "      <td>5</td>\n",
       "      <td>2010</td>\n",
       "    </tr>\n",
       "    <tr>\n",
       "      <th>4</th>\n",
       "      <td>1</td>\n",
       "      <td>2010-05-02</td>\n",
       "      <td>42.31</td>\n",
       "      <td>2.572</td>\n",
       "      <td>0.0</td>\n",
       "      <td>0.0</td>\n",
       "      <td>0.0</td>\n",
       "      <td>0.0</td>\n",
       "      <td>0.0</td>\n",
       "      <td>211.096358</td>\n",
       "      <td>8.106</td>\n",
       "      <td>False</td>\n",
       "      <td>5</td>\n",
       "      <td>A</td>\n",
       "      <td>151315</td>\n",
       "      <td>32229.38</td>\n",
       "      <td>2</td>\n",
       "      <td>17</td>\n",
       "      <td>5</td>\n",
       "      <td>2010</td>\n",
       "    </tr>\n",
       "  </tbody>\n",
       "</table>\n",
       "</div>"
      ],
      "text/plain": [
       "  Store       Date  Temperature  Fuel_Price  MarkDown1  MarkDown2  MarkDown3  \\\n",
       "0     1 2010-05-02        42.31       2.572        0.0        0.0        0.0   \n",
       "1     1 2010-05-02        42.31       2.572        0.0        0.0        0.0   \n",
       "2     1 2010-05-02        42.31       2.572        0.0        0.0        0.0   \n",
       "3     1 2010-05-02        42.31       2.572        0.0        0.0        0.0   \n",
       "4     1 2010-05-02        42.31       2.572        0.0        0.0        0.0   \n",
       "\n",
       "   MarkDown4  MarkDown5         CPI  Unemployment  IsHoliday Dept Type  \\\n",
       "0        0.0        0.0  211.096358         8.106      False    1    A   \n",
       "1        0.0        0.0  211.096358         8.106      False    2    A   \n",
       "2        0.0        0.0  211.096358         8.106      False    3    A   \n",
       "3        0.0        0.0  211.096358         8.106      False    4    A   \n",
       "4        0.0        0.0  211.096358         8.106      False    5    A   \n",
       "\n",
       "     Size  Weekly_Sales Day Week Month  Year  \n",
       "0  151315      24924.50   2   17     5  2010  \n",
       "1  151315      50605.27   2   17     5  2010  \n",
       "2  151315      13740.12   2   17     5  2010  \n",
       "3  151315      39954.04   2   17     5  2010  \n",
       "4  151315      32229.38   2   17     5  2010  "
      ]
     },
     "execution_count": 6,
     "metadata": {},
     "output_type": "execute_result"
    }
   ],
   "source": [
    "#save a copy of the full dataframe before we start changing features\n",
    "df_all = pd.DataFrame(df, columns=df.columns)\n",
    "df_all.head()"
   ]
  },
  {
   "cell_type": "code",
   "execution_count": 7,
   "metadata": {},
   "outputs": [],
   "source": [
    "#drop the date and day column\n",
    "df.drop(['Date', 'Day'], axis=1, inplace=True)"
   ]
  },
  {
   "cell_type": "code",
   "execution_count": 8,
   "metadata": {},
   "outputs": [],
   "source": [
    "mapping = {True:1, False:0}\n",
    "df['IsHoliday'] = df['IsHoliday'].map(mapping)\n",
    "df['IsHoliday'] = df['IsHoliday'].astype('category')"
   ]
  },
  {
   "cell_type": "code",
   "execution_count": 9,
   "metadata": {},
   "outputs": [],
   "source": [
    "df_dummies = pd.get_dummies(df)"
   ]
  },
  {
   "cell_type": "code",
   "execution_count": 10,
   "metadata": {},
   "outputs": [
    {
     "data": {
      "text/plain": [
       "Index(['Dept_77', 'Dept_78', 'Dept_79', 'Dept_80', 'Dept_81', 'Dept_82',\n",
       "       'Dept_83', 'Dept_85', 'Dept_87', 'Dept_90', 'Dept_91', 'Dept_92',\n",
       "       'Dept_93', 'Dept_94', 'Dept_95', 'Dept_96', 'Dept_97', 'Dept_98',\n",
       "       'Dept_99', 'Type_A', 'Type_B', 'Type_C', 'Week_1', 'Week_2', 'Week_3',\n",
       "       'Week_4', 'Week_5', 'Week_6', 'Week_7', 'Week_8', 'Week_9', 'Week_10',\n",
       "       'Week_11', 'Week_12', 'Week_13', 'Week_14', 'Week_15', 'Week_16',\n",
       "       'Week_17', 'Week_18', 'Week_19', 'Week_20', 'Week_21', 'Week_22',\n",
       "       'Week_23', 'Week_24', 'Week_25', 'Week_26', 'Week_27', 'Week_28',\n",
       "       'Week_29', 'Week_30', 'Week_31', 'Week_32', 'Week_33', 'Week_34',\n",
       "       'Week_35', 'Week_36', 'Week_37', 'Week_38', 'Week_39', 'Week_40',\n",
       "       'Week_41', 'Week_42', 'Week_43', 'Week_44', 'Week_45', 'Week_46',\n",
       "       'Week_47', 'Week_48', 'Week_49', 'Week_50', 'Week_51', 'Week_52',\n",
       "       'Month_1', 'Month_2', 'Month_3', 'Month_4', 'Month_5', 'Month_6',\n",
       "       'Month_7', 'Month_8', 'Month_9', 'Month_10', 'Month_11', 'Month_12',\n",
       "       'Year_2010', 'Year_2011', 'Year_2012'],\n",
       "      dtype='object')"
      ]
     },
     "execution_count": 10,
     "metadata": {},
     "output_type": "execute_result"
    }
   ],
   "source": [
    "df_dummies.columns[120:]"
   ]
  },
  {
   "cell_type": "code",
   "execution_count": 11,
   "metadata": {},
   "outputs": [],
   "source": [
    "X = df_dummies.drop('Weekly_Sales', axis=1).values\n",
    "y = df_dummies['Weekly_Sales'].values.reshape(-1, 1)"
   ]
  },
  {
   "cell_type": "code",
   "execution_count": 12,
   "metadata": {},
   "outputs": [],
   "source": [
    "X_train, X_test, y_train, y_test = train_test_split(X, y, test_size=0.25, random_state=0)"
   ]
  },
  {
   "cell_type": "code",
   "execution_count": 13,
   "metadata": {},
   "outputs": [],
   "source": [
    "reg = LinearRegression()"
   ]
  },
  {
   "cell_type": "code",
   "execution_count": 14,
   "metadata": {},
   "outputs": [
    {
     "data": {
      "text/plain": [
       "LinearRegression()"
      ]
     },
     "execution_count": 14,
     "metadata": {},
     "output_type": "execute_result"
    }
   ],
   "source": [
    "reg.fit(X_train, y_train)"
   ]
  },
  {
   "cell_type": "code",
   "execution_count": 15,
   "metadata": {},
   "outputs": [
    {
     "name": "stdout",
     "output_type": "stream",
     "text": [
      "R2: 0.670992212176619\n",
      "RMSE: 12947.252197022004\n"
     ]
    }
   ],
   "source": [
    "y_pred = reg.predict(X_test)\n",
    "\n",
    "print('R2: {}'.format(metrics.r2_score(y_test, y_pred)))\n",
    "print('RMSE: {}'.format(np.sqrt(metrics.mean_squared_error(y_test, y_pred))))"
   ]
  },
  {
   "cell_type": "markdown",
   "metadata": {},
   "source": [
    "Next, we'll try putting our data on a log scale to see if it improves model performance"
   ]
  },
  {
   "cell_type": "code",
   "execution_count": 16,
   "metadata": {},
   "outputs": [],
   "source": [
    "from sklearn.preprocessing import FunctionTransformer\n",
    "\n",
    "transformer = FunctionTransformer(np.log1p)\n",
    "transformer.fit(X)\n",
    "\n",
    "X_log = transformer.fit_transform(X)"
   ]
  },
  {
   "cell_type": "code",
   "execution_count": 17,
   "metadata": {},
   "outputs": [
    {
     "data": {
      "text/plain": [
       "array([4.23100000e+01, 2.57200000e+00, 0.00000000e+00, 0.00000000e+00,\n",
       "       0.00000000e+00, 0.00000000e+00, 0.00000000e+00, 2.11096358e+02,\n",
       "       8.10600000e+00, 1.51315000e+05])"
      ]
     },
     "execution_count": 17,
     "metadata": {},
     "output_type": "execute_result"
    }
   ],
   "source": [
    "X[0][:10]"
   ]
  },
  {
   "cell_type": "code",
   "execution_count": 18,
   "metadata": {},
   "outputs": [
    {
     "data": {
      "text/plain": [
       "array([ 3.76838356,  1.27312566,  0.        ,  0.        ,  0.        ,\n",
       "        0.        ,  0.        ,  5.35704069,  2.20893354, 11.92712564])"
      ]
     },
     "execution_count": 18,
     "metadata": {},
     "output_type": "execute_result"
    }
   ],
   "source": [
    "X_log[0][:10]"
   ]
  },
  {
   "cell_type": "code",
   "execution_count": 19,
   "metadata": {},
   "outputs": [],
   "source": [
    "X_train_log, X_test_log, y_train, y_test = train_test_split(X_log, y, test_size=0.25, random_state=0)"
   ]
  },
  {
   "cell_type": "code",
   "execution_count": 20,
   "metadata": {},
   "outputs": [],
   "source": [
    "reg = LinearRegression()"
   ]
  },
  {
   "cell_type": "code",
   "execution_count": 21,
   "metadata": {},
   "outputs": [
    {
     "data": {
      "text/plain": [
       "LinearRegression()"
      ]
     },
     "execution_count": 21,
     "metadata": {},
     "output_type": "execute_result"
    }
   ],
   "source": [
    "reg.fit(X_train_log, y_train)"
   ]
  },
  {
   "cell_type": "code",
   "execution_count": 22,
   "metadata": {},
   "outputs": [
    {
     "name": "stdout",
     "output_type": "stream",
     "text": [
      "R2 with log scaled data: 0.6710499077295844\n",
      "RMSE with log scaled data: 12946.116917472\n"
     ]
    }
   ],
   "source": [
    "y_pred = reg.predict(X_test_log)\n",
    "\n",
    "print('R2 with log scaled data: {}'.format(metrics.r2_score(y_test, y_pred)))\n",
    "print('RMSE with log scaled data: {}'.format(np.sqrt(metrics.mean_squared_error(y_test, y_pred))))"
   ]
  },
  {
   "cell_type": "markdown",
   "metadata": {},
   "source": [
    "Now we'll try standard scaler instead"
   ]
  },
  {
   "cell_type": "code",
   "execution_count": 23,
   "metadata": {},
   "outputs": [],
   "source": [
    "#use standard scaler on numeric columns\n",
    "df[['Temperature', 'Fuel_Price', 'MarkDown1', 'MarkDown2', 'MarkDown3', 'MarkDown4', 'MarkDown5', 'CPI', 'Unemployment', 'Size']] = StandardScaler().fit_transform(df[['Temperature', 'Fuel_Price', 'MarkDown1', 'MarkDown2', 'MarkDown3', 'MarkDown4', 'MarkDown5', 'CPI', 'Unemployment', 'Size']])"
   ]
  },
  {
   "cell_type": "code",
   "execution_count": 24,
   "metadata": {},
   "outputs": [
    {
     "data": {
      "text/html": [
       "<div>\n",
       "<style scoped>\n",
       "    .dataframe tbody tr th:only-of-type {\n",
       "        vertical-align: middle;\n",
       "    }\n",
       "\n",
       "    .dataframe tbody tr th {\n",
       "        vertical-align: top;\n",
       "    }\n",
       "\n",
       "    .dataframe thead th {\n",
       "        text-align: right;\n",
       "    }\n",
       "</style>\n",
       "<table border=\"1\" class=\"dataframe\">\n",
       "  <thead>\n",
       "    <tr style=\"text-align: right;\">\n",
       "      <th></th>\n",
       "      <th>Store</th>\n",
       "      <th>Temperature</th>\n",
       "      <th>Fuel_Price</th>\n",
       "      <th>MarkDown1</th>\n",
       "      <th>MarkDown2</th>\n",
       "      <th>MarkDown3</th>\n",
       "      <th>MarkDown4</th>\n",
       "      <th>MarkDown5</th>\n",
       "      <th>CPI</th>\n",
       "      <th>Unemployment</th>\n",
       "      <th>IsHoliday</th>\n",
       "      <th>Dept</th>\n",
       "      <th>Type</th>\n",
       "      <th>Size</th>\n",
       "      <th>Weekly_Sales</th>\n",
       "      <th>Week</th>\n",
       "      <th>Month</th>\n",
       "      <th>Year</th>\n",
       "    </tr>\n",
       "  </thead>\n",
       "  <tbody>\n",
       "    <tr>\n",
       "      <th>0</th>\n",
       "      <td>1</td>\n",
       "      <td>-0.962699</td>\n",
       "      <td>-1.717612</td>\n",
       "      <td>-0.425322</td>\n",
       "      <td>-0.173453</td>\n",
       "      <td>-0.084858</td>\n",
       "      <td>-0.276858</td>\n",
       "      <td>-0.39326</td>\n",
       "      <td>1.018806</td>\n",
       "      <td>0.077545</td>\n",
       "      <td>0</td>\n",
       "      <td>1</td>\n",
       "      <td>A</td>\n",
       "      <td>0.239629</td>\n",
       "      <td>24924.50</td>\n",
       "      <td>17</td>\n",
       "      <td>5</td>\n",
       "      <td>2010</td>\n",
       "    </tr>\n",
       "    <tr>\n",
       "      <th>1</th>\n",
       "      <td>1</td>\n",
       "      <td>-0.962699</td>\n",
       "      <td>-1.717612</td>\n",
       "      <td>-0.425322</td>\n",
       "      <td>-0.173453</td>\n",
       "      <td>-0.084858</td>\n",
       "      <td>-0.276858</td>\n",
       "      <td>-0.39326</td>\n",
       "      <td>1.018806</td>\n",
       "      <td>0.077545</td>\n",
       "      <td>0</td>\n",
       "      <td>2</td>\n",
       "      <td>A</td>\n",
       "      <td>0.239629</td>\n",
       "      <td>50605.27</td>\n",
       "      <td>17</td>\n",
       "      <td>5</td>\n",
       "      <td>2010</td>\n",
       "    </tr>\n",
       "    <tr>\n",
       "      <th>2</th>\n",
       "      <td>1</td>\n",
       "      <td>-0.962699</td>\n",
       "      <td>-1.717612</td>\n",
       "      <td>-0.425322</td>\n",
       "      <td>-0.173453</td>\n",
       "      <td>-0.084858</td>\n",
       "      <td>-0.276858</td>\n",
       "      <td>-0.39326</td>\n",
       "      <td>1.018806</td>\n",
       "      <td>0.077545</td>\n",
       "      <td>0</td>\n",
       "      <td>3</td>\n",
       "      <td>A</td>\n",
       "      <td>0.239629</td>\n",
       "      <td>13740.12</td>\n",
       "      <td>17</td>\n",
       "      <td>5</td>\n",
       "      <td>2010</td>\n",
       "    </tr>\n",
       "    <tr>\n",
       "      <th>3</th>\n",
       "      <td>1</td>\n",
       "      <td>-0.962699</td>\n",
       "      <td>-1.717612</td>\n",
       "      <td>-0.425322</td>\n",
       "      <td>-0.173453</td>\n",
       "      <td>-0.084858</td>\n",
       "      <td>-0.276858</td>\n",
       "      <td>-0.39326</td>\n",
       "      <td>1.018806</td>\n",
       "      <td>0.077545</td>\n",
       "      <td>0</td>\n",
       "      <td>4</td>\n",
       "      <td>A</td>\n",
       "      <td>0.239629</td>\n",
       "      <td>39954.04</td>\n",
       "      <td>17</td>\n",
       "      <td>5</td>\n",
       "      <td>2010</td>\n",
       "    </tr>\n",
       "    <tr>\n",
       "      <th>4</th>\n",
       "      <td>1</td>\n",
       "      <td>-0.962699</td>\n",
       "      <td>-1.717612</td>\n",
       "      <td>-0.425322</td>\n",
       "      <td>-0.173453</td>\n",
       "      <td>-0.084858</td>\n",
       "      <td>-0.276858</td>\n",
       "      <td>-0.39326</td>\n",
       "      <td>1.018806</td>\n",
       "      <td>0.077545</td>\n",
       "      <td>0</td>\n",
       "      <td>5</td>\n",
       "      <td>A</td>\n",
       "      <td>0.239629</td>\n",
       "      <td>32229.38</td>\n",
       "      <td>17</td>\n",
       "      <td>5</td>\n",
       "      <td>2010</td>\n",
       "    </tr>\n",
       "  </tbody>\n",
       "</table>\n",
       "</div>"
      ],
      "text/plain": [
       "  Store  Temperature  Fuel_Price  MarkDown1  MarkDown2  MarkDown3  MarkDown4  \\\n",
       "0     1    -0.962699   -1.717612  -0.425322  -0.173453  -0.084858  -0.276858   \n",
       "1     1    -0.962699   -1.717612  -0.425322  -0.173453  -0.084858  -0.276858   \n",
       "2     1    -0.962699   -1.717612  -0.425322  -0.173453  -0.084858  -0.276858   \n",
       "3     1    -0.962699   -1.717612  -0.425322  -0.173453  -0.084858  -0.276858   \n",
       "4     1    -0.962699   -1.717612  -0.425322  -0.173453  -0.084858  -0.276858   \n",
       "\n",
       "   MarkDown5       CPI  Unemployment IsHoliday Dept Type      Size  \\\n",
       "0   -0.39326  1.018806      0.077545         0    1    A  0.239629   \n",
       "1   -0.39326  1.018806      0.077545         0    2    A  0.239629   \n",
       "2   -0.39326  1.018806      0.077545         0    3    A  0.239629   \n",
       "3   -0.39326  1.018806      0.077545         0    4    A  0.239629   \n",
       "4   -0.39326  1.018806      0.077545         0    5    A  0.239629   \n",
       "\n",
       "   Weekly_Sales Week Month  Year  \n",
       "0      24924.50   17     5  2010  \n",
       "1      50605.27   17     5  2010  \n",
       "2      13740.12   17     5  2010  \n",
       "3      39954.04   17     5  2010  \n",
       "4      32229.38   17     5  2010  "
      ]
     },
     "execution_count": 24,
     "metadata": {},
     "output_type": "execute_result"
    }
   ],
   "source": [
    "df.head()"
   ]
  },
  {
   "cell_type": "code",
   "execution_count": 25,
   "metadata": {},
   "outputs": [],
   "source": [
    "df_dummies = pd.get_dummies(df)"
   ]
  },
  {
   "cell_type": "code",
   "execution_count": 26,
   "metadata": {},
   "outputs": [],
   "source": [
    "X = df_dummies.drop('Weekly_Sales', axis=1).values\n",
    "y = df_dummies['Weekly_Sales'].values.reshape(-1, 1)"
   ]
  },
  {
   "cell_type": "code",
   "execution_count": 27,
   "metadata": {},
   "outputs": [],
   "source": [
    "X_train, X_test, y_train, y_test = train_test_split(X, y, test_size=0.25, random_state=0)"
   ]
  },
  {
   "cell_type": "code",
   "execution_count": 28,
   "metadata": {},
   "outputs": [],
   "source": [
    "reg = LinearRegression()"
   ]
  },
  {
   "cell_type": "code",
   "execution_count": 29,
   "metadata": {},
   "outputs": [
    {
     "data": {
      "text/plain": [
       "LinearRegression()"
      ]
     },
     "execution_count": 29,
     "metadata": {},
     "output_type": "execute_result"
    }
   ],
   "source": [
    "reg.fit(X_train, y_train)"
   ]
  },
  {
   "cell_type": "code",
   "execution_count": 30,
   "metadata": {},
   "outputs": [
    {
     "name": "stdout",
     "output_type": "stream",
     "text": [
      "R2 on scaled test data: 0.6709924421320985\n",
      "R2 on scaled training data: 0.6605720223116988\n"
     ]
    }
   ],
   "source": [
    "print('R2 on scaled test data: {}'.format(reg.score(X_test, y_test)))\n",
    "print('R2 on scaled training data: {}'.format(reg.score(X_train, y_train)))"
   ]
  },
  {
   "cell_type": "markdown",
   "metadata": {},
   "source": [
    "It turns out that scaling has a minimal effect on model performance. In addition, the performance on training and test data is similar, which suggests that our model is probably not overfitting. Nonetheless, we can check use L1 and L2 regularization to prevent overfitting, just in case."
   ]
  },
  {
   "cell_type": "code",
   "execution_count": 31,
   "metadata": {},
   "outputs": [],
   "source": [
    "lasso = Lasso(alpha=0.1)"
   ]
  },
  {
   "cell_type": "code",
   "execution_count": 32,
   "metadata": {},
   "outputs": [
    {
     "name": "stderr",
     "output_type": "stream",
     "text": [
      "C:\\Users\\User\\anaconda3\\lib\\site-packages\\sklearn\\linear_model\\_coordinate_descent.py:529: ConvergenceWarning: Objective did not converge. You might want to increase the number of iterations. Duality gap: 19716689489316.14, tolerance: 16290747583.787714\n",
      "  model = cd_fast.enet_coordinate_descent(\n"
     ]
    },
    {
     "data": {
      "text/plain": [
       "Lasso(alpha=0.1)"
      ]
     },
     "execution_count": 32,
     "metadata": {},
     "output_type": "execute_result"
    }
   ],
   "source": [
    "lasso.fit(X_train, y_train)"
   ]
  },
  {
   "cell_type": "code",
   "execution_count": 33,
   "metadata": {},
   "outputs": [
    {
     "name": "stdout",
     "output_type": "stream",
     "text": [
      "R2 using L1 regularization on scaled test data: 0.6709989797929024\n",
      "R2 using L1 regularization on scaled training data: 0.6605644472650358\n"
     ]
    }
   ],
   "source": [
    "print('R2 using L1 regularization on scaled test data: {}'.format(lasso.score(X_test, y_test)))\n",
    "print('R2 using L1 regularization on scaled training data: {}'.format(lasso.score(X_train, y_train)))"
   ]
  },
  {
   "cell_type": "code",
   "execution_count": 34,
   "metadata": {},
   "outputs": [
    {
     "data": {
      "text/plain": [
       "(208,)"
      ]
     },
     "execution_count": 34,
     "metadata": {},
     "output_type": "execute_result"
    }
   ],
   "source": [
    "lasso.coef_.shape"
   ]
  },
  {
   "cell_type": "code",
   "execution_count": 35,
   "metadata": {},
   "outputs": [
    {
     "data": {
      "text/plain": [
       "Index(['Temperature', 'Fuel_Price', 'MarkDown1', 'MarkDown2', 'MarkDown3',\n",
       "       'MarkDown4', 'MarkDown5', 'CPI', 'Unemployment', 'Size',\n",
       "       ...\n",
       "       'Month_6', 'Month_7', 'Month_8', 'Month_9', 'Month_10', 'Month_11',\n",
       "       'Month_12', 'Year_2010', 'Year_2011', 'Year_2012'],\n",
       "      dtype='object', length=208)"
      ]
     },
     "execution_count": 35,
     "metadata": {},
     "output_type": "execute_result"
    }
   ],
   "source": [
    "df_dummies.drop('Weekly_Sales', axis=1).columns"
   ]
  },
  {
   "cell_type": "code",
   "execution_count": 36,
   "metadata": {},
   "outputs": [
    {
     "data": {
      "text/html": [
       "<div>\n",
       "<style scoped>\n",
       "    .dataframe tbody tr th:only-of-type {\n",
       "        vertical-align: middle;\n",
       "    }\n",
       "\n",
       "    .dataframe tbody tr th {\n",
       "        vertical-align: top;\n",
       "    }\n",
       "\n",
       "    .dataframe thead th {\n",
       "        text-align: right;\n",
       "    }\n",
       "</style>\n",
       "<table border=\"1\" class=\"dataframe\">\n",
       "  <thead>\n",
       "    <tr style=\"text-align: right;\">\n",
       "      <th></th>\n",
       "      <th>col1</th>\n",
       "      <th>col2</th>\n",
       "    </tr>\n",
       "  </thead>\n",
       "  <tbody>\n",
       "    <tr>\n",
       "      <th>130</th>\n",
       "      <td>63311.334210</td>\n",
       "      <td>Dept_92</td>\n",
       "    </tr>\n",
       "    <tr>\n",
       "      <th>133</th>\n",
       "      <td>58096.803884</td>\n",
       "      <td>Dept_95</td>\n",
       "    </tr>\n",
       "    <tr>\n",
       "      <th>93</th>\n",
       "      <td>49251.529431</td>\n",
       "      <td>Dept_38</td>\n",
       "    </tr>\n",
       "    <tr>\n",
       "      <th>117</th>\n",
       "      <td>38462.901153</td>\n",
       "      <td>Dept_72</td>\n",
       "    </tr>\n",
       "    <tr>\n",
       "      <th>114</th>\n",
       "      <td>34517.610033</td>\n",
       "      <td>Dept_65</td>\n",
       "    </tr>\n",
       "    <tr>\n",
       "      <th>...</th>\n",
       "      <td>...</td>\n",
       "      <td>...</td>\n",
       "    </tr>\n",
       "    <tr>\n",
       "      <th>105</th>\n",
       "      <td>-15977.561212</td>\n",
       "      <td>Dept_50</td>\n",
       "    </tr>\n",
       "    <tr>\n",
       "      <th>103</th>\n",
       "      <td>-16316.519286</td>\n",
       "      <td>Dept_48</td>\n",
       "    </tr>\n",
       "    <tr>\n",
       "      <th>119</th>\n",
       "      <td>-17460.519470</td>\n",
       "      <td>Dept_77</td>\n",
       "    </tr>\n",
       "    <tr>\n",
       "      <th>137</th>\n",
       "      <td>-17848.331029</td>\n",
       "      <td>Dept_99</td>\n",
       "    </tr>\n",
       "    <tr>\n",
       "      <th>94</th>\n",
       "      <td>-18018.830713</td>\n",
       "      <td>Dept_39</td>\n",
       "    </tr>\n",
       "  </tbody>\n",
       "</table>\n",
       "<p>208 rows × 2 columns</p>\n",
       "</div>"
      ],
      "text/plain": [
       "             col1     col2\n",
       "130  63311.334210  Dept_92\n",
       "133  58096.803884  Dept_95\n",
       "93   49251.529431  Dept_38\n",
       "117  38462.901153  Dept_72\n",
       "114  34517.610033  Dept_65\n",
       "..            ...      ...\n",
       "105 -15977.561212  Dept_50\n",
       "103 -16316.519286  Dept_48\n",
       "119 -17460.519470  Dept_77\n",
       "137 -17848.331029  Dept_99\n",
       "94  -18018.830713  Dept_39\n",
       "\n",
       "[208 rows x 2 columns]"
      ]
     },
     "execution_count": 36,
     "metadata": {},
     "output_type": "execute_result"
    }
   ],
   "source": [
    "pd.DataFrame({'col1':lasso.coef_, 'col2':df_dummies.drop('Weekly_Sales', axis=1).columns}).sort_values(by='col1', ascending=False)"
   ]
  },
  {
   "cell_type": "markdown",
   "metadata": {},
   "source": [
    "Lasso reduces all coefficients to 0 except for size, which as we saw before, had the highest correlation to the target"
   ]
  },
  {
   "cell_type": "code",
   "execution_count": 37,
   "metadata": {},
   "outputs": [],
   "source": [
    "ridge = Ridge(alpha=0.1)"
   ]
  },
  {
   "cell_type": "code",
   "execution_count": 38,
   "metadata": {},
   "outputs": [
    {
     "data": {
      "text/plain": [
       "Ridge(alpha=0.1)"
      ]
     },
     "execution_count": 38,
     "metadata": {},
     "output_type": "execute_result"
    }
   ],
   "source": [
    "ridge.fit(X_train, y_train)"
   ]
  },
  {
   "cell_type": "code",
   "execution_count": 39,
   "metadata": {},
   "outputs": [
    {
     "name": "stdout",
     "output_type": "stream",
     "text": [
      "R2 using L2 regularization on scaled test data: 0.6709926783074811\n",
      "R2 using L2 regularization on scaled training data: 0.6605719832399239\n"
     ]
    }
   ],
   "source": [
    "print('R2 using L2 regularization on scaled test data: {}'.format(ridge.score(X_test, y_test)))\n",
    "print('R2 using L2 regularization on scaled training data: {}'.format(ridge.score(X_train, y_train)))"
   ]
  },
  {
   "cell_type": "code",
   "execution_count": 40,
   "metadata": {},
   "outputs": [
    {
     "data": {
      "text/plain": [
       "(313995, 208)"
      ]
     },
     "execution_count": 40,
     "metadata": {},
     "output_type": "execute_result"
    }
   ],
   "source": [
    "X_train.shape"
   ]
  },
  {
   "cell_type": "code",
   "execution_count": 41,
   "metadata": {},
   "outputs": [
    {
     "data": {
      "text/html": [
       "<div>\n",
       "<style scoped>\n",
       "    .dataframe tbody tr th:only-of-type {\n",
       "        vertical-align: middle;\n",
       "    }\n",
       "\n",
       "    .dataframe tbody tr th {\n",
       "        vertical-align: top;\n",
       "    }\n",
       "\n",
       "    .dataframe thead th {\n",
       "        text-align: right;\n",
       "    }\n",
       "</style>\n",
       "<table border=\"1\" class=\"dataframe\">\n",
       "  <thead>\n",
       "    <tr style=\"text-align: right;\">\n",
       "      <th></th>\n",
       "      <th>col1</th>\n",
       "      <th>col2</th>\n",
       "    </tr>\n",
       "  </thead>\n",
       "  <tbody>\n",
       "    <tr>\n",
       "      <th>130</th>\n",
       "      <td>62394.331412</td>\n",
       "      <td>Dept_92</td>\n",
       "    </tr>\n",
       "    <tr>\n",
       "      <th>133</th>\n",
       "      <td>57179.897184</td>\n",
       "      <td>Dept_95</td>\n",
       "    </tr>\n",
       "    <tr>\n",
       "      <th>93</th>\n",
       "      <td>48336.141313</td>\n",
       "      <td>Dept_38</td>\n",
       "    </tr>\n",
       "    <tr>\n",
       "      <th>117</th>\n",
       "      <td>37546.385021</td>\n",
       "      <td>Dept_72</td>\n",
       "    </tr>\n",
       "    <tr>\n",
       "      <th>114</th>\n",
       "      <td>33871.066697</td>\n",
       "      <td>Dept_65</td>\n",
       "    </tr>\n",
       "    <tr>\n",
       "      <th>...</th>\n",
       "      <td>...</td>\n",
       "      <td>...</td>\n",
       "    </tr>\n",
       "    <tr>\n",
       "      <th>105</th>\n",
       "      <td>-16927.225594</td>\n",
       "      <td>Dept_50</td>\n",
       "    </tr>\n",
       "    <tr>\n",
       "      <th>103</th>\n",
       "      <td>-17263.976588</td>\n",
       "      <td>Dept_48</td>\n",
       "    </tr>\n",
       "    <tr>\n",
       "      <th>119</th>\n",
       "      <td>-18669.802476</td>\n",
       "      <td>Dept_77</td>\n",
       "    </tr>\n",
       "    <tr>\n",
       "      <th>137</th>\n",
       "      <td>-18827.134027</td>\n",
       "      <td>Dept_99</td>\n",
       "    </tr>\n",
       "    <tr>\n",
       "      <th>94</th>\n",
       "      <td>-21836.519955</td>\n",
       "      <td>Dept_39</td>\n",
       "    </tr>\n",
       "  </tbody>\n",
       "</table>\n",
       "<p>208 rows × 2 columns</p>\n",
       "</div>"
      ],
      "text/plain": [
       "             col1     col2\n",
       "130  62394.331412  Dept_92\n",
       "133  57179.897184  Dept_95\n",
       "93   48336.141313  Dept_38\n",
       "117  37546.385021  Dept_72\n",
       "114  33871.066697  Dept_65\n",
       "..            ...      ...\n",
       "105 -16927.225594  Dept_50\n",
       "103 -17263.976588  Dept_48\n",
       "119 -18669.802476  Dept_77\n",
       "137 -18827.134027  Dept_99\n",
       "94  -21836.519955  Dept_39\n",
       "\n",
       "[208 rows x 2 columns]"
      ]
     },
     "execution_count": 41,
     "metadata": {},
     "output_type": "execute_result"
    }
   ],
   "source": [
    "pd.DataFrame({'col1':ridge.coef_.reshape(208,), 'col2':df_dummies.drop('Weekly_Sales', axis=1).columns}).sort_values(by='col1', ascending=False)"
   ]
  },
  {
   "cell_type": "markdown",
   "metadata": {},
   "source": [
    "As with KNN, the most significant columns are department numbers"
   ]
  },
  {
   "cell_type": "markdown",
   "metadata": {},
   "source": [
    "Finally, let's see if we reduce the dimensionality of the data and maintain similar model performance. We'll try the following:\n",
    "\n",
    "1. only use months and year\n",
    "2. use month, year, and week of month\n",
    "3. use only the top 10 most significant departments based on largest coefficients"
   ]
  },
  {
   "cell_type": "code",
   "execution_count": 42,
   "metadata": {},
   "outputs": [
    {
     "data": {
      "text/plain": [
       "(418660, 157)"
      ]
     },
     "execution_count": 42,
     "metadata": {},
     "output_type": "execute_result"
    }
   ],
   "source": [
    "#remove week columns, so that the only date information is month and year\n",
    "list_of_week_columns = list(df_dummies.columns[df_dummies.columns.str.contains('Week_')])\n",
    "df_dummies_no_weeks = df_dummies.drop(list_of_week_columns, axis=1)\n",
    "df_dummies_no_weeks.shape"
   ]
  },
  {
   "cell_type": "code",
   "execution_count": 43,
   "metadata": {},
   "outputs": [],
   "source": [
    "X = df_dummies_no_weeks.drop('Weekly_Sales', axis=1).values\n",
    "y = df_dummies_no_weeks['Weekly_Sales'].values.reshape(-1, 1)"
   ]
  },
  {
   "cell_type": "code",
   "execution_count": 44,
   "metadata": {},
   "outputs": [],
   "source": [
    "X_train, X_test, y_train, y_test = train_test_split(X, y, test_size=0.25, random_state=0)"
   ]
  },
  {
   "cell_type": "code",
   "execution_count": 45,
   "metadata": {},
   "outputs": [],
   "source": [
    "ridge = Ridge(alpha=0.1)"
   ]
  },
  {
   "cell_type": "code",
   "execution_count": 46,
   "metadata": {},
   "outputs": [
    {
     "data": {
      "text/plain": [
       "Ridge(alpha=0.1)"
      ]
     },
     "execution_count": 46,
     "metadata": {},
     "output_type": "execute_result"
    }
   ],
   "source": [
    "ridge.fit(X_train, y_train)"
   ]
  },
  {
   "cell_type": "code",
   "execution_count": 47,
   "metadata": {},
   "outputs": [
    {
     "name": "stdout",
     "output_type": "stream",
     "text": [
      "R2 using L2 regularization on scaled test data, no weeks: 0.6678331249112066\n",
      "RMSE using L2 regularization on scaled test data, no weeks: 13009.262561169746\n"
     ]
    }
   ],
   "source": [
    "y_pred = ridge.predict(X_test)\n",
    "\n",
    "print('R2 using L2 regularization on scaled test data, no weeks: {}'.format(metrics.r2_score(y_test, y_pred)))\n",
    "print('RMSE using L2 regularization on scaled test data, no weeks: {}'.format(np.sqrt(metrics.mean_squared_error(y_test, y_pred))))"
   ]
  },
  {
   "cell_type": "markdown",
   "metadata": {},
   "source": [
    "Removing the week information (52 features) results in only slightly worse model performance. We can add a new column, week_of_month, that indicates whether a week was the first, second, etc. week in a month. This will add only 5 features, instead of 52, and makes our data less redundant."
   ]
  },
  {
   "cell_type": "code",
   "execution_count": 48,
   "metadata": {},
   "outputs": [],
   "source": [
    "df_all['Day'] = df_all['Day'].astype('int')\n",
    "\n",
    "week_of_month_list = []\n",
    "\n",
    "for lab, row in df_all.iterrows():\n",
    "    if (row['Day'] >= 1) & (row['Day'] <= 7):\n",
    "        week_of_month_list.append('First Week')\n",
    "    elif (row['Day'] >= 8) & (row['Day'] <= 14):\n",
    "        week_of_month_list.append('Second Week')\n",
    "    elif (row['Day'] >= 15) & (row['Day'] <= 21):\n",
    "        week_of_month_list.append('Third Week')\n",
    "    elif (row['Day'] >= 22) & (row['Day'] <= 28):\n",
    "        week_of_month_list.append('Fourth Week')\n",
    "    elif row['Day'] >= 29:\n",
    "        week_of_month_list.append('Fifth Week')\n"
   ]
  },
  {
   "cell_type": "code",
   "execution_count": 49,
   "metadata": {},
   "outputs": [],
   "source": [
    "df['Week of Month'] = week_of_month_list"
   ]
  },
  {
   "cell_type": "code",
   "execution_count": 50,
   "metadata": {},
   "outputs": [
    {
     "data": {
      "text/html": [
       "<div>\n",
       "<style scoped>\n",
       "    .dataframe tbody tr th:only-of-type {\n",
       "        vertical-align: middle;\n",
       "    }\n",
       "\n",
       "    .dataframe tbody tr th {\n",
       "        vertical-align: top;\n",
       "    }\n",
       "\n",
       "    .dataframe thead th {\n",
       "        text-align: right;\n",
       "    }\n",
       "</style>\n",
       "<table border=\"1\" class=\"dataframe\">\n",
       "  <thead>\n",
       "    <tr style=\"text-align: right;\">\n",
       "      <th></th>\n",
       "      <th>Store</th>\n",
       "      <th>Temperature</th>\n",
       "      <th>Fuel_Price</th>\n",
       "      <th>MarkDown1</th>\n",
       "      <th>MarkDown2</th>\n",
       "      <th>MarkDown3</th>\n",
       "      <th>MarkDown4</th>\n",
       "      <th>MarkDown5</th>\n",
       "      <th>CPI</th>\n",
       "      <th>Unemployment</th>\n",
       "      <th>IsHoliday</th>\n",
       "      <th>Dept</th>\n",
       "      <th>Type</th>\n",
       "      <th>Size</th>\n",
       "      <th>Weekly_Sales</th>\n",
       "      <th>Week</th>\n",
       "      <th>Month</th>\n",
       "      <th>Year</th>\n",
       "      <th>Week of Month</th>\n",
       "    </tr>\n",
       "  </thead>\n",
       "  <tbody>\n",
       "    <tr>\n",
       "      <th>0</th>\n",
       "      <td>1</td>\n",
       "      <td>-0.962699</td>\n",
       "      <td>-1.717612</td>\n",
       "      <td>-0.425322</td>\n",
       "      <td>-0.173453</td>\n",
       "      <td>-0.084858</td>\n",
       "      <td>-0.276858</td>\n",
       "      <td>-0.39326</td>\n",
       "      <td>1.018806</td>\n",
       "      <td>0.077545</td>\n",
       "      <td>0</td>\n",
       "      <td>1</td>\n",
       "      <td>A</td>\n",
       "      <td>0.239629</td>\n",
       "      <td>24924.50</td>\n",
       "      <td>17</td>\n",
       "      <td>5</td>\n",
       "      <td>2010</td>\n",
       "      <td>First Week</td>\n",
       "    </tr>\n",
       "    <tr>\n",
       "      <th>1</th>\n",
       "      <td>1</td>\n",
       "      <td>-0.962699</td>\n",
       "      <td>-1.717612</td>\n",
       "      <td>-0.425322</td>\n",
       "      <td>-0.173453</td>\n",
       "      <td>-0.084858</td>\n",
       "      <td>-0.276858</td>\n",
       "      <td>-0.39326</td>\n",
       "      <td>1.018806</td>\n",
       "      <td>0.077545</td>\n",
       "      <td>0</td>\n",
       "      <td>2</td>\n",
       "      <td>A</td>\n",
       "      <td>0.239629</td>\n",
       "      <td>50605.27</td>\n",
       "      <td>17</td>\n",
       "      <td>5</td>\n",
       "      <td>2010</td>\n",
       "      <td>First Week</td>\n",
       "    </tr>\n",
       "    <tr>\n",
       "      <th>2</th>\n",
       "      <td>1</td>\n",
       "      <td>-0.962699</td>\n",
       "      <td>-1.717612</td>\n",
       "      <td>-0.425322</td>\n",
       "      <td>-0.173453</td>\n",
       "      <td>-0.084858</td>\n",
       "      <td>-0.276858</td>\n",
       "      <td>-0.39326</td>\n",
       "      <td>1.018806</td>\n",
       "      <td>0.077545</td>\n",
       "      <td>0</td>\n",
       "      <td>3</td>\n",
       "      <td>A</td>\n",
       "      <td>0.239629</td>\n",
       "      <td>13740.12</td>\n",
       "      <td>17</td>\n",
       "      <td>5</td>\n",
       "      <td>2010</td>\n",
       "      <td>First Week</td>\n",
       "    </tr>\n",
       "    <tr>\n",
       "      <th>3</th>\n",
       "      <td>1</td>\n",
       "      <td>-0.962699</td>\n",
       "      <td>-1.717612</td>\n",
       "      <td>-0.425322</td>\n",
       "      <td>-0.173453</td>\n",
       "      <td>-0.084858</td>\n",
       "      <td>-0.276858</td>\n",
       "      <td>-0.39326</td>\n",
       "      <td>1.018806</td>\n",
       "      <td>0.077545</td>\n",
       "      <td>0</td>\n",
       "      <td>4</td>\n",
       "      <td>A</td>\n",
       "      <td>0.239629</td>\n",
       "      <td>39954.04</td>\n",
       "      <td>17</td>\n",
       "      <td>5</td>\n",
       "      <td>2010</td>\n",
       "      <td>First Week</td>\n",
       "    </tr>\n",
       "    <tr>\n",
       "      <th>4</th>\n",
       "      <td>1</td>\n",
       "      <td>-0.962699</td>\n",
       "      <td>-1.717612</td>\n",
       "      <td>-0.425322</td>\n",
       "      <td>-0.173453</td>\n",
       "      <td>-0.084858</td>\n",
       "      <td>-0.276858</td>\n",
       "      <td>-0.39326</td>\n",
       "      <td>1.018806</td>\n",
       "      <td>0.077545</td>\n",
       "      <td>0</td>\n",
       "      <td>5</td>\n",
       "      <td>A</td>\n",
       "      <td>0.239629</td>\n",
       "      <td>32229.38</td>\n",
       "      <td>17</td>\n",
       "      <td>5</td>\n",
       "      <td>2010</td>\n",
       "      <td>First Week</td>\n",
       "    </tr>\n",
       "  </tbody>\n",
       "</table>\n",
       "</div>"
      ],
      "text/plain": [
       "  Store  Temperature  Fuel_Price  MarkDown1  MarkDown2  MarkDown3  MarkDown4  \\\n",
       "0     1    -0.962699   -1.717612  -0.425322  -0.173453  -0.084858  -0.276858   \n",
       "1     1    -0.962699   -1.717612  -0.425322  -0.173453  -0.084858  -0.276858   \n",
       "2     1    -0.962699   -1.717612  -0.425322  -0.173453  -0.084858  -0.276858   \n",
       "3     1    -0.962699   -1.717612  -0.425322  -0.173453  -0.084858  -0.276858   \n",
       "4     1    -0.962699   -1.717612  -0.425322  -0.173453  -0.084858  -0.276858   \n",
       "\n",
       "   MarkDown5       CPI  Unemployment IsHoliday Dept Type      Size  \\\n",
       "0   -0.39326  1.018806      0.077545         0    1    A  0.239629   \n",
       "1   -0.39326  1.018806      0.077545         0    2    A  0.239629   \n",
       "2   -0.39326  1.018806      0.077545         0    3    A  0.239629   \n",
       "3   -0.39326  1.018806      0.077545         0    4    A  0.239629   \n",
       "4   -0.39326  1.018806      0.077545         0    5    A  0.239629   \n",
       "\n",
       "   Weekly_Sales Week Month  Year Week of Month  \n",
       "0      24924.50   17     5  2010    First Week  \n",
       "1      50605.27   17     5  2010    First Week  \n",
       "2      13740.12   17     5  2010    First Week  \n",
       "3      39954.04   17     5  2010    First Week  \n",
       "4      32229.38   17     5  2010    First Week  "
      ]
     },
     "execution_count": 50,
     "metadata": {},
     "output_type": "execute_result"
    }
   ],
   "source": [
    "df.head()"
   ]
  },
  {
   "cell_type": "code",
   "execution_count": 51,
   "metadata": {},
   "outputs": [
    {
     "data": {
      "text/plain": [
       "(418660, 162)"
      ]
     },
     "execution_count": 51,
     "metadata": {},
     "output_type": "execute_result"
    }
   ],
   "source": [
    "df_dummies_week_of_month = pd.get_dummies(df.drop('Week', axis=1))\n",
    "df_dummies_week_of_month.shape"
   ]
  },
  {
   "cell_type": "code",
   "execution_count": 52,
   "metadata": {},
   "outputs": [
    {
     "data": {
      "text/plain": [
       "Index(['Temperature', 'Fuel_Price', 'MarkDown1', 'MarkDown2', 'MarkDown3',\n",
       "       'MarkDown4', 'MarkDown5', 'CPI', 'Unemployment', 'Size',\n",
       "       ...\n",
       "       'Month_11', 'Month_12', 'Year_2010', 'Year_2011', 'Year_2012',\n",
       "       'Week of Month_Fifth Week', 'Week of Month_First Week',\n",
       "       'Week of Month_Fourth Week', 'Week of Month_Second Week',\n",
       "       'Week of Month_Third Week'],\n",
       "      dtype='object', length=162)"
      ]
     },
     "execution_count": 52,
     "metadata": {},
     "output_type": "execute_result"
    }
   ],
   "source": [
    "df_dummies_week_of_month.columns"
   ]
  },
  {
   "cell_type": "code",
   "execution_count": 53,
   "metadata": {},
   "outputs": [],
   "source": [
    "X = df_dummies_week_of_month.drop('Weekly_Sales', axis=1).values\n",
    "y = df_dummies_week_of_month['Weekly_Sales'].values.reshape(-1, 1)"
   ]
  },
  {
   "cell_type": "code",
   "execution_count": 54,
   "metadata": {},
   "outputs": [],
   "source": [
    "X_train, X_test, y_train, y_test = train_test_split(X, y, test_size=0.25, random_state=0)"
   ]
  },
  {
   "cell_type": "code",
   "execution_count": 55,
   "metadata": {},
   "outputs": [],
   "source": [
    "ridge = Ridge(alpha=0.1)"
   ]
  },
  {
   "cell_type": "code",
   "execution_count": 56,
   "metadata": {},
   "outputs": [
    {
     "data": {
      "text/plain": [
       "Ridge(alpha=0.1)"
      ]
     },
     "execution_count": 56,
     "metadata": {},
     "output_type": "execute_result"
    }
   ],
   "source": [
    "ridge.fit(X_train, y_train)"
   ]
  },
  {
   "cell_type": "code",
   "execution_count": 57,
   "metadata": {},
   "outputs": [
    {
     "name": "stdout",
     "output_type": "stream",
     "text": [
      "R2 using L2 regularization on scaled test data, week of the month: 0.66808544496466\n",
      "RMSE using L2 regularization on scaled test data, week of the month: 13004.320585209301\n"
     ]
    }
   ],
   "source": [
    "y_pred = ridge.predict(X_test)\n",
    "\n",
    "print('R2 using L2 regularization on scaled test data, week of the month: {}'.format(metrics.r2_score(y_test, y_pred)))\n",
    "print('RMSE using L2 regularization on scaled test data, week of the month: {}'.format(np.sqrt(metrics.mean_squared_error(y_test, y_pred))))"
   ]
  },
  {
   "cell_type": "code",
   "execution_count": 58,
   "metadata": {},
   "outputs": [],
   "source": [
    "#get the feature names for dataframe with weeks of the month\n",
    "column_names_week_of_month = df_dummies_week_of_month.drop('Weekly_Sales', axis=1).columns"
   ]
  },
  {
   "cell_type": "code",
   "execution_count": 59,
   "metadata": {},
   "outputs": [
    {
     "data": {
      "text/plain": [
       "Index(['Temperature', 'Fuel_Price', 'MarkDown1', 'MarkDown2', 'MarkDown3',\n",
       "       'MarkDown4', 'MarkDown5', 'CPI', 'Unemployment', 'Size',\n",
       "       ...\n",
       "       'Month_11', 'Month_12', 'Year_2010', 'Year_2011', 'Year_2012',\n",
       "       'Week of Month_Fifth Week', 'Week of Month_First Week',\n",
       "       'Week of Month_Fourth Week', 'Week of Month_Second Week',\n",
       "       'Week of Month_Third Week'],\n",
       "      dtype='object', length=161)"
      ]
     },
     "execution_count": 59,
     "metadata": {},
     "output_type": "execute_result"
    }
   ],
   "source": [
    "column_names_week_of_month"
   ]
  },
  {
   "cell_type": "code",
   "execution_count": 60,
   "metadata": {},
   "outputs": [
    {
     "data": {
      "text/plain": [
       "161"
      ]
     },
     "execution_count": 60,
     "metadata": {},
     "output_type": "execute_result"
    }
   ],
   "source": [
    "#create a dataframe that shows the coefficient for each feature\n",
    "coef_df = pd.DataFrame({'feature':column_names_week_of_month, 'coefficient':ridge.coef_[0]})\n",
    "len(coef_df)"
   ]
  },
  {
   "cell_type": "code",
   "execution_count": 61,
   "metadata": {},
   "outputs": [
    {
     "data": {
      "text/html": [
       "<div>\n",
       "<style scoped>\n",
       "    .dataframe tbody tr th:only-of-type {\n",
       "        vertical-align: middle;\n",
       "    }\n",
       "\n",
       "    .dataframe tbody tr th {\n",
       "        vertical-align: top;\n",
       "    }\n",
       "\n",
       "    .dataframe thead th {\n",
       "        text-align: right;\n",
       "    }\n",
       "</style>\n",
       "<table border=\"1\" class=\"dataframe\">\n",
       "  <thead>\n",
       "    <tr style=\"text-align: right;\">\n",
       "      <th></th>\n",
       "      <th>feature</th>\n",
       "      <th>coefficient</th>\n",
       "    </tr>\n",
       "  </thead>\n",
       "  <tbody>\n",
       "    <tr>\n",
       "      <th>58</th>\n",
       "      <td>Dept_2</td>\n",
       "      <td>30672.392821</td>\n",
       "    </tr>\n",
       "    <tr>\n",
       "      <th>60</th>\n",
       "      <td>Dept_4</td>\n",
       "      <td>13210.240526</td>\n",
       "    </tr>\n",
       "    <tr>\n",
       "      <th>63</th>\n",
       "      <td>Dept_7</td>\n",
       "      <td>11651.227760</td>\n",
       "    </tr>\n",
       "    <tr>\n",
       "      <th>64</th>\n",
       "      <td>Dept_8</td>\n",
       "      <td>17363.011552</td>\n",
       "    </tr>\n",
       "    <tr>\n",
       "      <th>69</th>\n",
       "      <td>Dept_13</td>\n",
       "      <td>17859.322239</td>\n",
       "    </tr>\n",
       "    <tr>\n",
       "      <th>74</th>\n",
       "      <td>Dept_19</td>\n",
       "      <td>-13852.674409</td>\n",
       "    </tr>\n",
       "    <tr>\n",
       "      <th>82</th>\n",
       "      <td>Dept_27</td>\n",
       "      <td>-12695.205001</td>\n",
       "    </tr>\n",
       "    <tr>\n",
       "      <th>83</th>\n",
       "      <td>Dept_28</td>\n",
       "      <td>-12761.888503</td>\n",
       "    </tr>\n",
       "    <tr>\n",
       "      <th>85</th>\n",
       "      <td>Dept_30</td>\n",
       "      <td>-10891.067357</td>\n",
       "    </tr>\n",
       "    <tr>\n",
       "      <th>86</th>\n",
       "      <td>Dept_31</td>\n",
       "      <td>-11213.741207</td>\n",
       "    </tr>\n",
       "    <tr>\n",
       "      <th>90</th>\n",
       "      <td>Dept_35</td>\n",
       "      <td>-12043.263173</td>\n",
       "    </tr>\n",
       "    <tr>\n",
       "      <th>91</th>\n",
       "      <td>Dept_36</td>\n",
       "      <td>-12992.407356</td>\n",
       "    </tr>\n",
       "    <tr>\n",
       "      <th>92</th>\n",
       "      <td>Dept_37</td>\n",
       "      <td>-16061.056415</td>\n",
       "    </tr>\n",
       "    <tr>\n",
       "      <th>93</th>\n",
       "      <td>Dept_38</td>\n",
       "      <td>48315.170558</td>\n",
       "    </tr>\n",
       "    <tr>\n",
       "      <th>94</th>\n",
       "      <td>Dept_39</td>\n",
       "      <td>-21173.166513</td>\n",
       "    </tr>\n",
       "    <tr>\n",
       "      <th>95</th>\n",
       "      <td>Dept_40</td>\n",
       "      <td>32005.663023</td>\n",
       "    </tr>\n",
       "    <tr>\n",
       "      <th>96</th>\n",
       "      <td>Dept_41</td>\n",
       "      <td>-12792.664501</td>\n",
       "    </tr>\n",
       "    <tr>\n",
       "      <th>98</th>\n",
       "      <td>Dept_43</td>\n",
       "      <td>-14523.361598</td>\n",
       "    </tr>\n",
       "    <tr>\n",
       "      <th>100</th>\n",
       "      <td>Dept_45</td>\n",
       "      <td>-15885.539493</td>\n",
       "    </tr>\n",
       "    <tr>\n",
       "      <th>102</th>\n",
       "      <td>Dept_47</td>\n",
       "      <td>-16167.540360</td>\n",
       "    </tr>\n",
       "    <tr>\n",
       "      <th>103</th>\n",
       "      <td>Dept_48</td>\n",
       "      <td>-17258.346074</td>\n",
       "    </tr>\n",
       "    <tr>\n",
       "      <th>105</th>\n",
       "      <td>Dept_50</td>\n",
       "      <td>-16913.881372</td>\n",
       "    </tr>\n",
       "    <tr>\n",
       "      <th>106</th>\n",
       "      <td>Dept_51</td>\n",
       "      <td>-14866.556773</td>\n",
       "    </tr>\n",
       "    <tr>\n",
       "      <th>107</th>\n",
       "      <td>Dept_52</td>\n",
       "      <td>-11230.542565</td>\n",
       "    </tr>\n",
       "    <tr>\n",
       "      <th>108</th>\n",
       "      <td>Dept_54</td>\n",
       "      <td>-15352.850554</td>\n",
       "    </tr>\n",
       "    <tr>\n",
       "      <th>110</th>\n",
       "      <td>Dept_56</td>\n",
       "      <td>-10034.702649</td>\n",
       "    </tr>\n",
       "    <tr>\n",
       "      <th>111</th>\n",
       "      <td>Dept_58</td>\n",
       "      <td>-12715.297530</td>\n",
       "    </tr>\n",
       "    <tr>\n",
       "      <th>112</th>\n",
       "      <td>Dept_59</td>\n",
       "      <td>-12553.413670</td>\n",
       "    </tr>\n",
       "    <tr>\n",
       "      <th>113</th>\n",
       "      <td>Dept_60</td>\n",
       "      <td>-12161.548126</td>\n",
       "    </tr>\n",
       "    <tr>\n",
       "      <th>114</th>\n",
       "      <td>Dept_65</td>\n",
       "      <td>33893.685034</td>\n",
       "    </tr>\n",
       "    <tr>\n",
       "      <th>117</th>\n",
       "      <td>Dept_72</td>\n",
       "      <td>37520.739431</td>\n",
       "    </tr>\n",
       "    <tr>\n",
       "      <th>119</th>\n",
       "      <td>Dept_77</td>\n",
       "      <td>-18023.195445</td>\n",
       "    </tr>\n",
       "    <tr>\n",
       "      <th>120</th>\n",
       "      <td>Dept_78</td>\n",
       "      <td>-16940.256140</td>\n",
       "    </tr>\n",
       "    <tr>\n",
       "      <th>125</th>\n",
       "      <td>Dept_83</td>\n",
       "      <td>-10117.652678</td>\n",
       "    </tr>\n",
       "    <tr>\n",
       "      <th>126</th>\n",
       "      <td>Dept_85</td>\n",
       "      <td>-11239.247337</td>\n",
       "    </tr>\n",
       "    <tr>\n",
       "      <th>128</th>\n",
       "      <td>Dept_90</td>\n",
       "      <td>32556.729833</td>\n",
       "    </tr>\n",
       "    <tr>\n",
       "      <th>129</th>\n",
       "      <td>Dept_91</td>\n",
       "      <td>21006.646639</td>\n",
       "    </tr>\n",
       "    <tr>\n",
       "      <th>130</th>\n",
       "      <td>Dept_92</td>\n",
       "      <td>62390.937197</td>\n",
       "    </tr>\n",
       "    <tr>\n",
       "      <th>131</th>\n",
       "      <td>Dept_93</td>\n",
       "      <td>13798.247138</td>\n",
       "    </tr>\n",
       "    <tr>\n",
       "      <th>132</th>\n",
       "      <td>Dept_94</td>\n",
       "      <td>20576.289161</td>\n",
       "    </tr>\n",
       "    <tr>\n",
       "      <th>133</th>\n",
       "      <td>Dept_95</td>\n",
       "      <td>57177.480343</td>\n",
       "    </tr>\n",
       "    <tr>\n",
       "      <th>137</th>\n",
       "      <td>Dept_99</td>\n",
       "      <td>-18660.937914</td>\n",
       "    </tr>\n",
       "  </tbody>\n",
       "</table>\n",
       "</div>"
      ],
      "text/plain": [
       "     feature   coefficient\n",
       "58    Dept_2  30672.392821\n",
       "60    Dept_4  13210.240526\n",
       "63    Dept_7  11651.227760\n",
       "64    Dept_8  17363.011552\n",
       "69   Dept_13  17859.322239\n",
       "74   Dept_19 -13852.674409\n",
       "82   Dept_27 -12695.205001\n",
       "83   Dept_28 -12761.888503\n",
       "85   Dept_30 -10891.067357\n",
       "86   Dept_31 -11213.741207\n",
       "90   Dept_35 -12043.263173\n",
       "91   Dept_36 -12992.407356\n",
       "92   Dept_37 -16061.056415\n",
       "93   Dept_38  48315.170558\n",
       "94   Dept_39 -21173.166513\n",
       "95   Dept_40  32005.663023\n",
       "96   Dept_41 -12792.664501\n",
       "98   Dept_43 -14523.361598\n",
       "100  Dept_45 -15885.539493\n",
       "102  Dept_47 -16167.540360\n",
       "103  Dept_48 -17258.346074\n",
       "105  Dept_50 -16913.881372\n",
       "106  Dept_51 -14866.556773\n",
       "107  Dept_52 -11230.542565\n",
       "108  Dept_54 -15352.850554\n",
       "110  Dept_56 -10034.702649\n",
       "111  Dept_58 -12715.297530\n",
       "112  Dept_59 -12553.413670\n",
       "113  Dept_60 -12161.548126\n",
       "114  Dept_65  33893.685034\n",
       "117  Dept_72  37520.739431\n",
       "119  Dept_77 -18023.195445\n",
       "120  Dept_78 -16940.256140\n",
       "125  Dept_83 -10117.652678\n",
       "126  Dept_85 -11239.247337\n",
       "128  Dept_90  32556.729833\n",
       "129  Dept_91  21006.646639\n",
       "130  Dept_92  62390.937197\n",
       "131  Dept_93  13798.247138\n",
       "132  Dept_94  20576.289161\n",
       "133  Dept_95  57177.480343\n",
       "137  Dept_99 -18660.937914"
      ]
     },
     "execution_count": 61,
     "metadata": {},
     "output_type": "execute_result"
    }
   ],
   "source": [
    "#isolate departments with significiant coefficients\n",
    "coef_df.loc[(np.abs(coef_df['coefficient']) > 10000) & (coef_df['feature'].str.contains('Dept'))]"
   ]
  },
  {
   "cell_type": "code",
   "execution_count": 62,
   "metadata": {},
   "outputs": [
    {
     "name": "stdout",
     "output_type": "stream",
     "text": [
      "Number of department columns to drop: 39\n"
     ]
    },
    {
     "data": {
      "text/plain": [
       "['Dept_1',\n",
       " 'Dept_3',\n",
       " 'Dept_5',\n",
       " 'Dept_6',\n",
       " 'Dept_9',\n",
       " 'Dept_10',\n",
       " 'Dept_11',\n",
       " 'Dept_12',\n",
       " 'Dept_14',\n",
       " 'Dept_16',\n",
       " 'Dept_17',\n",
       " 'Dept_18',\n",
       " 'Dept_20',\n",
       " 'Dept_21',\n",
       " 'Dept_22',\n",
       " 'Dept_23',\n",
       " 'Dept_24',\n",
       " 'Dept_25',\n",
       " 'Dept_26',\n",
       " 'Dept_29',\n",
       " 'Dept_32',\n",
       " 'Dept_33',\n",
       " 'Dept_34',\n",
       " 'Dept_42',\n",
       " 'Dept_44',\n",
       " 'Dept_46',\n",
       " 'Dept_49',\n",
       " 'Dept_55',\n",
       " 'Dept_67',\n",
       " 'Dept_71',\n",
       " 'Dept_74',\n",
       " 'Dept_79',\n",
       " 'Dept_80',\n",
       " 'Dept_81',\n",
       " 'Dept_82',\n",
       " 'Dept_87',\n",
       " 'Dept_96',\n",
       " 'Dept_97',\n",
       " 'Dept_98']"
      ]
     },
     "metadata": {},
     "output_type": "display_data"
    }
   ],
   "source": [
    "#create a list of departments to drop based on coefficients\n",
    "dept_to_drop = coef_df.loc[(np.abs(coef_df['coefficient']) < 10000) & (coef_df['feature'].str.contains('Dept'))]\n",
    "list_of_dept_to_drop = list(dept_to_drop['feature'])\n",
    "print(f'Number of department columns to drop: {len(list_of_dept_to_drop)}')\n",
    "display(list_of_dept_to_drop)"
   ]
  },
  {
   "cell_type": "code",
   "execution_count": 63,
   "metadata": {},
   "outputs": [
    {
     "data": {
      "text/plain": [
       "(418660, 123)"
      ]
     },
     "execution_count": 63,
     "metadata": {},
     "output_type": "execute_result"
    }
   ],
   "source": [
    "df_dummies_week_of_month_best_dept = df_dummies_week_of_month.drop(list_of_dept_to_drop, axis=1)\n",
    "df_dummies_week_of_month_best_dept.shape"
   ]
  },
  {
   "cell_type": "code",
   "execution_count": 64,
   "metadata": {},
   "outputs": [
    {
     "data": {
      "text/plain": [
       "Index(['Temperature', 'Fuel_Price', 'MarkDown1', 'MarkDown2', 'MarkDown3',\n",
       "       'MarkDown4', 'MarkDown5', 'CPI', 'Unemployment', 'Size',\n",
       "       ...\n",
       "       'Month_11', 'Month_12', 'Year_2010', 'Year_2011', 'Year_2012',\n",
       "       'Week of Month_Fifth Week', 'Week of Month_First Week',\n",
       "       'Week of Month_Fourth Week', 'Week of Month_Second Week',\n",
       "       'Week of Month_Third Week'],\n",
       "      dtype='object', length=162)"
      ]
     },
     "execution_count": 64,
     "metadata": {},
     "output_type": "execute_result"
    }
   ],
   "source": [
    "df_dummies_week_of_month.columns"
   ]
  },
  {
   "cell_type": "code",
   "execution_count": 72,
   "metadata": {},
   "outputs": [],
   "source": [
    "X = df_dummies_week_of_month_best_dept.drop('Weekly_Sales', axis=1).values\n",
    "y = df_dummies_week_of_month_best_dept['Weekly_Sales'].values.reshape(-1, 1)\n",
    "\n",
    "y = y.reshape(len(y))"
   ]
  },
  {
   "cell_type": "code",
   "execution_count": 73,
   "metadata": {},
   "outputs": [],
   "source": [
    "X_train, X_test, y_train, y_test = train_test_split(X, y, test_size=0.25, random_state=0)"
   ]
  },
  {
   "cell_type": "code",
   "execution_count": 74,
   "metadata": {},
   "outputs": [],
   "source": [
    "ridge = Ridge(alpha=0.1)"
   ]
  },
  {
   "cell_type": "code",
   "execution_count": 75,
   "metadata": {},
   "outputs": [
    {
     "data": {
      "text/plain": [
       "Ridge(alpha=0.1)"
      ]
     },
     "execution_count": 75,
     "metadata": {},
     "output_type": "execute_result"
    }
   ],
   "source": [
    "ridge.fit(X_train, y_train)"
   ]
  },
  {
   "cell_type": "code",
   "execution_count": 76,
   "metadata": {},
   "outputs": [
    {
     "name": "stdout",
     "output_type": "stream",
     "text": [
      "R2 using L2 regularization on scaled test data, week of the month, best dept: 0.6291037700855815\n",
      "RMSE using L2 regularization on scaled test data, week of the month, best dept: 13746.77194764753\n"
     ]
    }
   ],
   "source": [
    "y_pred = ridge.predict(X_test)\n",
    "\n",
    "print('R2 using L2 regularization on scaled test data, week of the month, best dept: {}'.format(metrics.r2_score(y_test, y_pred)))\n",
    "print('RMSE using L2 regularization on scaled test data, week of the month, best dept: {}'.format(np.sqrt(metrics.mean_squared_error(y_test, y_pred))))"
   ]
  },
  {
   "cell_type": "code",
   "execution_count": 77,
   "metadata": {},
   "outputs": [
    {
     "name": "stdout",
     "output_type": "stream",
     "text": [
      "(313995, 122)\n",
      "(104665, 122)\n"
     ]
    }
   ],
   "source": [
    "print(X_train.shape)\n",
    "print(X_test.shape)"
   ]
  },
  {
   "cell_type": "markdown",
   "metadata": {},
   "source": [
    "With 121 features, we still end up with similar results to the models with all features."
   ]
  }
 ],
 "metadata": {
  "kernelspec": {
   "display_name": "Python 3",
   "language": "python",
   "name": "python3"
  },
  "language_info": {
   "codemirror_mode": {
    "name": "ipython",
    "version": 3
   },
   "file_extension": ".py",
   "mimetype": "text/x-python",
   "name": "python",
   "nbconvert_exporter": "python",
   "pygments_lexer": "ipython3",
   "version": "3.8.3"
  }
 },
 "nbformat": 4,
 "nbformat_minor": 4
}
